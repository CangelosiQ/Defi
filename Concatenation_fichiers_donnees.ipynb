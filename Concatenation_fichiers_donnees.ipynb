{
 "cells": [
  {
   "cell_type": "code",
   "execution_count": 2,
   "metadata": {},
   "outputs": [
    {
     "name": "stdout",
     "output_type": "stream",
     "text": [
      "Nombre de lignes : 6167\n",
      "Nombre de colonnes : 31"
     ]
    }
   ],
   "source": [
    "path=\"./../data_meteo/\"\n",
    "meteo1=read.table(paste(path,\"train_1.csv\",sep=\"\"),sep=\";\",header=T,dec=\",\")\n",
    "# Vérification du contenu\n",
    "cat(\"Nombre de lignes :\",nrow(meteo));\n",
    "cat(\"\\nNombre de colonnes :\",ncol(meteo))\n",
    "#summary(meteo)"
   ]
  },
  {
   "cell_type": "code",
   "execution_count": 5,
   "metadata": {},
   "outputs": [
    {
     "name": "stdout",
     "output_type": "stream",
     "text": [
      "train_10.csv train_11.csv train_12.csv train_13.csv train_14.csv train_15.csv train_16.csv train_17.csv train_18.csv train_19.csv train_1.csv train_20.csv train_21.csv train_22.csv train_23.csv train_24.csv train_25.csv train_26.csv train_27.csv train_28.csv train_29.csv train_2.csv train_30.csv train_31.csv train_32.csv train_33.csv train_34.csv train_35.csv train_36.csv train_3.csv train_4.csv train_5.csv train_6.csv train_7.csv train_8.csv train_9.csv"
     ]
    }
   ],
   "source": [
    "files = NULL\n",
    "for (i in list.files(path,pattern=\"train*.\")) {\n",
    "    files =c(files, i)\n",
    "}\n",
    "cat(files)"
   ]
  },
  {
   "cell_type": "code",
   "execution_count": null,
   "metadata": {
    "collapsed": true
   },
   "outputs": [],
   "source": [
    "function open_and_transform(file) {\n",
    "    path = './../data_meteo/'\n",
    "    df = read.table(paste(path,\"train_1.csv\",sep=\"\"),sep=\";\",header=T,dec=\",\")\n",
    "    cat(\"Dimensions :\", nrow(df), ncol(df))\n",
    "    \n",
    "}\n",
    "\n",
    "def open_and_transform(file):\n",
    "    path='./../data_meteo/'\n",
    "    #input_file='./../data_meteo/train_1.csv'\n",
    "    df = pd.read_csv(path+file, header=0, delimiter=\";\",decimal=\",\")\n",
    "    print(\"Dimensions:\",np.shape(df))\n",
    "    df['date']=df['date'].apply(lambda x: dt.datetime.strptime(x, '%Y-%m-%d'))\n",
    "    df['insee'] = df['insee'].astype('category')\n",
    "    df['mois'] = df['mois'].astype('category')\n",
    "    df['ddH10_rose4'] = df['ddH10_rose4'].astype('category')\n",
    "    df['ech'] = df['ech'].astype('category')\n",
    "    df['flvis1SOL0'] = df['flvis1SOL0'].astype('category')\n",
    "    #print(\"Fichier\",file,\" ouvert.\")\n",
    "    return df\n",
    "\n"
   ]
  }
 ],
 "metadata": {
  "kernelspec": {
   "display_name": "R",
   "language": "R",
   "name": "ir"
  },
  "language_info": {
   "codemirror_mode": "r",
   "file_extension": ".r",
   "mimetype": "text/x-r-source",
   "name": "R",
   "pygments_lexer": "r",
   "version": "3.4.1"
  }
 },
 "nbformat": 4,
 "nbformat_minor": 2
}
