{
 "cells": [
  {
   "cell_type": "code",
   "execution_count": 25,
   "metadata": {},
   "outputs": [],
   "source": [
    "open_and_transform <- function(file) {\n",
    "    path = './../data_meteo/'\n",
    "    df = read.table(paste(path,file,sep=\"\"),sep=\";\",header=T,dec=\",\")\n",
    "    cat(\"Dimensions :\", nrow(df), ncol(df),\"\\n\")\n",
    "    df[,1]<-as.Date(as.character(df[,1]), \"%Y-%m-%d\")\n",
    "    df$insee<-as.factor(df$insee)\n",
    "    df$mois<-as.factor(df$mois)\n",
    "    df$ddH10_rose4<-as.factor(df$ddH10_rose4)\n",
    "    df$ech<-as.factor(df$ech)\n",
    "    df$ddH10_rose4[is.na(match(df$ddH10_rose4,levels(df$ddH10_rose4)[2:5]))]<-NA\n",
    "    return(df)\n",
    "}"
   ]
  },
  {
   "cell_type": "code",
   "execution_count": 28,
   "metadata": {},
   "outputs": [
    {
     "name": "stdout",
     "output_type": "stream",
     "text": [
      "Dimensions : 5740 31 \n",
      "Dimensions : 5740 31 \n",
      "Dimensions : 5740 31 \n",
      "Dimensions : 5740 31 \n",
      "Dimensions : 5740 31 \n",
      "Dimensions : 5740 31 \n",
      "Dimensions : 5740 31 \n",
      "Dimensions : 5740 31 \n",
      "Dimensions : 5740 31 \n",
      "Dimensions : 5740 31 \n",
      "Dimensions : 6167 31 \n",
      "Dimensions : 5740 31 \n",
      "Dimensions : 5740 31 \n",
      "Dimensions : 6167 31 \n",
      "Dimensions : 6167 31 \n",
      "Dimensions : 6167 31 \n",
      "Dimensions : 6167 31 \n",
      "Dimensions : 6167 31 \n",
      "Dimensions : 6167 31 \n",
      "Dimensions : 6167 31 \n",
      "Dimensions : 6167 31 \n",
      "Dimensions : 5740 31 \n",
      "Dimensions : 6167 31 \n",
      "Dimensions : 2135 31 \n",
      "Dimensions : 2135 31 \n",
      "Dimensions : 2135 31 \n",
      "Dimensions : 2135 31 \n",
      "Dimensions : 2135 31 \n",
      "Dimensions : 2135 31 \n",
      "Dimensions : 5740 31 \n",
      "Dimensions : 5740 31 \n",
      "Dimensions : 5740 31 \n",
      "Dimensions : 5740 31 \n",
      "Dimensions : 5740 31 \n",
      "Dimensions : 5740 31 \n",
      "Dimensions : 5740 31 \n"
     ]
    }
   ],
   "source": [
    "df_tot=data.frame()\n",
    "for (file in list.files(path,pattern=\"train*.\")) {\n",
    "    df_tot=rbind(df_tot,open_and_transform(file))\n",
    "}"
   ]
  },
  {
   "cell_type": "code",
   "execution_count": 29,
   "metadata": {
    "scrolled": true
   },
   "outputs": [
    {
     "data": {
      "text/html": [
       "189280"
      ],
      "text/latex": [
       "189280"
      ],
      "text/markdown": [
       "189280"
      ],
      "text/plain": [
       "[1] 189280"
      ]
     },
     "metadata": {},
     "output_type": "display_data"
    }
   ],
   "source": [
    "nrow(df_tot)"
   ]
  }
 ],
 "metadata": {
  "kernelspec": {
   "display_name": "R",
   "language": "R",
   "name": "ir"
  },
  "language_info": {
   "codemirror_mode": "r",
   "file_extension": ".r",
   "mimetype": "text/x-r-source",
   "name": "R",
   "pygments_lexer": "r",
   "version": "3.4.1"
  }
 },
 "nbformat": 4,
 "nbformat_minor": 2
}
