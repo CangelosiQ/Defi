{
 "cells": [
  {
   "cell_type": "markdown",
   "metadata": {},
   "source": [
    "# Défi Grosses Data 2018"
   ]
  },
  {
   "cell_type": "markdown",
   "metadata": {},
   "source": [
    "## Début Commun pour tous"
   ]
  },
  {
   "cell_type": "code",
   "execution_count": 21,
   "metadata": {},
   "outputs": [
    {
     "data": {
      "text/plain": [
       "<module 'Annex' from 'C:\\\\Users\\\\Quentin\\\\Documents\\\\INSA\\\\5GMM\\\\Defi\\\\Annex.py'>"
      ]
     },
     "execution_count": 21,
     "metadata": {},
     "output_type": "execute_result"
    }
   ],
   "source": [
    "import numpy as np\n",
    "import pandas as pd\n",
    "import datetime as dt\n",
    "from os import listdir\n",
    "import imp\n",
    "import Annex\n",
    "imp.reload(Annex)"
   ]
  },
  {
   "cell_type": "code",
   "execution_count": 23,
   "metadata": {},
   "outputs": [
    {
     "name": "stdout",
     "output_type": "stream",
     "text": [
      "We are addressing your request.\n",
      "Data has been imported. Size: (189280, 31)\n",
      "Months converted to int.\n",
      "Feature ech converted in category type.\n",
      "Dummies added.\n",
      "Date dropped.\n",
      "26528 data points deleted. 14.02 %\n",
      "Train size: 113926, Test size: 48826\n",
      "Data scaled\n"
     ]
    }
   ],
   "source": [
    "X_train,X_test,Y_train,Y_test,X,Y,scaler=Annex.get_data_raw(scale=True, \n",
    "                                                        add_dummies=True,\n",
    "                                                        var_dummies=['insee','ddH10_rose4','ech'],\n",
    "                                                        TrainTestSplit=True,\n",
    "                                                        sz_test=0.3,\n",
    "                                                        impute_method='drop',\n",
    "                                                        convert_month2int=True,\n",
    "                                                        date_method='drop')"
   ]
  },
  {
   "cell_type": "code",
   "execution_count": 25,
   "metadata": {},
   "outputs": [
    {
     "data": {
      "text/plain": [
       "capeinsSOL0        float64\n",
       "ciwcH20            float64\n",
       "clwcH20            float64\n",
       "ffH10              float64\n",
       "flir1SOL0          float64\n",
       "fllat1SOL0         float64\n",
       "flsen1SOL0         float64\n",
       "flvis1SOL0         float64\n",
       "hcoulimSOL0        float64\n",
       "huH2               float64\n",
       "iwcSOL0            float64\n",
       "nbSOL0_HMoy        float64\n",
       "nH20               float64\n",
       "ntSOL0_HMoy        float64\n",
       "pMER0              float64\n",
       "rr1SOL0            float64\n",
       "rrH20              float64\n",
       "tH2                float64\n",
       "tH2_VGrad_2.100    float64\n",
       "tH2_XGrad          float64\n",
       "tH2_YGrad          float64\n",
       "tpwHPA850          float64\n",
       "ux1H10             float64\n",
       "vapcSOL0           float64\n",
       "vx1H10             float64\n",
       "mois                 int32\n",
       "insee_6088001        uint8\n",
       "insee_31069001       uint8\n",
       "insee_33281001       uint8\n",
       "insee_35281001       uint8\n",
       "                    ...   \n",
       "ech_7                uint8\n",
       "ech_8                uint8\n",
       "ech_9                uint8\n",
       "ech_10               uint8\n",
       "ech_11               uint8\n",
       "ech_12               uint8\n",
       "ech_13               uint8\n",
       "ech_14               uint8\n",
       "ech_15               uint8\n",
       "ech_16               uint8\n",
       "ech_17               uint8\n",
       "ech_18               uint8\n",
       "ech_19               uint8\n",
       "ech_20               uint8\n",
       "ech_21               uint8\n",
       "ech_22               uint8\n",
       "ech_23               uint8\n",
       "ech_24               uint8\n",
       "ech_25               uint8\n",
       "ech_26               uint8\n",
       "ech_27               uint8\n",
       "ech_28               uint8\n",
       "ech_29               uint8\n",
       "ech_30               uint8\n",
       "ech_31               uint8\n",
       "ech_32               uint8\n",
       "ech_33               uint8\n",
       "ech_34               uint8\n",
       "ech_35               uint8\n",
       "ech_36               uint8\n",
       "Length: 73, dtype: object"
      ]
     },
     "execution_count": 25,
     "metadata": {},
     "output_type": "execute_result"
    }
   ],
   "source": [
    "X.dtypes"
   ]
  },
  {
   "cell_type": "markdown",
   "metadata": {},
   "source": [
    "## Maintenant, faites votre vie!"
   ]
  },
  {
   "cell_type": "markdown",
   "metadata": {},
   "source": [
    "## Submission"
   ]
  },
  {
   "cell_type": "code",
   "execution_count": null,
   "metadata": {
    "collapsed": true
   },
   "outputs": [],
   "source": [
    "df_TEST=Annex.load_test_set() # Charge le jeu de données test"
   ]
  },
  {
   "cell_type": "markdown",
   "metadata": {},
   "source": [
    "ATTENTION - il faut effectuer le même traitement sur les données test que celui effectué sur les données d'apprentissage"
   ]
  },
  {
   "cell_type": "code",
   "execution_count": null,
   "metadata": {
    "collapsed": true
   },
   "outputs": [],
   "source": [
    "#df_TEST.shape, df_TEST.info()\n",
    "#df_TEST=Annex.convert_month_to_int(df_TEST)\n",
    "#df_dummies=pd.get_dummies(df_TEST[['insee']])\n",
    "#df_TEST_full_qtt=pd.concat([df_TEST,df_dummies],axis=1)\n",
    "#df_TEST_full_qtt.flir1SOL0=df_TEST_full_qtt.flir1SOL0.fillna(0)\n",
    "#df_TEST_full_qtt.fllat1SOL0=df_TEST_full_qtt.fllat1SOL0.fillna(0)\n",
    "#df_TEST_full_qtt.flsen1SOL0=df_TEST_full_qtt.flsen1SOL0.fillna(0)\n",
    "#df_TEST_full_qtt.flvis1SOL0=df_TEST_full_qtt.flvis1SOL0.fillna(0)\n",
    "#df_TEST_full_qtt.rr1SOL0=df_TEST_full_qtt.rr1SOL0.fillna(0)\n",
    "#df_TEST_full_qtt=df_TEST_full_qtt.drop(['insee','date'],axis=1)"
   ]
  },
  {
   "cell_type": "code",
   "execution_count": null,
   "metadata": {
    "collapsed": true
   },
   "outputs": [],
   "source": [
    "X_TEST = scaler.transform(df_TEST_full_qtt) # Normalise les données\n",
    "Y_PRED = nnetOpt.predict(X_TEST) # Ici , changer nnetOpt par votre modèle de prédiction entraîné"
   ]
  },
  {
   "cell_type": "code",
   "execution_count": null,
   "metadata": {
    "collapsed": true
   },
   "outputs": [],
   "source": [
    "Annex.generate_submission_file('submission_17nov2017_10h30.csv', Y_PRED) #changer le nom si vous voulez"
   ]
  }
 ],
 "metadata": {
  "kernelspec": {
   "display_name": "Python 3",
   "language": "python",
   "name": "python3"
  },
  "language_info": {
   "codemirror_mode": {
    "name": "ipython",
    "version": 3
   },
   "file_extension": ".py",
   "mimetype": "text/x-python",
   "name": "python",
   "nbconvert_exporter": "python",
   "pygments_lexer": "ipython3",
   "version": "3.6.2"
  }
 },
 "nbformat": 4,
 "nbformat_minor": 2
}
