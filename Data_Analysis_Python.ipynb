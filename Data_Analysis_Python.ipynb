{
 "cells": [
  {
   "cell_type": "markdown",
   "metadata": {},
   "source": [
    "# Défi Grosses Data 2018"
   ]
  },
  {
   "cell_type": "markdown",
   "metadata": {},
   "source": [
    "## Data analysis"
   ]
  },
  {
   "cell_type": "code",
   "execution_count": 3,
   "metadata": {
    "collapsed": true
   },
   "outputs": [],
   "source": [
    "import numpy as np\n",
    "import pandas as pd\n",
    "import datetime as dt\n",
    "from os import listdir"
   ]
  },
  {
   "cell_type": "code",
   "execution_count": 9,
   "metadata": {
    "collapsed": true
   },
   "outputs": [],
   "source": [
    "def open_and_transform(file):\n",
    "    path='./data_meteo/'\n",
    "    #input_file='./../data_meteo/train_1.csv'\n",
    "    df = pd.read_csv(path+file, header=0, delimiter=\";\",decimal=\",\")\n",
    "    #print(\"Dimensions:\",np.shape(df))\n",
    "    df['date']=df['date'].apply(lambda x: dt.datetime.strptime(x, '%Y-%m-%d'))\n",
    "    df['insee'] = df['insee'].astype('category')\n",
    "    df['mois'] = df['mois'].astype('category')\n",
    "    df['ddH10_rose4'] = df['ddH10_rose4'].astype('category')\n",
    "    df['ech'] = df['ech'].astype('category')\n",
    "    df['flvis1SOL0'] = df['flvis1SOL0'].astype('float64')\n",
    "    #print(\"Fichier\",file,\" ouvert.\")\n",
    "    return df"
   ]
  },
  {
   "cell_type": "code",
   "execution_count": 10,
   "metadata": {},
   "outputs": [],
   "source": [
    "listdir('./data_meteo/')\n",
    "list_files=np.empty(36, dtype='|U12')\n",
    "i=0\n",
    "for fichier in listdir('./data_meteo/'):\n",
    "    if 'train' in fichier:\n",
    "        list_files[i]=fichier\n",
    "        i=i+1"
   ]
  },
  {
   "cell_type": "code",
   "execution_count": 11,
   "metadata": {},
   "outputs": [],
   "source": [
    "df_tot=pd.DataFrame()\n",
    "for file in list_files:\n",
    "    df_tot=pd.concat([df_tot,open_and_transform(file)])"
   ]
  },
  {
   "cell_type": "code",
   "execution_count": 12,
   "metadata": {
    "collapsed": true
   },
   "outputs": [],
   "source": [
    "df_tot=df_tot.sort_values(by=['ech','date'],ascending=True)"
   ]
  },
  {
   "cell_type": "code",
   "execution_count": 13,
   "metadata": {},
   "outputs": [
    {
     "data": {
      "text/plain": [
       "(189280, 31)"
      ]
     },
     "execution_count": 13,
     "metadata": {},
     "output_type": "execute_result"
    }
   ],
   "source": [
    "np.shape(df_tot)"
   ]
  },
  {
   "cell_type": "markdown",
   "metadata": {},
   "source": [
    "<b>IMPUTATION DONNEES</b>"
   ]
  },
  {
   "cell_type": "code",
   "execution_count": 14,
   "metadata": {
    "collapsed": true
   },
   "outputs": [],
   "source": [
    "import numpy as np\n",
    "import numpy.ma as ma\n",
    "import random"
   ]
  },
  {
   "cell_type": "code",
   "execution_count": 15,
   "metadata": {},
   "outputs": [
    {
     "data": {
      "text/plain": [
       "array([[Timestamp('2014-01-01 00:00:00'), 6088001, 5.5, ...,\n",
       "        -2.8531336331125803, 1, 'janvier'],\n",
       "       [Timestamp('2014-01-01 00:00:00'), 31069001, 4.800000190734861, ...,\n",
       "        3.01961425625813, 1, 'janvier'],\n",
       "       [Timestamp('2014-01-01 00:00:00'), 33281001, 8.89999961853027, ...,\n",
       "        4.88984864364851, 1, 'janvier'],\n",
       "       ..., \n",
       "       [Timestamp('2016-04-30 00:00:00'), nan, 13.1999998092651, ...,\n",
       "        -6.5780301475478895, 36, 'avril'],\n",
       "       [Timestamp('2016-04-30 00:00:00'), 67124001, nan, ..., nan, 36, nan],\n",
       "       [Timestamp('2016-04-30 00:00:00'), 75114001, 14.6999998092651, ...,\n",
       "        nan, 36, 'avril']], dtype=object)"
      ]
     },
     "execution_count": 15,
     "metadata": {},
     "output_type": "execute_result"
    }
   ],
   "source": [
    "# données initiales avec \n",
    "X=df_tot \n",
    "# Génération de 10% de valeurs manquantes\n",
    "Xna=input_nan(X, .1)\n",
    "Xna"
   ]
  },
  {
   "cell_type": "code",
   "execution_count": 16,
   "metadata": {},
   "outputs": [
    {
     "data": {
      "text/html": [
       "<div>\n",
       "<style>\n",
       "    .dataframe thead tr:only-child th {\n",
       "        text-align: right;\n",
       "    }\n",
       "\n",
       "    .dataframe thead th {\n",
       "        text-align: left;\n",
       "    }\n",
       "\n",
       "    .dataframe tbody tr th {\n",
       "        vertical-align: top;\n",
       "    }\n",
       "</style>\n",
       "<table border=\"1\" class=\"dataframe\">\n",
       "  <thead>\n",
       "    <tr style=\"text-align: right;\">\n",
       "      <th></th>\n",
       "      <th>tH2_obs</th>\n",
       "      <th>capeinsSOL0</th>\n",
       "      <th>ciwcH20</th>\n",
       "      <th>clwcH20</th>\n",
       "      <th>ffH10</th>\n",
       "      <th>flir1SOL0</th>\n",
       "      <th>fllat1SOL0</th>\n",
       "      <th>flsen1SOL0</th>\n",
       "      <th>flvis1SOL0</th>\n",
       "      <th>hcoulimSOL0</th>\n",
       "      <th>...</th>\n",
       "      <th>rrH20</th>\n",
       "      <th>tH2</th>\n",
       "      <th>tH2_VGrad_2.100</th>\n",
       "      <th>tH2_XGrad</th>\n",
       "      <th>tH2_YGrad</th>\n",
       "      <th>tpwHPA850</th>\n",
       "      <th>ux1H10</th>\n",
       "      <th>vapcSOL0</th>\n",
       "      <th>vx1H10</th>\n",
       "      <th>ech</th>\n",
       "    </tr>\n",
       "  </thead>\n",
       "  <tbody>\n",
       "    <tr>\n",
       "      <th>count</th>\n",
       "      <td>189260.000000</td>\n",
       "      <td>170492.000000</td>\n",
       "      <td>1.883070e+05</td>\n",
       "      <td>184800.000000</td>\n",
       "      <td>184702.000000</td>\n",
       "      <td>188118.000000</td>\n",
       "      <td>1.882190e+05</td>\n",
       "      <td>1.881510e+05</td>\n",
       "      <td>1.881810e+05</td>\n",
       "      <td>188307.000000</td>\n",
       "      <td>...</td>\n",
       "      <td>184793.000000</td>\n",
       "      <td>184723.000000</td>\n",
       "      <td>184716.000000</td>\n",
       "      <td>184723.000000</td>\n",
       "      <td>184723.000000</td>\n",
       "      <td>188258.000000</td>\n",
       "      <td>184702.000000</td>\n",
       "      <td>188286.000000</td>\n",
       "      <td>184716.000000</td>\n",
       "      <td>189280.000000</td>\n",
       "    </tr>\n",
       "    <tr>\n",
       "      <th>mean</th>\n",
       "      <td>12.006981</td>\n",
       "      <td>59.169631</td>\n",
       "      <td>5.027560e-08</td>\n",
       "      <td>0.000006</td>\n",
       "      <td>3.406578</td>\n",
       "      <td>-217648.413598</td>\n",
       "      <td>-1.476294e+05</td>\n",
       "      <td>-7.151363e+04</td>\n",
       "      <td>4.136244e+05</td>\n",
       "      <td>490.318652</td>\n",
       "      <td>...</td>\n",
       "      <td>0.003668</td>\n",
       "      <td>12.143805</td>\n",
       "      <td>-0.183838</td>\n",
       "      <td>0.001031</td>\n",
       "      <td>0.000351</td>\n",
       "      <td>9.477384</td>\n",
       "      <td>1.128499</td>\n",
       "      <td>17.538598</td>\n",
       "      <td>0.732079</td>\n",
       "      <td>16.898669</td>\n",
       "    </tr>\n",
       "    <tr>\n",
       "      <th>std</th>\n",
       "      <td>6.263605</td>\n",
       "      <td>142.986766</td>\n",
       "      <td>1.058130e-06</td>\n",
       "      <td>0.000035</td>\n",
       "      <td>2.069121</td>\n",
       "      <td>133170.495298</td>\n",
       "      <td>2.338682e+05</td>\n",
       "      <td>2.379013e+05</td>\n",
       "      <td>6.915170e+05</td>\n",
       "      <td>505.990997</td>\n",
       "      <td>...</td>\n",
       "      <td>0.022547</td>\n",
       "      <td>6.495621</td>\n",
       "      <td>1.890783</td>\n",
       "      <td>0.002268</td>\n",
       "      <td>0.003244</td>\n",
       "      <td>4.502674</td>\n",
       "      <td>4.963149</td>\n",
       "      <td>7.752743</td>\n",
       "      <td>4.872846</td>\n",
       "      <td>9.548489</td>\n",
       "    </tr>\n",
       "    <tr>\n",
       "      <th>min</th>\n",
       "      <td>-7.900000</td>\n",
       "      <td>0.000000</td>\n",
       "      <td>0.000000e+00</td>\n",
       "      <td>0.000000</td>\n",
       "      <td>0.008230</td>\n",
       "      <td>-816882.554121</td>\n",
       "      <td>-1.780445e+06</td>\n",
       "      <td>-1.889882e+06</td>\n",
       "      <td>0.000000e+00</td>\n",
       "      <td>0.096693</td>\n",
       "      <td>...</td>\n",
       "      <td>0.000000</td>\n",
       "      <td>-9.776349</td>\n",
       "      <td>-9.275321</td>\n",
       "      <td>-0.022873</td>\n",
       "      <td>-0.021223</td>\n",
       "      <td>-3.477451</td>\n",
       "      <td>-22.470358</td>\n",
       "      <td>1.305881</td>\n",
       "      <td>-20.111824</td>\n",
       "      <td>1.000000</td>\n",
       "    </tr>\n",
       "    <tr>\n",
       "      <th>25%</th>\n",
       "      <td>7.600000</td>\n",
       "      <td>0.124246</td>\n",
       "      <td>0.000000e+00</td>\n",
       "      <td>0.000000</td>\n",
       "      <td>1.924383</td>\n",
       "      <td>-302011.786091</td>\n",
       "      <td>-1.970599e+05</td>\n",
       "      <td>-8.946848e+04</td>\n",
       "      <td>0.000000e+00</td>\n",
       "      <td>117.687765</td>\n",
       "      <td>...</td>\n",
       "      <td>0.000000</td>\n",
       "      <td>7.527034</td>\n",
       "      <td>-1.271802</td>\n",
       "      <td>-0.000110</td>\n",
       "      <td>-0.000649</td>\n",
       "      <td>6.218264</td>\n",
       "      <td>-2.001309</td>\n",
       "      <td>11.556538</td>\n",
       "      <td>-2.746925</td>\n",
       "      <td>9.000000</td>\n",
       "    </tr>\n",
       "    <tr>\n",
       "      <th>50%</th>\n",
       "      <td>11.600000</td>\n",
       "      <td>5.425625</td>\n",
       "      <td>0.000000e+00</td>\n",
       "      <td>0.000000</td>\n",
       "      <td>2.990316</td>\n",
       "      <td>-222379.297816</td>\n",
       "      <td>-4.894289e+04</td>\n",
       "      <td>-1.954219e+03</td>\n",
       "      <td>3.600000e-12</td>\n",
       "      <td>321.587923</td>\n",
       "      <td>...</td>\n",
       "      <td>0.000000</td>\n",
       "      <td>11.855420</td>\n",
       "      <td>-0.588375</td>\n",
       "      <td>0.000741</td>\n",
       "      <td>0.000304</td>\n",
       "      <td>9.426134</td>\n",
       "      <td>0.850176</td>\n",
       "      <td>16.337755</td>\n",
       "      <td>0.501839</td>\n",
       "      <td>17.000000</td>\n",
       "    </tr>\n",
       "    <tr>\n",
       "      <th>75%</th>\n",
       "      <td>16.100000</td>\n",
       "      <td>47.025052</td>\n",
       "      <td>0.000000e+00</td>\n",
       "      <td>0.000000</td>\n",
       "      <td>4.438814</td>\n",
       "      <td>-107138.680673</td>\n",
       "      <td>-2.580780e+02</td>\n",
       "      <td>4.394024e+04</td>\n",
       "      <td>5.918494e+05</td>\n",
       "      <td>709.740217</td>\n",
       "      <td>...</td>\n",
       "      <td>0.000000</td>\n",
       "      <td>16.400056</td>\n",
       "      <td>0.554582</td>\n",
       "      <td>0.001957</td>\n",
       "      <td>0.001603</td>\n",
       "      <td>12.702356</td>\n",
       "      <td>3.981172</td>\n",
       "      <td>22.293404</td>\n",
       "      <td>4.015721</td>\n",
       "      <td>25.000000</td>\n",
       "    </tr>\n",
       "    <tr>\n",
       "      <th>max</th>\n",
       "      <td>38.400002</td>\n",
       "      <td>2448.672118</td>\n",
       "      <td>6.457207e-05</td>\n",
       "      <td>0.000447</td>\n",
       "      <td>17.449989</td>\n",
       "      <td>78624.299681</td>\n",
       "      <td>1.857474e+05</td>\n",
       "      <td>6.836656e+05</td>\n",
       "      <td>3.206372e+06</td>\n",
       "      <td>5289.707727</td>\n",
       "      <td>...</td>\n",
       "      <td>1.754839</td>\n",
       "      <td>39.642168</td>\n",
       "      <td>11.714195</td>\n",
       "      <td>0.028023</td>\n",
       "      <td>0.031406</td>\n",
       "      <td>22.606778</td>\n",
       "      <td>29.156881</td>\n",
       "      <td>54.592355</td>\n",
       "      <td>26.574025</td>\n",
       "      <td>36.000000</td>\n",
       "    </tr>\n",
       "  </tbody>\n",
       "</table>\n",
       "<p>8 rows × 27 columns</p>\n",
       "</div>"
      ],
      "text/plain": [
       "             tH2_obs    capeinsSOL0       ciwcH20        clwcH20  \\\n",
       "count  189260.000000  170492.000000  1.883070e+05  184800.000000   \n",
       "mean       12.006981      59.169631  5.027560e-08       0.000006   \n",
       "std         6.263605     142.986766  1.058130e-06       0.000035   \n",
       "min        -7.900000       0.000000  0.000000e+00       0.000000   \n",
       "25%         7.600000       0.124246  0.000000e+00       0.000000   \n",
       "50%        11.600000       5.425625  0.000000e+00       0.000000   \n",
       "75%        16.100000      47.025052  0.000000e+00       0.000000   \n",
       "max        38.400002    2448.672118  6.457207e-05       0.000447   \n",
       "\n",
       "               ffH10      flir1SOL0    fllat1SOL0    flsen1SOL0    flvis1SOL0  \\\n",
       "count  184702.000000  188118.000000  1.882190e+05  1.881510e+05  1.881810e+05   \n",
       "mean        3.406578 -217648.413598 -1.476294e+05 -7.151363e+04  4.136244e+05   \n",
       "std         2.069121  133170.495298  2.338682e+05  2.379013e+05  6.915170e+05   \n",
       "min         0.008230 -816882.554121 -1.780445e+06 -1.889882e+06  0.000000e+00   \n",
       "25%         1.924383 -302011.786091 -1.970599e+05 -8.946848e+04  0.000000e+00   \n",
       "50%         2.990316 -222379.297816 -4.894289e+04 -1.954219e+03  3.600000e-12   \n",
       "75%         4.438814 -107138.680673 -2.580780e+02  4.394024e+04  5.918494e+05   \n",
       "max        17.449989   78624.299681  1.857474e+05  6.836656e+05  3.206372e+06   \n",
       "\n",
       "         hcoulimSOL0      ...                rrH20            tH2  \\\n",
       "count  188307.000000      ...        184793.000000  184723.000000   \n",
       "mean      490.318652      ...             0.003668      12.143805   \n",
       "std       505.990997      ...             0.022547       6.495621   \n",
       "min         0.096693      ...             0.000000      -9.776349   \n",
       "25%       117.687765      ...             0.000000       7.527034   \n",
       "50%       321.587923      ...             0.000000      11.855420   \n",
       "75%       709.740217      ...             0.000000      16.400056   \n",
       "max      5289.707727      ...             1.754839      39.642168   \n",
       "\n",
       "       tH2_VGrad_2.100      tH2_XGrad      tH2_YGrad      tpwHPA850  \\\n",
       "count    184716.000000  184723.000000  184723.000000  188258.000000   \n",
       "mean         -0.183838       0.001031       0.000351       9.477384   \n",
       "std           1.890783       0.002268       0.003244       4.502674   \n",
       "min          -9.275321      -0.022873      -0.021223      -3.477451   \n",
       "25%          -1.271802      -0.000110      -0.000649       6.218264   \n",
       "50%          -0.588375       0.000741       0.000304       9.426134   \n",
       "75%           0.554582       0.001957       0.001603      12.702356   \n",
       "max          11.714195       0.028023       0.031406      22.606778   \n",
       "\n",
       "              ux1H10       vapcSOL0         vx1H10            ech  \n",
       "count  184702.000000  188286.000000  184716.000000  189280.000000  \n",
       "mean        1.128499      17.538598       0.732079      16.898669  \n",
       "std         4.963149       7.752743       4.872846       9.548489  \n",
       "min       -22.470358       1.305881     -20.111824       1.000000  \n",
       "25%        -2.001309      11.556538      -2.746925       9.000000  \n",
       "50%         0.850176      16.337755       0.501839      17.000000  \n",
       "75%         3.981172      22.293404       4.015721      25.000000  \n",
       "max        29.156881      54.592355      26.574025      36.000000  \n",
       "\n",
       "[8 rows x 27 columns]"
      ]
     },
     "execution_count": 16,
     "metadata": {},
     "output_type": "execute_result"
    }
   ],
   "source": [
    "df_tot.describe()\n",
    "#pd.isna(df_tot['date'])"
   ]
  },
  {
   "cell_type": "code",
   "execution_count": 18,
   "metadata": {},
   "outputs": [
    {
     "data": {
      "text/plain": [
       "['date',\n",
       " 'insee',\n",
       " 'tH2_obs',\n",
       " 'capeinsSOL0',\n",
       " 'ciwcH20',\n",
       " 'clwcH20',\n",
       " 'ddH10_rose4',\n",
       " 'ffH10',\n",
       " 'flir1SOL0',\n",
       " 'fllat1SOL0',\n",
       " 'flsen1SOL0',\n",
       " 'flvis1SOL0',\n",
       " 'hcoulimSOL0',\n",
       " 'huH2',\n",
       " 'iwcSOL0',\n",
       " 'nbSOL0_HMoy',\n",
       " 'nH20',\n",
       " 'ntSOL0_HMoy',\n",
       " 'pMER0',\n",
       " 'rr1SOL0',\n",
       " 'rrH20',\n",
       " 'tH2',\n",
       " 'tH2_VGrad_2.100',\n",
       " 'tH2_XGrad',\n",
       " 'tH2_YGrad',\n",
       " 'tpwHPA850',\n",
       " 'ux1H10',\n",
       " 'vapcSOL0',\n",
       " 'vx1H10',\n",
       " 'ech',\n",
       " 'mois']"
      ]
     },
     "execution_count": 18,
     "metadata": {},
     "output_type": "execute_result"
    }
   ],
   "source": [
    "pd_Xna = pd.DataFrame(Xna)\n",
    "pd_Xna.describe()\n",
    "list(df_tot)"
   ]
  },
  {
   "cell_type": "markdown",
   "metadata": {
    "collapsed": true
   },
   "source": [
    "tH2_obs \tObservation de la température à 2 mètres in situ- au point station (prédictant)\n",
    "ech \tEchéance de validité\n",
    "capeinsSOL0 \tEnergie potentielle convective\n",
    "ciwcH20 \tFraction de glace nuageuse à 20 mètres\n",
    "clwcH20 \tFraction d'eau nuageuse à 20 mètres\n",
    "nH20 \tFraction nuageuse à 20 mètres\n",
    "pMER0 \tPression au niveau de la mer\n",
    "rr1SOL0 \tPrécipitation horaire au niveau du sol\n",
    "rrH20 \tPrécipitation horaire à 20 mètres\n",
    "tpwHPA850 \tTempérature potentielle au niveau 850 hPa\n",
    "ux1H10 \tRafale 1 minute du vent à 10 mètres composante zonale\n",
    "vapcSOL0 \tColonne de vapeur d'eau\n",
    "vx1H10 \tRafale 1 minute du vent à 10 mètres composante verticale\n",
    "ddH10_rose4 \tDirection du vent à 10 mètres en rose4\n",
    "ffH10 \tForce du vent à 10 mètres en m/s\n",
    "flir1SOL0 \tFlux Infra-rouge en J/m2\n",
    "fllat1SOL0 \tFlux de chaleur latente en J/m2\n",
    "flsen1SOL0 \tFlux de chaleur sensible en J/m2\n",
    "flvis1SOL0 \tFlux visible en J/m2\n",
    "hcoulimSOL0 \tHauteur de la couche limite en mètres\n",
    "huH2 \tHumidité 2mètres en %\n",
    "iwcSOL0 \tRéservoir neige kg/m2 (équivalent en eau liquide des chutes de neige)\n",
    "nbSOL0_HMoy \tNébulosité basse (moyenne sur les 6 points de grille autour de la station) (fraction en octat du ciel occulté)\n",
    "ntSOL0_HMoy \tNébulosité totale (moyenne sur les 6 points de grille autour de la station)\n",
    "tH2 \tTempérature à 2 mètres du modèle AROME\n",
    "tH2_VGrad_2.100 \tGradient vertical de température entre 2 mètres et 100 mètres\n",
    "tH2_XGrad \tGradient zonal de température à 2 mètres\n",
    "tH2_YGrad"
   ]
  },
  {
   "cell_type": "code",
   "execution_count": 57,
   "metadata": {
    "scrolled": true
   },
   "outputs": [
    {
     "data": {
      "text/plain": [
       "Index([u'ech', u'mois_août', u'mois_avril', u'mois_décembre', u'mois_février',\n",
       "       u'mois_janvier', u'mois_juillet', u'mois_juin', u'mois_mai',\n",
       "       u'mois_mars', u'mois_novembre', u'mois_octobre', u'mois_septembre',\n",
       "       u'insee_6088001', u'insee_31069001', u'insee_33281001',\n",
       "       u'insee_35281001', u'insee_59343001', u'insee_67124001',\n",
       "       u'insee_75114001', u'ddH10_rose4_1.0', u'ddH10_rose4_2.0',\n",
       "       u'ddH10_rose4_3.0', u'ddH10_rose4_4.0', u'capeinsSOL0', u'ciwcH20',\n",
       "       u'clwcH20', u'ffH10', u'flir1SOL0', u'fllat1SOL0', u'flsen1SOL0',\n",
       "       u'flvis1SOL0', u'hcoulimSOL0', u'huH2', u'iwcSOL0', u'nbSOL0_HMoy',\n",
       "       u'nH20', u'ntSOL0_HMoy', u'pMER0', u'rr1SOL0', u'rrH20', u'tH2',\n",
       "       u'tH2_VGrad_2.100', u'tH2_XGrad', u'tH2_YGrad', u'tpwHPA850', u'ux1H10',\n",
       "       u'vapcSOL0', u'vx1H10'],\n",
       "      dtype='object')"
      ]
     },
     "execution_count": 57,
     "metadata": {},
     "output_type": "execute_result"
    }
   ],
   "source": [
    "df_tot.shape\n",
    "# Variables explicatives\n",
    "df_qual=pd.get_dummies(df_tot[[\"mois\", \"insee\", \"ddH10_rose4\", \"ech\"]])\n",
    "#ozoneQuant=ozone[[\"MOCAGE\",\"TEMPE\",\"VentMOD\",\"VentANG\",\"SRMH2O\",\"LNO2\",\"LNO\"]]\n",
    "df_quant=df_tot[[\n",
    " \"capeinsSOL0\",\n",
    " \"ciwcH20\",\n",
    " \"clwcH20\",\n",
    " \"ffH10\",\n",
    " \"flir1SOL0\",\n",
    " \"fllat1SOL0\",\n",
    " \"flsen1SOL0\",\n",
    " \"flvis1SOL0\",\n",
    " \"hcoulimSOL0\",\n",
    " \"huH2\",\n",
    " \"iwcSOL0\",\n",
    " \"nbSOL0_HMoy\",\n",
    " \"nH20\",\n",
    " \"ntSOL0_HMoy\",\n",
    " \"pMER0\",\n",
    " \"rr1SOL0\",\n",
    " \"rrH20\",\n",
    " \"tH2\",\n",
    " \"tH2_VGrad_2.100\",\n",
    " \"tH2_XGrad\",\n",
    " \"tH2_YGrad\",\n",
    " \"tpwHPA850\",\n",
    " \"ux1H10\",\n",
    " \"vapcSOL0\",\n",
    " \"vx1H10\"]]\n",
    "\n",
    "#faut ajouter les variables qui vont expliquer th2_obs\n",
    "dfC=pd.concat([df_qual,df_quant],axis=1)\n",
    "\n",
    "dfC.columns"
   ]
  },
  {
   "cell_type": "code",
   "execution_count": 49,
   "metadata": {
    "collapsed": true
   },
   "outputs": [],
   "source": [
    "#Xna=input_nan(dfC[:5000], .1)"
   ]
  },
  {
   "cell_type": "code",
   "execution_count": 58,
   "metadata": {},
   "outputs": [
    {
     "data": {
      "text/plain": [
       "ech                  int64\n",
       "mois_août            uint8\n",
       "mois_avril           uint8\n",
       "mois_décembre        uint8\n",
       "mois_février         uint8\n",
       "mois_janvier         uint8\n",
       "mois_juillet         uint8\n",
       "mois_juin            uint8\n",
       "mois_mai             uint8\n",
       "mois_mars            uint8\n",
       "mois_novembre        uint8\n",
       "mois_octobre         uint8\n",
       "mois_septembre       uint8\n",
       "insee_6088001        uint8\n",
       "insee_31069001       uint8\n",
       "insee_33281001       uint8\n",
       "insee_35281001       uint8\n",
       "insee_59343001       uint8\n",
       "insee_67124001       uint8\n",
       "insee_75114001       uint8\n",
       "ddH10_rose4_1.0      uint8\n",
       "ddH10_rose4_2.0      uint8\n",
       "ddH10_rose4_3.0      uint8\n",
       "ddH10_rose4_4.0      uint8\n",
       "capeinsSOL0        float64\n",
       "ciwcH20            float64\n",
       "clwcH20            float64\n",
       "ffH10              float64\n",
       "flir1SOL0          float64\n",
       "fllat1SOL0         float64\n",
       "flsen1SOL0         float64\n",
       "flvis1SOL0         float64\n",
       "hcoulimSOL0        float64\n",
       "huH2               float64\n",
       "iwcSOL0            float64\n",
       "nbSOL0_HMoy        float64\n",
       "nH20               float64\n",
       "ntSOL0_HMoy        float64\n",
       "pMER0              float64\n",
       "rr1SOL0            float64\n",
       "rrH20              float64\n",
       "tH2                float64\n",
       "tH2_VGrad_2.100    float64\n",
       "tH2_XGrad          float64\n",
       "tH2_YGrad          float64\n",
       "tpwHPA850          float64\n",
       "ux1H10             float64\n",
       "vapcSOL0           float64\n",
       "vx1H10             float64\n",
       "dtype: object"
      ]
     },
     "execution_count": 58,
     "metadata": {},
     "output_type": "execute_result"
    }
   ],
   "source": [
    "dfC.dtypes"
   ]
  },
  {
   "cell_type": "markdown",
   "metadata": {},
   "source": [
    "## Imputation données avec Forêts aléatoires"
   ]
  },
  {
   "cell_type": "code",
   "execution_count": 112,
   "metadata": {},
   "outputs": [],
   "source": [
    "#Données avec imputations avec Forêts aléatoires\n",
    "\n",
    "from predictive_imputer import predictive_imputer\n",
    "# Choix du mode de prévision par *k*-pp, ACP ou forêt aléatoire\n",
    "imputer = predictive_imputer.PredictiveImputer(f_model=\"RandomForest\")\n",
    "# Imputation\n",
    "XnaImp = imputer.fit(dfC[:6172]).transform(dfC[:6172].copy())"
   ]
  },
  {
   "cell_type": "code",
   "execution_count": 113,
   "metadata": {},
   "outputs": [],
   "source": [
    "from sklearn.model_selection import train_test_split\n",
    "\n",
    "Y=df_tot[[\"tH2_obs\"]][:6172]\n",
    "\n",
    "# Données sans trous\n",
    "XnaImp_train,XnaImp_test,Y_train,Y_test=train_test_split(XnaImp,Y,test_size=200,random_state=11)"
   ]
  },
  {
   "cell_type": "code",
   "execution_count": 114,
   "metadata": {},
   "outputs": [
    {
     "name": "stderr",
     "output_type": "stream",
     "text": [
      "/usr/local/insa/anaconda/envs/py27/lib/python2.7/site-packages/ipykernel/__main__.py:8: DataConversionWarning: A column-vector y was passed when a 1d array was expected. Please change the shape of y to (n_samples,), for example using ravel().\n"
     ]
    },
    {
     "data": {
      "text/plain": [
       "0.026621241482858715"
      ]
     },
     "execution_count": 114,
     "metadata": {},
     "output_type": "execute_result"
    }
   ],
   "source": [
    "#Prévisions par forêt aléatoire\n",
    "from sklearn.ensemble import RandomForestClassifier \n",
    "from sklearn.ensemble import RandomForestRegressor\n",
    "# prévision avec trous imputés\n",
    "forest = RandomForestRegressor(n_estimators=50)\n",
    "\n",
    "# apprentissage\n",
    "rfFit = forest.fit(XnaImp_train,Y_train)\n",
    "\n",
    "1-rfFit.score(XnaImp_test,Y_test)"
   ]
  },
  {
   "cell_type": "code",
   "execution_count": 115,
   "metadata": {},
   "outputs": [
    {
     "name": "stdout",
     "output_type": "stream",
     "text": [
      "('MSE=', 0.71427929000780066)\n"
     ]
    }
   ],
   "source": [
    "from sklearn.metrics import mean_squared_error\n",
    "Y_pred=rfFit.predict(XnaImp_test)\n",
    "print(\"MSE=\",mean_squared_error(Y_pred,Y_test))"
   ]
  },
  {
   "cell_type": "markdown",
   "metadata": {},
   "source": [
    "## Imputation données avec ACP"
   ]
  },
  {
   "cell_type": "code",
   "execution_count": 134,
   "metadata": {},
   "outputs": [],
   "source": [
    "#Données avec imputations avec ACP\n",
    "\n",
    "# Choix du mode de prévision par *k*-pp, ACP ou forêt aléatoire\n",
    "imputer = predictive_imputer.PredictiveImputer(f_model=\"PCA\")\n",
    "# Imputation\n",
    "XnaImp = imputer.fit(dfC[:100000]).transform(dfC[:100000].copy())"
   ]
  },
  {
   "cell_type": "code",
   "execution_count": 135,
   "metadata": {
    "collapsed": true
   },
   "outputs": [],
   "source": [
    "Y=df_tot[[\"tH2_obs\"]][:100000]\n",
    "\n",
    "# Données sans trous\n",
    "XnaImp_train,XnaImp_test,Y_train,Y_test=train_test_split(XnaImp,Y,test_size=200,random_state=11)"
   ]
  },
  {
   "cell_type": "code",
   "execution_count": 136,
   "metadata": {},
   "outputs": [
    {
     "ename": "ValueError",
     "evalue": "Input contains NaN, infinity or a value too large for dtype('float64').",
     "output_type": "error",
     "traceback": [
      "\u001b[0;31m---------------------------------------------------------------------------\u001b[0m",
      "\u001b[0;31mValueError\u001b[0m                                Traceback (most recent call last)",
      "\u001b[0;32m<ipython-input-136-fb31092d3b78>\u001b[0m in \u001b[0;36m<module>\u001b[0;34m()\u001b[0m\n\u001b[1;32m      3\u001b[0m \u001b[0;34m\u001b[0m\u001b[0m\n\u001b[1;32m      4\u001b[0m \u001b[0;31m# apprentissage\u001b[0m\u001b[0;34m\u001b[0m\u001b[0;34m\u001b[0m\u001b[0m\n\u001b[0;32m----> 5\u001b[0;31m \u001b[0mrfFit\u001b[0m \u001b[0;34m=\u001b[0m \u001b[0mforest\u001b[0m\u001b[0;34m.\u001b[0m\u001b[0mfit\u001b[0m\u001b[0;34m(\u001b[0m\u001b[0mXnaImp_train\u001b[0m\u001b[0;34m,\u001b[0m\u001b[0mY_train\u001b[0m\u001b[0;34m)\u001b[0m\u001b[0;34m\u001b[0m\u001b[0m\n\u001b[0m\u001b[1;32m      6\u001b[0m \u001b[0;34m\u001b[0m\u001b[0m\n\u001b[1;32m      7\u001b[0m \u001b[0;36m1\u001b[0m\u001b[0;34m-\u001b[0m\u001b[0mrfFit\u001b[0m\u001b[0;34m.\u001b[0m\u001b[0mscore\u001b[0m\u001b[0;34m(\u001b[0m\u001b[0mXnaImp_test\u001b[0m\u001b[0;34m,\u001b[0m\u001b[0mY_test\u001b[0m\u001b[0;34m)\u001b[0m\u001b[0;34m\u001b[0m\u001b[0m\n",
      "\u001b[0;32m/usr/local/insa/anaconda/envs/py27/lib/python2.7/site-packages/sklearn/ensemble/forest.pyc\u001b[0m in \u001b[0;36mfit\u001b[0;34m(self, X, y, sample_weight)\u001b[0m\n\u001b[1;32m    246\u001b[0m         \u001b[0;31m# Validate or convert input data\u001b[0m\u001b[0;34m\u001b[0m\u001b[0;34m\u001b[0m\u001b[0m\n\u001b[1;32m    247\u001b[0m         \u001b[0mX\u001b[0m \u001b[0;34m=\u001b[0m \u001b[0mcheck_array\u001b[0m\u001b[0;34m(\u001b[0m\u001b[0mX\u001b[0m\u001b[0;34m,\u001b[0m \u001b[0maccept_sparse\u001b[0m\u001b[0;34m=\u001b[0m\u001b[0;34m\"csc\"\u001b[0m\u001b[0;34m,\u001b[0m \u001b[0mdtype\u001b[0m\u001b[0;34m=\u001b[0m\u001b[0mDTYPE\u001b[0m\u001b[0;34m)\u001b[0m\u001b[0;34m\u001b[0m\u001b[0m\n\u001b[0;32m--> 248\u001b[0;31m         \u001b[0my\u001b[0m \u001b[0;34m=\u001b[0m \u001b[0mcheck_array\u001b[0m\u001b[0;34m(\u001b[0m\u001b[0my\u001b[0m\u001b[0;34m,\u001b[0m \u001b[0maccept_sparse\u001b[0m\u001b[0;34m=\u001b[0m\u001b[0;34m'csc'\u001b[0m\u001b[0;34m,\u001b[0m \u001b[0mensure_2d\u001b[0m\u001b[0;34m=\u001b[0m\u001b[0mFalse\u001b[0m\u001b[0;34m,\u001b[0m \u001b[0mdtype\u001b[0m\u001b[0;34m=\u001b[0m\u001b[0mNone\u001b[0m\u001b[0;34m)\u001b[0m\u001b[0;34m\u001b[0m\u001b[0m\n\u001b[0m\u001b[1;32m    249\u001b[0m         \u001b[0;32mif\u001b[0m \u001b[0missparse\u001b[0m\u001b[0;34m(\u001b[0m\u001b[0mX\u001b[0m\u001b[0;34m)\u001b[0m\u001b[0;34m:\u001b[0m\u001b[0;34m\u001b[0m\u001b[0m\n\u001b[1;32m    250\u001b[0m             \u001b[0;31m# Pre-sort indices to avoid that each individual tree of the\u001b[0m\u001b[0;34m\u001b[0m\u001b[0;34m\u001b[0m\u001b[0m\n",
      "\u001b[0;32m/usr/local/insa/anaconda/envs/py27/lib/python2.7/site-packages/sklearn/utils/validation.pyc\u001b[0m in \u001b[0;36mcheck_array\u001b[0;34m(array, accept_sparse, dtype, order, copy, force_all_finite, ensure_2d, allow_nd, ensure_min_samples, ensure_min_features, warn_on_dtype, estimator)\u001b[0m\n\u001b[1;32m    405\u001b[0m                              % (array.ndim, estimator_name))\n\u001b[1;32m    406\u001b[0m         \u001b[0;32mif\u001b[0m \u001b[0mforce_all_finite\u001b[0m\u001b[0;34m:\u001b[0m\u001b[0;34m\u001b[0m\u001b[0m\n\u001b[0;32m--> 407\u001b[0;31m             \u001b[0m_assert_all_finite\u001b[0m\u001b[0;34m(\u001b[0m\u001b[0marray\u001b[0m\u001b[0;34m)\u001b[0m\u001b[0;34m\u001b[0m\u001b[0m\n\u001b[0m\u001b[1;32m    408\u001b[0m \u001b[0;34m\u001b[0m\u001b[0m\n\u001b[1;32m    409\u001b[0m     \u001b[0mshape_repr\u001b[0m \u001b[0;34m=\u001b[0m \u001b[0m_shape_repr\u001b[0m\u001b[0;34m(\u001b[0m\u001b[0marray\u001b[0m\u001b[0;34m.\u001b[0m\u001b[0mshape\u001b[0m\u001b[0;34m)\u001b[0m\u001b[0;34m\u001b[0m\u001b[0m\n",
      "\u001b[0;32m/usr/local/insa/anaconda/envs/py27/lib/python2.7/site-packages/sklearn/utils/validation.pyc\u001b[0m in \u001b[0;36m_assert_all_finite\u001b[0;34m(X)\u001b[0m\n\u001b[1;32m     56\u001b[0m             and not np.isfinite(X).all()):\n\u001b[1;32m     57\u001b[0m         raise ValueError(\"Input contains NaN, infinity\"\n\u001b[0;32m---> 58\u001b[0;31m                          \" or a value too large for %r.\" % X.dtype)\n\u001b[0m\u001b[1;32m     59\u001b[0m \u001b[0;34m\u001b[0m\u001b[0m\n\u001b[1;32m     60\u001b[0m \u001b[0;34m\u001b[0m\u001b[0m\n",
      "\u001b[0;31mValueError\u001b[0m: Input contains NaN, infinity or a value too large for dtype('float64')."
     ]
    }
   ],
   "source": [
    "# prévision avec trous imputés\n",
    "forest = RandomForestRegressor(n_estimators=100)\n",
    "\n",
    "# apprentissage\n",
    "rfFit = forest.fit(XnaImp_train,Y_train)\n",
    "\n",
    "1-rfFit.score(XnaImp_test,Y_test)"
   ]
  },
  {
   "cell_type": "code",
   "execution_count": 121,
   "metadata": {},
   "outputs": [
    {
     "name": "stdout",
     "output_type": "stream",
     "text": [
      "('MSE=', 0.81138709610058868)\n"
     ]
    }
   ],
   "source": [
    "Y_pred=rfFit.predict(XnaImp_test)\n",
    "print(\"MSE=\",mean_squared_error(Y_pred,Y_test))"
   ]
  },
  {
   "cell_type": "code",
   "execution_count": 117,
   "metadata": {
    "scrolled": true
   },
   "outputs": [],
   "source": [
    "Y=df_tot[[\"tH2_obs\"]][:500]"
   ]
  },
  {
   "cell_type": "code",
   "execution_count": 101,
   "metadata": {
    "scrolled": false
   },
   "outputs": [
    {
     "name": "stdout",
     "output_type": "stream",
     "text": [
      "(300, 1)\n",
      "(300, 49)\n",
      "(200, 49)\n"
     ]
    },
    {
     "data": {
      "text/plain": [
       "numpy.ndarray"
      ]
     },
     "execution_count": 101,
     "metadata": {},
     "output_type": "execute_result"
    }
   ],
   "source": [
    "print(np.shape(Y_train))\n",
    "print(np.shape(XnaImp_train))\n",
    "print(XnaImp_test.shape)\n",
    "\n",
    "type(XnaImp_train)"
   ]
  },
  {
   "cell_type": "code",
   "execution_count": 149,
   "metadata": {},
   "outputs": [
    {
     "data": {
      "text/plain": [
       "0"
      ]
     },
     "execution_count": 149,
     "metadata": {},
     "output_type": "execute_result"
    }
   ],
   "source": [
    "sum(np.isnan(XnaImp_train))\n",
    "np.max(XnaImp_train)\n",
    "\n",
    "np.sum(~ np.isfinite(XnaImp_train))"
   ]
  },
  {
   "cell_type": "code",
   "execution_count": 152,
   "metadata": {},
   "outputs": [
    {
     "data": {
      "text/plain": [
       "(tH2_obs    15\n",
       " dtype: int64, '2eme', tH2_obs    15\n",
       " dtype: int64)"
      ]
     },
     "execution_count": 152,
     "metadata": {},
     "output_type": "execute_result"
    }
   ],
   "source": [
    "np.sum(np.isnan(Y_train)), \"2eme\",np.sum(~ np.isfinite(Y_train))"
   ]
  },
  {
   "cell_type": "code",
   "execution_count": 153,
   "metadata": {},
   "outputs": [
    {
     "data": {
      "text/plain": [
       "tH2_obs    20\n",
       "dtype: int64"
      ]
     },
     "execution_count": 153,
     "metadata": {},
     "output_type": "execute_result"
    }
   ],
   "source": [
    "Y=df_tot[[\"tH2_obs\"]]\n",
    "np.sum(np.isnan(Y))"
   ]
  },
  {
   "cell_type": "code",
   "execution_count": 164,
   "metadata": {},
   "outputs": [
    {
     "data": {
      "text/html": [
       "<div>\n",
       "<style>\n",
       "    .dataframe thead tr:only-child th {\n",
       "        text-align: right;\n",
       "    }\n",
       "\n",
       "    .dataframe thead th {\n",
       "        text-align: left;\n",
       "    }\n",
       "\n",
       "    .dataframe tbody tr th {\n",
       "        vertical-align: top;\n",
       "    }\n",
       "</style>\n",
       "<table border=\"1\" class=\"dataframe\">\n",
       "  <thead>\n",
       "    <tr style=\"text-align: right;\">\n",
       "      <th></th>\n",
       "      <th>tH2_obs</th>\n",
       "    </tr>\n",
       "  </thead>\n",
       "  <tbody>\n",
       "    <tr>\n",
       "      <th>2999</th>\n",
       "      <td>NaN</td>\n",
       "    </tr>\n",
       "    <tr>\n",
       "      <th>58</th>\n",
       "      <td>NaN</td>\n",
       "    </tr>\n",
       "    <tr>\n",
       "      <th>4296</th>\n",
       "      <td>NaN</td>\n",
       "    </tr>\n",
       "    <tr>\n",
       "      <th>206</th>\n",
       "      <td>NaN</td>\n",
       "    </tr>\n",
       "    <tr>\n",
       "      <th>4500</th>\n",
       "      <td>NaN</td>\n",
       "    </tr>\n",
       "    <tr>\n",
       "      <th>3371</th>\n",
       "      <td>NaN</td>\n",
       "    </tr>\n",
       "    <tr>\n",
       "      <th>3208</th>\n",
       "      <td>NaN</td>\n",
       "    </tr>\n",
       "    <tr>\n",
       "      <th>1536</th>\n",
       "      <td>NaN</td>\n",
       "    </tr>\n",
       "    <tr>\n",
       "      <th>3358</th>\n",
       "      <td>NaN</td>\n",
       "    </tr>\n",
       "    <tr>\n",
       "      <th>3886</th>\n",
       "      <td>NaN</td>\n",
       "    </tr>\n",
       "    <tr>\n",
       "      <th>1093</th>\n",
       "      <td>NaN</td>\n",
       "    </tr>\n",
       "    <tr>\n",
       "      <th>398</th>\n",
       "      <td>NaN</td>\n",
       "    </tr>\n",
       "    <tr>\n",
       "      <th>564</th>\n",
       "      <td>NaN</td>\n",
       "    </tr>\n",
       "    <tr>\n",
       "      <th>5111</th>\n",
       "      <td>NaN</td>\n",
       "    </tr>\n",
       "    <tr>\n",
       "      <th>563</th>\n",
       "      <td>NaN</td>\n",
       "    </tr>\n",
       "    <tr>\n",
       "      <th>3002</th>\n",
       "      <td>NaN</td>\n",
       "    </tr>\n",
       "    <tr>\n",
       "      <th>3850</th>\n",
       "      <td>NaN</td>\n",
       "    </tr>\n",
       "    <tr>\n",
       "      <th>2517</th>\n",
       "      <td>NaN</td>\n",
       "    </tr>\n",
       "    <tr>\n",
       "      <th>2990</th>\n",
       "      <td>NaN</td>\n",
       "    </tr>\n",
       "    <tr>\n",
       "      <th>3366</th>\n",
       "      <td>NaN</td>\n",
       "    </tr>\n",
       "    <tr>\n",
       "      <th>1894</th>\n",
       "      <td>NaN</td>\n",
       "    </tr>\n",
       "    <tr>\n",
       "      <th>3837</th>\n",
       "      <td>NaN</td>\n",
       "    </tr>\n",
       "    <tr>\n",
       "      <th>5676</th>\n",
       "      <td>NaN</td>\n",
       "    </tr>\n",
       "    <tr>\n",
       "      <th>3453</th>\n",
       "      <td>NaN</td>\n",
       "    </tr>\n",
       "    <tr>\n",
       "      <th>973</th>\n",
       "      <td>NaN</td>\n",
       "    </tr>\n",
       "    <tr>\n",
       "      <th>2894</th>\n",
       "      <td>NaN</td>\n",
       "    </tr>\n",
       "    <tr>\n",
       "      <th>674</th>\n",
       "      <td>NaN</td>\n",
       "    </tr>\n",
       "    <tr>\n",
       "      <th>1178</th>\n",
       "      <td>NaN</td>\n",
       "    </tr>\n",
       "    <tr>\n",
       "      <th>4966</th>\n",
       "      <td>NaN</td>\n",
       "    </tr>\n",
       "    <tr>\n",
       "      <th>575</th>\n",
       "      <td>NaN</td>\n",
       "    </tr>\n",
       "    <tr>\n",
       "      <th>...</th>\n",
       "      <td>...</td>\n",
       "    </tr>\n",
       "    <tr>\n",
       "      <th>3196</th>\n",
       "      <td>NaN</td>\n",
       "    </tr>\n",
       "    <tr>\n",
       "      <th>2654</th>\n",
       "      <td>NaN</td>\n",
       "    </tr>\n",
       "    <tr>\n",
       "      <th>3741</th>\n",
       "      <td>NaN</td>\n",
       "    </tr>\n",
       "    <tr>\n",
       "      <th>1468</th>\n",
       "      <td>NaN</td>\n",
       "    </tr>\n",
       "    <tr>\n",
       "      <th>4286</th>\n",
       "      <td>NaN</td>\n",
       "    </tr>\n",
       "    <tr>\n",
       "      <th>3865</th>\n",
       "      <td>NaN</td>\n",
       "    </tr>\n",
       "    <tr>\n",
       "      <th>2388</th>\n",
       "      <td>NaN</td>\n",
       "    </tr>\n",
       "    <tr>\n",
       "      <th>1070</th>\n",
       "      <td>NaN</td>\n",
       "    </tr>\n",
       "    <tr>\n",
       "      <th>146</th>\n",
       "      <td>NaN</td>\n",
       "    </tr>\n",
       "    <tr>\n",
       "      <th>1383</th>\n",
       "      <td>NaN</td>\n",
       "    </tr>\n",
       "    <tr>\n",
       "      <th>1842</th>\n",
       "      <td>NaN</td>\n",
       "    </tr>\n",
       "    <tr>\n",
       "      <th>2165</th>\n",
       "      <td>NaN</td>\n",
       "    </tr>\n",
       "    <tr>\n",
       "      <th>2919</th>\n",
       "      <td>NaN</td>\n",
       "    </tr>\n",
       "    <tr>\n",
       "      <th>4513</th>\n",
       "      <td>NaN</td>\n",
       "    </tr>\n",
       "    <tr>\n",
       "      <th>1786</th>\n",
       "      <td>NaN</td>\n",
       "    </tr>\n",
       "    <tr>\n",
       "      <th>3869</th>\n",
       "      <td>NaN</td>\n",
       "    </tr>\n",
       "    <tr>\n",
       "      <th>94</th>\n",
       "      <td>NaN</td>\n",
       "    </tr>\n",
       "    <tr>\n",
       "      <th>1877</th>\n",
       "      <td>NaN</td>\n",
       "    </tr>\n",
       "    <tr>\n",
       "      <th>3625</th>\n",
       "      <td>NaN</td>\n",
       "    </tr>\n",
       "    <tr>\n",
       "      <th>2601</th>\n",
       "      <td>NaN</td>\n",
       "    </tr>\n",
       "    <tr>\n",
       "      <th>4463</th>\n",
       "      <td>NaN</td>\n",
       "    </tr>\n",
       "    <tr>\n",
       "      <th>3388</th>\n",
       "      <td>NaN</td>\n",
       "    </tr>\n",
       "    <tr>\n",
       "      <th>1242</th>\n",
       "      <td>NaN</td>\n",
       "    </tr>\n",
       "    <tr>\n",
       "      <th>5589</th>\n",
       "      <td>NaN</td>\n",
       "    </tr>\n",
       "    <tr>\n",
       "      <th>2426</th>\n",
       "      <td>NaN</td>\n",
       "    </tr>\n",
       "    <tr>\n",
       "      <th>5350</th>\n",
       "      <td>NaN</td>\n",
       "    </tr>\n",
       "    <tr>\n",
       "      <th>3488</th>\n",
       "      <td>NaN</td>\n",
       "    </tr>\n",
       "    <tr>\n",
       "      <th>3937</th>\n",
       "      <td>NaN</td>\n",
       "    </tr>\n",
       "    <tr>\n",
       "      <th>1676</th>\n",
       "      <td>NaN</td>\n",
       "    </tr>\n",
       "    <tr>\n",
       "      <th>3970</th>\n",
       "      <td>NaN</td>\n",
       "    </tr>\n",
       "  </tbody>\n",
       "</table>\n",
       "<p>99800 rows × 1 columns</p>\n",
       "</div>"
      ],
      "text/plain": [
       "      tH2_obs\n",
       "2999      NaN\n",
       "58        NaN\n",
       "4296      NaN\n",
       "206       NaN\n",
       "4500      NaN\n",
       "3371      NaN\n",
       "3208      NaN\n",
       "1536      NaN\n",
       "3358      NaN\n",
       "3886      NaN\n",
       "1093      NaN\n",
       "398       NaN\n",
       "564       NaN\n",
       "5111      NaN\n",
       "563       NaN\n",
       "3002      NaN\n",
       "3850      NaN\n",
       "2517      NaN\n",
       "2990      NaN\n",
       "3366      NaN\n",
       "1894      NaN\n",
       "3837      NaN\n",
       "5676      NaN\n",
       "3453      NaN\n",
       "973       NaN\n",
       "2894      NaN\n",
       "674       NaN\n",
       "1178      NaN\n",
       "4966      NaN\n",
       "575       NaN\n",
       "...       ...\n",
       "3196      NaN\n",
       "2654      NaN\n",
       "3741      NaN\n",
       "1468      NaN\n",
       "4286      NaN\n",
       "3865      NaN\n",
       "2388      NaN\n",
       "1070      NaN\n",
       "146       NaN\n",
       "1383      NaN\n",
       "1842      NaN\n",
       "2165      NaN\n",
       "2919      NaN\n",
       "4513      NaN\n",
       "1786      NaN\n",
       "3869      NaN\n",
       "94        NaN\n",
       "1877      NaN\n",
       "3625      NaN\n",
       "2601      NaN\n",
       "4463      NaN\n",
       "3388      NaN\n",
       "1242      NaN\n",
       "5589      NaN\n",
       "2426      NaN\n",
       "5350      NaN\n",
       "3488      NaN\n",
       "3937      NaN\n",
       "1676      NaN\n",
       "3970      NaN\n",
       "\n",
       "[99800 rows x 1 columns]"
      ]
     },
     "execution_count": 164,
     "metadata": {},
     "output_type": "execute_result"
    }
   ],
   "source": [
    "Y_train=Y_train[np.isnan(Y_train)==True]\n",
    "Y_train\n"
   ]
  }
 ],
 "metadata": {
  "kernelspec": {
   "display_name": "Python [conda env:py27]",
   "language": "python",
   "name": "conda-env-py27-py"
  },
  "language_info": {
   "codemirror_mode": {
    "name": "ipython",
    "version": 2
   },
   "file_extension": ".py",
   "mimetype": "text/x-python",
   "name": "python",
   "nbconvert_exporter": "python",
   "pygments_lexer": "ipython2",
   "version": "2.7.13"
  }
 },
 "nbformat": 4,
 "nbformat_minor": 2
}
