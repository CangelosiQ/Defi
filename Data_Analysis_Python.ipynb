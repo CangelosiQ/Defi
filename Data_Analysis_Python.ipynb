{
 "cells": [
  {
   "cell_type": "markdown",
   "metadata": {},
   "source": [
    "# Défi Grosses Data 2018"
   ]
  },
  {
   "cell_type": "markdown",
   "metadata": {},
   "source": [
    "## Data analysis"
   ]
  },
  {
   "cell_type": "code",
   "execution_count": 233,
   "metadata": {},
   "outputs": [],
   "source": [
    "import numpy as np\n",
    "import pandas as pd\n",
    "import datetime as dt\n",
    "from os import listdir"
   ]
  },
  {
   "cell_type": "code",
   "execution_count": 257,
   "metadata": {},
   "outputs": [],
   "source": [
    "def open_and_transform(file):\n",
    "    path='./../data_meteo/'\n",
    "    #input_file='./../data_meteo/train_1.csv'\n",
    "    df = pd.read_csv(path+file, header=0, delimiter=\";\",decimal=\",\")\n",
    "    print(\"Dimensions:\",np.shape(df))\n",
    "    df['date']=df['date'].apply(lambda x: dt.datetime.strptime(x, '%Y-%m-%d'))\n",
    "    df['insee'] = df['insee'].astype('category')\n",
    "    df['mois'] = df['mois'].astype('category')\n",
    "    df['ddH10_rose4'] = df['ddH10_rose4'].astype('category')\n",
    "    df['ech'] = df['ech'].astype('category')\n",
    "    df['flvis1SOL0'] = df['flvis1SOL0'].astype('category')\n",
    "    #print(\"Fichier\",file,\" ouvert.\")\n",
    "    return df"
   ]
  },
  {
   "cell_type": "code",
   "execution_count": 258,
   "metadata": {},
   "outputs": [],
   "source": [
    "listdir('./../data_meteo/')\n",
    "list_files=np.empty(36, dtype='|U12')\n",
    "i=0\n",
    "for fichier in listdir('./../data_meteo/'):\n",
    "    if 'train' in fichier:\n",
    "        list_files[i]=fichier\n",
    "        i=i+1"
   ]
  },
  {
   "cell_type": "code",
   "execution_count": 264,
   "metadata": {},
   "outputs": [
    {
     "name": "stdout",
     "output_type": "stream",
     "text": [
      "Dimensions: (6167, 31)\n",
      "Dimensions: (5740, 31)\n",
      "Dimensions: (5740, 31)\n",
      "Dimensions: (5740, 31)\n",
      "Dimensions: (5740, 31)\n",
      "Dimensions: (5740, 31)\n",
      "Dimensions: (5740, 31)\n",
      "Dimensions: (5740, 31)\n",
      "Dimensions: (5740, 31)\n",
      "Dimensions: (5740, 31)\n",
      "Dimensions: (5740, 31)\n",
      "Dimensions: (5740, 31)\n",
      "Dimensions: (5740, 31)\n",
      "Dimensions: (5740, 31)\n",
      "Dimensions: (6167, 31)\n",
      "Dimensions: (6167, 31)\n",
      "Dimensions: (6167, 31)\n",
      "Dimensions: (6167, 31)\n",
      "Dimensions: (6167, 31)\n",
      "Dimensions: (6167, 31)\n",
      "Dimensions: (6167, 31)\n",
      "Dimensions: (6167, 31)\n",
      "Dimensions: (5740, 31)\n",
      "Dimensions: (6167, 31)\n",
      "Dimensions: (2135, 31)\n",
      "Dimensions: (2135, 31)\n",
      "Dimensions: (2135, 31)\n",
      "Dimensions: (2135, 31)\n",
      "Dimensions: (2135, 31)\n",
      "Dimensions: (2135, 31)\n",
      "Dimensions: (5740, 31)\n",
      "Dimensions: (5740, 31)\n",
      "Dimensions: (5740, 31)\n",
      "Dimensions: (5740, 31)\n",
      "Dimensions: (5740, 31)\n",
      "Dimensions: (5740, 31)\n"
     ]
    }
   ],
   "source": [
    "df_tot=pd.DataFrame()\n",
    "for file in list_files:\n",
    "    df_tot=pd.concat([df_tot,open_and_transform(file)])"
   ]
  },
  {
   "cell_type": "code",
   "execution_count": 265,
   "metadata": {},
   "outputs": [],
   "source": [
    "df_tot=df_tot.sort_values(by=['ech','date'],ascending=True)"
   ]
  },
  {
   "cell_type": "code",
   "execution_count": 266,
   "metadata": {},
   "outputs": [
    {
     "data": {
      "text/plain": [
       "(189280, 31)"
      ]
     },
     "execution_count": 266,
     "metadata": {},
     "output_type": "execute_result"
    }
   ],
   "source": [
    "np.shape(df_tot)"
   ]
  },
  {
   "cell_type": "markdown",
   "metadata": {},
   "source": [
    "hosanna"
   ]
  }
 ],
 "metadata": {
  "kernelspec": {
   "display_name": "Python [default]",
   "language": "python",
   "name": "python3"
  },
  "language_info": {
   "codemirror_mode": {
    "name": "ipython",
    "version": 3
   },
   "file_extension": ".py",
   "mimetype": "text/x-python",
   "name": "python",
   "nbconvert_exporter": "python",
   "pygments_lexer": "ipython3",
   "version": "3.6.1"
  }
 },
 "nbformat": 4,
 "nbformat_minor": 2
}
