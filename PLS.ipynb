{
 "cells": [
  {
   "cell_type": "markdown",
   "metadata": {},
   "source": [
    "# Défi Grosses Data 2018"
   ]
  },
  {
   "cell_type": "markdown",
   "metadata": {},
   "source": [
    "## Data analysis"
   ]
  },
  {
   "cell_type": "code",
   "execution_count": 1,
   "metadata": {
    "collapsed": true
   },
   "outputs": [],
   "source": [
    "import numpy as np\n",
    "import pandas as pd\n",
    "import datetime as dt\n",
    "from os import listdir\n",
    "import Annex"
   ]
  },
  {
   "cell_type": "markdown",
   "metadata": {},
   "source": [
    "Importe les données concaténées:"
   ]
  },
  {
   "cell_type": "code",
   "execution_count": 2,
   "metadata": {},
   "outputs": [
    {
     "data": {
      "text/plain": [
       "(189280, 31)"
      ]
     },
     "execution_count": 2,
     "metadata": {},
     "output_type": "execute_result"
    }
   ],
   "source": [
    "df=Annex.get_data_raw()\n",
    "df.shape"
   ]
  },
  {
   "cell_type": "markdown",
   "metadata": {},
   "source": [
    "Importe les données séparées par type:"
   ]
  },
  {
   "cell_type": "code",
   "execution_count": 3,
   "metadata": {
    "collapsed": true
   },
   "outputs": [],
   "source": [
    "meteo_quant, meteo_qual, meteo_date, meteo_y=Annex.get_data_tidied()"
   ]
  },
  {
   "cell_type": "markdown",
   "metadata": {},
   "source": [
    "Remplace les variables qualitatives par leur indicatrices.\n",
    "\n",
    "**Attention, ici seuls \"mois\" et \"insee\" sont considérés qualitatives!** (what about the wind? what about the \"ech\"?)"
   ]
  },
  {
   "cell_type": "code",
   "execution_count": 4,
   "metadata": {
    "collapsed": true
   },
   "outputs": [],
   "source": [
    "df_dummies=pd.get_dummies(df[['mois','insee']])\n",
    "df_full_qtt=pd.concat([df,df_dummies],axis=1)\n",
    "df_full_qtt=df_full_qtt.drop(['mois','insee'],axis=1)"
   ]
  },
  {
   "cell_type": "markdown",
   "metadata": {
    "collapsed": true
   },
   "source": [
    "Sépare les échantillons d'apprentissage et de test"
   ]
  },
  {
   "cell_type": "code",
   "execution_count": 5,
   "metadata": {},
   "outputs": [
    {
     "data": {
      "text/plain": [
       "((132496, 46), (56784, 46))"
      ]
     },
     "execution_count": 5,
     "metadata": {},
     "output_type": "execute_result"
    }
   ],
   "source": [
    "from sklearn.model_selection import train_test_split\n",
    "Y=df_full_qtt['tH2_obs']\n",
    "X=df_full_qtt\n",
    "X=X.drop(['tH2_obs','date'],axis=1) ## !!! Date?\n",
    "X_train,X_test,Y_train,Y_test=train_test_split(X,Y,test_size=0.3,random_state=11)\n",
    "X_train.shape, X_test.shape"
   ]
  },
  {
   "cell_type": "code",
   "execution_count": 6,
   "metadata": {},
   "outputs": [
    {
     "data": {
      "text/html": [
       "<div>\n",
       "<style>\n",
       "    .dataframe thead tr:only-child th {\n",
       "        text-align: right;\n",
       "    }\n",
       "\n",
       "    .dataframe thead th {\n",
       "        text-align: left;\n",
       "    }\n",
       "\n",
       "    .dataframe tbody tr th {\n",
       "        vertical-align: top;\n",
       "    }\n",
       "</style>\n",
       "<table border=\"1\" class=\"dataframe\">\n",
       "  <thead>\n",
       "    <tr style=\"text-align: right;\">\n",
       "      <th></th>\n",
       "      <th>tH2_obs</th>\n",
       "      <th>capeinsSOL0</th>\n",
       "      <th>ciwcH20</th>\n",
       "      <th>clwcH20</th>\n",
       "      <th>ffH10</th>\n",
       "      <th>flir1SOL0</th>\n",
       "      <th>fllat1SOL0</th>\n",
       "      <th>flsen1SOL0</th>\n",
       "      <th>flvis1SOL0</th>\n",
       "      <th>hcoulimSOL0</th>\n",
       "      <th>...</th>\n",
       "      <th>rrH20</th>\n",
       "      <th>tH2</th>\n",
       "      <th>tH2_VGrad_2.100</th>\n",
       "      <th>tH2_XGrad</th>\n",
       "      <th>tH2_YGrad</th>\n",
       "      <th>tpwHPA850</th>\n",
       "      <th>ux1H10</th>\n",
       "      <th>vapcSOL0</th>\n",
       "      <th>vx1H10</th>\n",
       "      <th>ech</th>\n",
       "    </tr>\n",
       "  </thead>\n",
       "  <tbody>\n",
       "    <tr>\n",
       "      <th>count</th>\n",
       "      <td>189260.000000</td>\n",
       "      <td>170492.000000</td>\n",
       "      <td>1.883070e+05</td>\n",
       "      <td>184800.000000</td>\n",
       "      <td>184702.000000</td>\n",
       "      <td>188118.000000</td>\n",
       "      <td>1.882190e+05</td>\n",
       "      <td>1.881510e+05</td>\n",
       "      <td>1.881810e+05</td>\n",
       "      <td>188307.000000</td>\n",
       "      <td>...</td>\n",
       "      <td>184793.000000</td>\n",
       "      <td>184723.000000</td>\n",
       "      <td>184716.000000</td>\n",
       "      <td>184723.000000</td>\n",
       "      <td>184723.000000</td>\n",
       "      <td>188258.000000</td>\n",
       "      <td>184702.000000</td>\n",
       "      <td>188286.000000</td>\n",
       "      <td>184716.000000</td>\n",
       "      <td>189280.000000</td>\n",
       "    </tr>\n",
       "    <tr>\n",
       "      <th>mean</th>\n",
       "      <td>12.006981</td>\n",
       "      <td>59.169631</td>\n",
       "      <td>5.027560e-08</td>\n",
       "      <td>0.000006</td>\n",
       "      <td>3.406578</td>\n",
       "      <td>-217648.413598</td>\n",
       "      <td>-1.476294e+05</td>\n",
       "      <td>-7.151363e+04</td>\n",
       "      <td>4.136244e+05</td>\n",
       "      <td>490.318652</td>\n",
       "      <td>...</td>\n",
       "      <td>0.003668</td>\n",
       "      <td>12.143805</td>\n",
       "      <td>-0.183838</td>\n",
       "      <td>0.001031</td>\n",
       "      <td>0.000351</td>\n",
       "      <td>9.477384</td>\n",
       "      <td>1.128499</td>\n",
       "      <td>17.538598</td>\n",
       "      <td>0.732079</td>\n",
       "      <td>16.898669</td>\n",
       "    </tr>\n",
       "    <tr>\n",
       "      <th>std</th>\n",
       "      <td>6.263605</td>\n",
       "      <td>142.986766</td>\n",
       "      <td>1.058130e-06</td>\n",
       "      <td>0.000035</td>\n",
       "      <td>2.069121</td>\n",
       "      <td>133170.495298</td>\n",
       "      <td>2.338682e+05</td>\n",
       "      <td>2.379013e+05</td>\n",
       "      <td>6.915170e+05</td>\n",
       "      <td>505.990997</td>\n",
       "      <td>...</td>\n",
       "      <td>0.022547</td>\n",
       "      <td>6.495621</td>\n",
       "      <td>1.890783</td>\n",
       "      <td>0.002268</td>\n",
       "      <td>0.003244</td>\n",
       "      <td>4.502674</td>\n",
       "      <td>4.963149</td>\n",
       "      <td>7.752743</td>\n",
       "      <td>4.872846</td>\n",
       "      <td>9.548489</td>\n",
       "    </tr>\n",
       "    <tr>\n",
       "      <th>min</th>\n",
       "      <td>-7.900000</td>\n",
       "      <td>0.000000</td>\n",
       "      <td>0.000000e+00</td>\n",
       "      <td>0.000000</td>\n",
       "      <td>0.008230</td>\n",
       "      <td>-816882.554121</td>\n",
       "      <td>-1.780445e+06</td>\n",
       "      <td>-1.889882e+06</td>\n",
       "      <td>0.000000e+00</td>\n",
       "      <td>0.096693</td>\n",
       "      <td>...</td>\n",
       "      <td>0.000000</td>\n",
       "      <td>-9.776349</td>\n",
       "      <td>-9.275321</td>\n",
       "      <td>-0.022873</td>\n",
       "      <td>-0.021223</td>\n",
       "      <td>-3.477451</td>\n",
       "      <td>-22.470358</td>\n",
       "      <td>1.305881</td>\n",
       "      <td>-20.111824</td>\n",
       "      <td>1.000000</td>\n",
       "    </tr>\n",
       "    <tr>\n",
       "      <th>25%</th>\n",
       "      <td>7.600000</td>\n",
       "      <td>0.124246</td>\n",
       "      <td>0.000000e+00</td>\n",
       "      <td>0.000000</td>\n",
       "      <td>1.924383</td>\n",
       "      <td>-302011.786091</td>\n",
       "      <td>-1.970599e+05</td>\n",
       "      <td>-8.946848e+04</td>\n",
       "      <td>0.000000e+00</td>\n",
       "      <td>117.687765</td>\n",
       "      <td>...</td>\n",
       "      <td>0.000000</td>\n",
       "      <td>7.527034</td>\n",
       "      <td>-1.271802</td>\n",
       "      <td>-0.000110</td>\n",
       "      <td>-0.000649</td>\n",
       "      <td>6.218264</td>\n",
       "      <td>-2.001309</td>\n",
       "      <td>11.556538</td>\n",
       "      <td>-2.746925</td>\n",
       "      <td>9.000000</td>\n",
       "    </tr>\n",
       "    <tr>\n",
       "      <th>50%</th>\n",
       "      <td>11.600000</td>\n",
       "      <td>5.425625</td>\n",
       "      <td>0.000000e+00</td>\n",
       "      <td>0.000000</td>\n",
       "      <td>2.990316</td>\n",
       "      <td>-222379.297816</td>\n",
       "      <td>-4.894289e+04</td>\n",
       "      <td>-1.954219e+03</td>\n",
       "      <td>3.600000e-12</td>\n",
       "      <td>321.587923</td>\n",
       "      <td>...</td>\n",
       "      <td>0.000000</td>\n",
       "      <td>11.855420</td>\n",
       "      <td>-0.588375</td>\n",
       "      <td>0.000741</td>\n",
       "      <td>0.000304</td>\n",
       "      <td>9.426134</td>\n",
       "      <td>0.850176</td>\n",
       "      <td>16.337755</td>\n",
       "      <td>0.501839</td>\n",
       "      <td>17.000000</td>\n",
       "    </tr>\n",
       "    <tr>\n",
       "      <th>75%</th>\n",
       "      <td>16.100000</td>\n",
       "      <td>47.025052</td>\n",
       "      <td>0.000000e+00</td>\n",
       "      <td>0.000000</td>\n",
       "      <td>4.438814</td>\n",
       "      <td>-107138.680673</td>\n",
       "      <td>-2.580780e+02</td>\n",
       "      <td>4.394024e+04</td>\n",
       "      <td>5.918494e+05</td>\n",
       "      <td>709.740217</td>\n",
       "      <td>...</td>\n",
       "      <td>0.000000</td>\n",
       "      <td>16.400056</td>\n",
       "      <td>0.554582</td>\n",
       "      <td>0.001957</td>\n",
       "      <td>0.001603</td>\n",
       "      <td>12.702356</td>\n",
       "      <td>3.981172</td>\n",
       "      <td>22.293404</td>\n",
       "      <td>4.015721</td>\n",
       "      <td>25.000000</td>\n",
       "    </tr>\n",
       "    <tr>\n",
       "      <th>max</th>\n",
       "      <td>38.400002</td>\n",
       "      <td>2448.672118</td>\n",
       "      <td>6.457207e-05</td>\n",
       "      <td>0.000447</td>\n",
       "      <td>17.449989</td>\n",
       "      <td>78624.299681</td>\n",
       "      <td>1.857474e+05</td>\n",
       "      <td>6.836656e+05</td>\n",
       "      <td>3.206372e+06</td>\n",
       "      <td>5289.707727</td>\n",
       "      <td>...</td>\n",
       "      <td>1.754839</td>\n",
       "      <td>39.642168</td>\n",
       "      <td>11.714195</td>\n",
       "      <td>0.028023</td>\n",
       "      <td>0.031406</td>\n",
       "      <td>22.606778</td>\n",
       "      <td>29.156881</td>\n",
       "      <td>54.592355</td>\n",
       "      <td>26.574025</td>\n",
       "      <td>36.000000</td>\n",
       "    </tr>\n",
       "  </tbody>\n",
       "</table>\n",
       "<p>8 rows × 27 columns</p>\n",
       "</div>"
      ],
      "text/plain": [
       "             tH2_obs    capeinsSOL0       ciwcH20        clwcH20  \\\n",
       "count  189260.000000  170492.000000  1.883070e+05  184800.000000   \n",
       "mean       12.006981      59.169631  5.027560e-08       0.000006   \n",
       "std         6.263605     142.986766  1.058130e-06       0.000035   \n",
       "min        -7.900000       0.000000  0.000000e+00       0.000000   \n",
       "25%         7.600000       0.124246  0.000000e+00       0.000000   \n",
       "50%        11.600000       5.425625  0.000000e+00       0.000000   \n",
       "75%        16.100000      47.025052  0.000000e+00       0.000000   \n",
       "max        38.400002    2448.672118  6.457207e-05       0.000447   \n",
       "\n",
       "               ffH10      flir1SOL0    fllat1SOL0    flsen1SOL0    flvis1SOL0  \\\n",
       "count  184702.000000  188118.000000  1.882190e+05  1.881510e+05  1.881810e+05   \n",
       "mean        3.406578 -217648.413598 -1.476294e+05 -7.151363e+04  4.136244e+05   \n",
       "std         2.069121  133170.495298  2.338682e+05  2.379013e+05  6.915170e+05   \n",
       "min         0.008230 -816882.554121 -1.780445e+06 -1.889882e+06  0.000000e+00   \n",
       "25%         1.924383 -302011.786091 -1.970599e+05 -8.946848e+04  0.000000e+00   \n",
       "50%         2.990316 -222379.297816 -4.894289e+04 -1.954219e+03  3.600000e-12   \n",
       "75%         4.438814 -107138.680673 -2.580780e+02  4.394024e+04  5.918494e+05   \n",
       "max        17.449989   78624.299681  1.857474e+05  6.836656e+05  3.206372e+06   \n",
       "\n",
       "         hcoulimSOL0      ...                rrH20            tH2  \\\n",
       "count  188307.000000      ...        184793.000000  184723.000000   \n",
       "mean      490.318652      ...             0.003668      12.143805   \n",
       "std       505.990997      ...             0.022547       6.495621   \n",
       "min         0.096693      ...             0.000000      -9.776349   \n",
       "25%       117.687765      ...             0.000000       7.527034   \n",
       "50%       321.587923      ...             0.000000      11.855420   \n",
       "75%       709.740217      ...             0.000000      16.400056   \n",
       "max      5289.707727      ...             1.754839      39.642168   \n",
       "\n",
       "       tH2_VGrad_2.100      tH2_XGrad      tH2_YGrad      tpwHPA850  \\\n",
       "count    184716.000000  184723.000000  184723.000000  188258.000000   \n",
       "mean         -0.183838       0.001031       0.000351       9.477384   \n",
       "std           1.890783       0.002268       0.003244       4.502674   \n",
       "min          -9.275321      -0.022873      -0.021223      -3.477451   \n",
       "25%          -1.271802      -0.000110      -0.000649       6.218264   \n",
       "50%          -0.588375       0.000741       0.000304       9.426134   \n",
       "75%           0.554582       0.001957       0.001603      12.702356   \n",
       "max          11.714195       0.028023       0.031406      22.606778   \n",
       "\n",
       "              ux1H10       vapcSOL0         vx1H10            ech  \n",
       "count  184702.000000  188286.000000  184716.000000  189280.000000  \n",
       "mean        1.128499      17.538598       0.732079      16.898669  \n",
       "std         4.963149       7.752743       4.872846       9.548489  \n",
       "min       -22.470358       1.305881     -20.111824       1.000000  \n",
       "25%        -2.001309      11.556538      -2.746925       9.000000  \n",
       "50%         0.850176      16.337755       0.501839      17.000000  \n",
       "75%         3.981172      22.293404       4.015721      25.000000  \n",
       "max        29.156881      54.592355      26.574025      36.000000  \n",
       "\n",
       "[8 rows x 27 columns]"
      ]
     },
     "execution_count": 6,
     "metadata": {},
     "output_type": "execute_result"
    }
   ],
   "source": [
    "df.describe()"
   ]
  },
  {
   "cell_type": "code",
   "execution_count": 7,
   "metadata": {},
   "outputs": [
    {
     "name": "stdout",
     "output_type": "stream",
     "text": [
      "<class 'pandas.core.frame.DataFrame'>\n",
      "Int64Index: 189280 entries, 0 to 2134\n",
      "Data columns (total 31 columns):\n",
      "date               189280 non-null datetime64[ns]\n",
      "insee              189280 non-null category\n",
      "tH2_obs            189260 non-null float64\n",
      "capeinsSOL0        170492 non-null float64\n",
      "ciwcH20            188307 non-null float64\n",
      "clwcH20            184800 non-null float64\n",
      "ddH10_rose4        184702 non-null category\n",
      "ffH10              184702 non-null float64\n",
      "flir1SOL0          188118 non-null float64\n",
      "fllat1SOL0         188219 non-null float64\n",
      "flsen1SOL0         188151 non-null float64\n",
      "flvis1SOL0         188181 non-null float64\n",
      "hcoulimSOL0        188307 non-null float64\n",
      "huH2               184723 non-null float64\n",
      "iwcSOL0            188307 non-null float64\n",
      "nbSOL0_HMoy        188293 non-null float64\n",
      "nH20               178493 non-null float64\n",
      "ntSOL0_HMoy        188293 non-null float64\n",
      "pMER0              184471 non-null float64\n",
      "rr1SOL0            188265 non-null float64\n",
      "rrH20              184793 non-null float64\n",
      "tH2                184723 non-null float64\n",
      "tH2_VGrad_2.100    184716 non-null float64\n",
      "tH2_XGrad          184723 non-null float64\n",
      "tH2_YGrad          184723 non-null float64\n",
      "tpwHPA850          188258 non-null float64\n",
      "ux1H10             184702 non-null float64\n",
      "vapcSOL0           188286 non-null float64\n",
      "vx1H10             184716 non-null float64\n",
      "ech                189280 non-null int64\n",
      "mois               189280 non-null object\n",
      "dtypes: category(2), datetime64[ns](1), float64(26), int64(1), object(1)\n",
      "memory usage: 48.7+ MB\n"
     ]
    }
   ],
   "source": [
    "df.info()"
   ]
  },
  {
   "cell_type": "code",
   "execution_count": 8,
   "metadata": {},
   "outputs": [
    {
     "data": {
      "text/plain": [
       "(189280, 31)"
      ]
     },
     "execution_count": 8,
     "metadata": {},
     "output_type": "execute_result"
    }
   ],
   "source": [
    "np.shape(df)"
   ]
  },
  {
   "cell_type": "code",
   "execution_count": 9,
   "metadata": {},
   "outputs": [
    {
     "data": {
      "text/plain": [
       "189280"
      ]
     },
     "execution_count": 9,
     "metadata": {},
     "output_type": "execute_result"
    }
   ],
   "source": [
    "N_withNA=df.shape[0]\n",
    "N_withNA"
   ]
  },
  {
   "cell_type": "code",
   "execution_count": 10,
   "metadata": {},
   "outputs": [
    {
     "name": "stdout",
     "output_type": "stream",
     "text": [
      "Nous avons éliminé 26528 données soit 14.02 %\n"
     ]
    }
   ],
   "source": [
    "df_clean=df.dropna(axis=0)\n",
    "N_withoutNA=df_clean.shape[0]\n",
    "print(\"Nous avons éliminé %d données soit %0.2f %s\"%(N_withNA-N_withoutNA,(N_withNA-N_withoutNA)/N_withNA*100,'%'))"
   ]
  },
  {
   "cell_type": "code",
   "execution_count": 11,
   "metadata": {
    "collapsed": true
   },
   "outputs": [],
   "source": [
    "## remplacer les mois par des int\n",
    "df_dummies=pd.get_dummies(df_clean[['mois']])\n",
    "df_clean_c=pd.concat([df_clean,df_dummies],axis=1)\n",
    "df_clean_c=df_clean_c.drop(['mois'],axis=1)\n",
    "\n",
    "df_dummies=pd.get_dummies(df_clean_c[['insee']])\n",
    "df_clean_c=pd.concat([df_clean_c,df_dummies],axis=1)\n",
    "df_clean_c=df_clean_c.drop(['insee'],axis=1)\n",
    "\n",
    "df_dummies=pd.get_dummies(df_clean_c[['ddH10_rose4']])\n",
    "df_clean_c=pd.concat([df_clean_c,df_dummies],axis=1)\n",
    "df_clean_c=df_clean_c.drop(['ddH10_rose4'],axis=1)"
   ]
  },
  {
   "cell_type": "code",
   "execution_count": 12,
   "metadata": {
    "collapsed": true
   },
   "outputs": [],
   "source": [
    "from sklearn.model_selection import train_test_split  \n",
    "Y=df_clean_c['tH2_obs']\n",
    "X=df_clean_c\n",
    "X=X.drop(['tH2_obs'],axis=1)\n",
    "X=X.drop(['date'],axis=1)\n",
    "X_train,X_test,Y_train,Y_test=train_test_split(X,Y,test_size=0.3,random_state=11)"
   ]
  },
  {
   "cell_type": "markdown",
   "metadata": {},
   "source": [
    "## PLS"
   ]
  },
  {
   "cell_type": "code",
   "execution_count": 47,
   "metadata": {},
   "outputs": [
    {
     "data": {
      "text/plain": [
       "PLSRegression(copy=True, max_iter=1000, n_components=30, scale=True,\n",
       "       tol=1e-06)"
      ]
     },
     "execution_count": 47,
     "metadata": {},
     "output_type": "execute_result"
    }
   ],
   "source": [
    "from sklearn.cross_decomposition import PLSRegression\n",
    "from sklearn.metrics import mean_squared_error\n",
    "pls = PLSRegression(n_components=30,max_iter=1000)\n",
    "pls.fit(X_train,Y_train)"
   ]
  },
  {
   "cell_type": "code",
   "execution_count": 48,
   "metadata": {},
   "outputs": [],
   "source": [
    "Y_pred = pls.predict(X_test)"
   ]
  },
  {
   "cell_type": "code",
   "execution_count": 49,
   "metadata": {},
   "outputs": [
    {
     "name": "stdout",
     "output_type": "stream",
     "text": [
      "MSE = 1.51112748182\n"
     ]
    }
   ],
   "source": [
    "print(\"MSE =\",mean_squared_error(Y_test,Y_pred))"
   ]
  }
 ],
 "metadata": {
  "kernelspec": {
   "display_name": "Python [default]",
   "language": "python",
   "name": "python3"
  },
  "language_info": {
   "codemirror_mode": {
    "name": "ipython",
    "version": 3
   },
   "file_extension": ".py",
   "mimetype": "text/x-python",
   "name": "python",
   "nbconvert_exporter": "python",
   "pygments_lexer": "ipython3",
   "version": "3.6.1"
  }
 },
 "nbformat": 4,
 "nbformat_minor": 2
}
