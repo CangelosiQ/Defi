{
 "cells": [
  {
   "cell_type": "markdown",
   "metadata": {},
   "source": [
    "# Défi Grosses Data 2018"
   ]
  },
  {
   "cell_type": "markdown",
   "metadata": {},
   "source": [
    "## Data analysis"
   ]
  },
  {
   "cell_type": "code",
   "execution_count": 120,
   "metadata": {
    "collapsed": true
   },
   "outputs": [],
   "source": [
    "import numpy as np\n",
    "import pandas as pd\n",
    "import datetime as dt\n",
    "from os import listdir"
   ]
  },
  {
   "cell_type": "code",
   "execution_count": 121,
   "metadata": {
    "collapsed": true
   },
   "outputs": [],
   "source": [
    "def open_and_transform(file):\n",
    "    path='./../data_meteo/'\n",
    "    #input_file='./../data_meteo/train_1.csv'\n",
    "    df = pd.read_csv(path+file, header=0, delimiter=\";\",decimal=\",\")\n",
    "    #print(\"Dimensions:\",np.shape(df))\n",
    "    df['date']=df['date'].apply(lambda x: dt.datetime.strptime(x, '%Y-%m-%d'))\n",
    "    df['insee'] = df['insee'].astype('category')\n",
    "    df['mois'] = df['mois'].astype('category')\n",
    "    df['ddH10_rose4'] = df['ddH10_rose4'].astype('category')\n",
    "    df['ech'] = df['ech'].astype('category')\n",
    "    df['flvis1SOL0'] = df['flvis1SOL0'].astype('float64')\n",
    "    #print(\"Fichier\",file,\" ouvert.\")\n",
    "    return df"
   ]
  },
  {
   "cell_type": "code",
   "execution_count": 122,
   "metadata": {
    "collapsed": true
   },
   "outputs": [],
   "source": [
    "listdir('./../data_meteo/')\n",
    "list_files=np.empty(36, dtype='|U12')\n",
    "i=0\n",
    "for fichier in listdir('./../data_meteo/'):\n",
    "    if 'train' in fichier:\n",
    "        list_files[i]=fichier\n",
    "        i=i+1"
   ]
  },
  {
   "cell_type": "code",
   "execution_count": 123,
   "metadata": {},
   "outputs": [
    {
     "name": "stdout",
     "output_type": "stream",
     "text": [
      "Dimensions: (6167, 31)\n",
      "Dimensions: (5740, 31)\n",
      "Dimensions: (5740, 31)\n",
      "Dimensions: (5740, 31)\n",
      "Dimensions: (5740, 31)\n",
      "Dimensions: (5740, 31)\n",
      "Dimensions: (5740, 31)\n",
      "Dimensions: (5740, 31)\n",
      "Dimensions: (5740, 31)\n",
      "Dimensions: (5740, 31)\n",
      "Dimensions: (5740, 31)\n",
      "Dimensions: (5740, 31)\n",
      "Dimensions: (5740, 31)\n",
      "Dimensions: (5740, 31)\n",
      "Dimensions: (6167, 31)\n",
      "Dimensions: (6167, 31)\n",
      "Dimensions: (6167, 31)\n",
      "Dimensions: (6167, 31)\n",
      "Dimensions: (6167, 31)\n",
      "Dimensions: (6167, 31)\n",
      "Dimensions: (6167, 31)\n",
      "Dimensions: (6167, 31)\n",
      "Dimensions: (5740, 31)\n",
      "Dimensions: (6167, 31)\n",
      "Dimensions: (2135, 31)\n",
      "Dimensions: (2135, 31)\n",
      "Dimensions: (2135, 31)\n",
      "Dimensions: (2135, 31)\n",
      "Dimensions: (2135, 31)\n",
      "Dimensions: (2135, 31)\n",
      "Dimensions: (5740, 31)\n",
      "Dimensions: (5740, 31)\n",
      "Dimensions: (5740, 31)\n",
      "Dimensions: (5740, 31)\n",
      "Dimensions: (5740, 31)\n",
      "Dimensions: (5740, 31)\n"
     ]
    }
   ],
   "source": [
    "df_tot=pd.DataFrame()\n",
    "for file in list_files:\n",
    "    df_tot=pd.concat([df_tot,open_and_transform(file)])"
   ]
  },
  {
   "cell_type": "code",
   "execution_count": 124,
   "metadata": {
    "collapsed": true
   },
   "outputs": [],
   "source": [
    "df_tot=df_tot.sort_values(by=['ech','date'],ascending=True)"
   ]
  },
  {
   "cell_type": "code",
   "execution_count": 125,
   "metadata": {},
   "outputs": [
    {
     "data": {
      "text/html": [
       "<div>\n",
       "<style>\n",
       "    .dataframe thead tr:only-child th {\n",
       "        text-align: right;\n",
       "    }\n",
       "\n",
       "    .dataframe thead th {\n",
       "        text-align: left;\n",
       "    }\n",
       "\n",
       "    .dataframe tbody tr th {\n",
       "        vertical-align: top;\n",
       "    }\n",
       "</style>\n",
       "<table border=\"1\" class=\"dataframe\">\n",
       "  <thead>\n",
       "    <tr style=\"text-align: right;\">\n",
       "      <th></th>\n",
       "      <th>tH2_obs</th>\n",
       "      <th>capeinsSOL0</th>\n",
       "      <th>ciwcH20</th>\n",
       "      <th>clwcH20</th>\n",
       "      <th>ffH10</th>\n",
       "      <th>flir1SOL0</th>\n",
       "      <th>fllat1SOL0</th>\n",
       "      <th>flsen1SOL0</th>\n",
       "      <th>hcoulimSOL0</th>\n",
       "      <th>huH2</th>\n",
       "      <th>...</th>\n",
       "      <th>rrH20</th>\n",
       "      <th>tH2</th>\n",
       "      <th>tH2_VGrad_2.100</th>\n",
       "      <th>tH2_XGrad</th>\n",
       "      <th>tH2_YGrad</th>\n",
       "      <th>tpwHPA850</th>\n",
       "      <th>ux1H10</th>\n",
       "      <th>vapcSOL0</th>\n",
       "      <th>vx1H10</th>\n",
       "      <th>ech</th>\n",
       "    </tr>\n",
       "  </thead>\n",
       "  <tbody>\n",
       "    <tr>\n",
       "      <th>count</th>\n",
       "      <td>189260.000000</td>\n",
       "      <td>170492.000000</td>\n",
       "      <td>1.883070e+05</td>\n",
       "      <td>184800.000000</td>\n",
       "      <td>184702.000000</td>\n",
       "      <td>188118.000000</td>\n",
       "      <td>1.882190e+05</td>\n",
       "      <td>1.881510e+05</td>\n",
       "      <td>188307.000000</td>\n",
       "      <td>184723.000000</td>\n",
       "      <td>...</td>\n",
       "      <td>184793.000000</td>\n",
       "      <td>184723.000000</td>\n",
       "      <td>184716.000000</td>\n",
       "      <td>184723.000000</td>\n",
       "      <td>184723.000000</td>\n",
       "      <td>188258.000000</td>\n",
       "      <td>184702.000000</td>\n",
       "      <td>188286.000000</td>\n",
       "      <td>184716.000000</td>\n",
       "      <td>189280.000000</td>\n",
       "    </tr>\n",
       "    <tr>\n",
       "      <th>mean</th>\n",
       "      <td>12.006981</td>\n",
       "      <td>59.169631</td>\n",
       "      <td>5.027560e-08</td>\n",
       "      <td>0.000006</td>\n",
       "      <td>3.406578</td>\n",
       "      <td>-217648.413598</td>\n",
       "      <td>-1.476294e+05</td>\n",
       "      <td>-7.151363e+04</td>\n",
       "      <td>490.318652</td>\n",
       "      <td>77.560604</td>\n",
       "      <td>...</td>\n",
       "      <td>0.003668</td>\n",
       "      <td>12.143805</td>\n",
       "      <td>-0.183838</td>\n",
       "      <td>0.001031</td>\n",
       "      <td>0.000351</td>\n",
       "      <td>9.477384</td>\n",
       "      <td>1.128499</td>\n",
       "      <td>17.538598</td>\n",
       "      <td>0.732079</td>\n",
       "      <td>16.898669</td>\n",
       "    </tr>\n",
       "    <tr>\n",
       "      <th>std</th>\n",
       "      <td>6.263605</td>\n",
       "      <td>142.986766</td>\n",
       "      <td>1.058130e-06</td>\n",
       "      <td>0.000035</td>\n",
       "      <td>2.069121</td>\n",
       "      <td>133170.495298</td>\n",
       "      <td>2.338682e+05</td>\n",
       "      <td>2.379013e+05</td>\n",
       "      <td>505.990997</td>\n",
       "      <td>16.006465</td>\n",
       "      <td>...</td>\n",
       "      <td>0.022547</td>\n",
       "      <td>6.495621</td>\n",
       "      <td>1.890783</td>\n",
       "      <td>0.002268</td>\n",
       "      <td>0.003244</td>\n",
       "      <td>4.502674</td>\n",
       "      <td>4.963149</td>\n",
       "      <td>7.752743</td>\n",
       "      <td>4.872846</td>\n",
       "      <td>9.548489</td>\n",
       "    </tr>\n",
       "    <tr>\n",
       "      <th>min</th>\n",
       "      <td>-7.900000</td>\n",
       "      <td>0.000000</td>\n",
       "      <td>0.000000e+00</td>\n",
       "      <td>0.000000</td>\n",
       "      <td>0.008230</td>\n",
       "      <td>-816882.554121</td>\n",
       "      <td>-1.780445e+06</td>\n",
       "      <td>-1.889882e+06</td>\n",
       "      <td>0.096693</td>\n",
       "      <td>13.168704</td>\n",
       "      <td>...</td>\n",
       "      <td>0.000000</td>\n",
       "      <td>-9.776349</td>\n",
       "      <td>-9.275321</td>\n",
       "      <td>-0.022873</td>\n",
       "      <td>-0.021223</td>\n",
       "      <td>-3.477451</td>\n",
       "      <td>-22.470358</td>\n",
       "      <td>1.305881</td>\n",
       "      <td>-20.111824</td>\n",
       "      <td>1.000000</td>\n",
       "    </tr>\n",
       "    <tr>\n",
       "      <th>25%</th>\n",
       "      <td>7.600000</td>\n",
       "      <td>0.124246</td>\n",
       "      <td>0.000000e+00</td>\n",
       "      <td>0.000000</td>\n",
       "      <td>1.924383</td>\n",
       "      <td>-302011.786091</td>\n",
       "      <td>-1.970599e+05</td>\n",
       "      <td>-8.946848e+04</td>\n",
       "      <td>117.687765</td>\n",
       "      <td>67.827227</td>\n",
       "      <td>...</td>\n",
       "      <td>0.000000</td>\n",
       "      <td>7.527034</td>\n",
       "      <td>-1.271802</td>\n",
       "      <td>-0.000110</td>\n",
       "      <td>-0.000649</td>\n",
       "      <td>6.218264</td>\n",
       "      <td>-2.001309</td>\n",
       "      <td>11.556538</td>\n",
       "      <td>-2.746925</td>\n",
       "      <td>9.000000</td>\n",
       "    </tr>\n",
       "    <tr>\n",
       "      <th>50%</th>\n",
       "      <td>11.600000</td>\n",
       "      <td>5.425625</td>\n",
       "      <td>0.000000e+00</td>\n",
       "      <td>0.000000</td>\n",
       "      <td>2.990316</td>\n",
       "      <td>-222379.297816</td>\n",
       "      <td>-4.894289e+04</td>\n",
       "      <td>-1.954219e+03</td>\n",
       "      <td>321.587923</td>\n",
       "      <td>81.744680</td>\n",
       "      <td>...</td>\n",
       "      <td>0.000000</td>\n",
       "      <td>11.855420</td>\n",
       "      <td>-0.588375</td>\n",
       "      <td>0.000741</td>\n",
       "      <td>0.000304</td>\n",
       "      <td>9.426134</td>\n",
       "      <td>0.850176</td>\n",
       "      <td>16.337755</td>\n",
       "      <td>0.501839</td>\n",
       "      <td>17.000000</td>\n",
       "    </tr>\n",
       "    <tr>\n",
       "      <th>75%</th>\n",
       "      <td>16.100000</td>\n",
       "      <td>47.025052</td>\n",
       "      <td>0.000000e+00</td>\n",
       "      <td>0.000000</td>\n",
       "      <td>4.438814</td>\n",
       "      <td>-107138.680673</td>\n",
       "      <td>-2.580780e+02</td>\n",
       "      <td>4.394024e+04</td>\n",
       "      <td>709.740217</td>\n",
       "      <td>90.139770</td>\n",
       "      <td>...</td>\n",
       "      <td>0.000000</td>\n",
       "      <td>16.400056</td>\n",
       "      <td>0.554582</td>\n",
       "      <td>0.001957</td>\n",
       "      <td>0.001603</td>\n",
       "      <td>12.702356</td>\n",
       "      <td>3.981172</td>\n",
       "      <td>22.293404</td>\n",
       "      <td>4.015721</td>\n",
       "      <td>25.000000</td>\n",
       "    </tr>\n",
       "    <tr>\n",
       "      <th>max</th>\n",
       "      <td>38.400002</td>\n",
       "      <td>2448.672118</td>\n",
       "      <td>6.457207e-05</td>\n",
       "      <td>0.000447</td>\n",
       "      <td>17.449989</td>\n",
       "      <td>78624.299681</td>\n",
       "      <td>1.857474e+05</td>\n",
       "      <td>6.836656e+05</td>\n",
       "      <td>5289.707727</td>\n",
       "      <td>100.481985</td>\n",
       "      <td>...</td>\n",
       "      <td>1.754839</td>\n",
       "      <td>39.642168</td>\n",
       "      <td>11.714195</td>\n",
       "      <td>0.028023</td>\n",
       "      <td>0.031406</td>\n",
       "      <td>22.606778</td>\n",
       "      <td>29.156881</td>\n",
       "      <td>54.592355</td>\n",
       "      <td>26.574025</td>\n",
       "      <td>36.000000</td>\n",
       "    </tr>\n",
       "  </tbody>\n",
       "</table>\n",
       "<p>8 rows × 26 columns</p>\n",
       "</div>"
      ],
      "text/plain": [
       "             tH2_obs    capeinsSOL0       ciwcH20        clwcH20  \\\n",
       "count  189260.000000  170492.000000  1.883070e+05  184800.000000   \n",
       "mean       12.006981      59.169631  5.027560e-08       0.000006   \n",
       "std         6.263605     142.986766  1.058130e-06       0.000035   \n",
       "min        -7.900000       0.000000  0.000000e+00       0.000000   \n",
       "25%         7.600000       0.124246  0.000000e+00       0.000000   \n",
       "50%        11.600000       5.425625  0.000000e+00       0.000000   \n",
       "75%        16.100000      47.025052  0.000000e+00       0.000000   \n",
       "max        38.400002    2448.672118  6.457207e-05       0.000447   \n",
       "\n",
       "               ffH10      flir1SOL0    fllat1SOL0    flsen1SOL0  \\\n",
       "count  184702.000000  188118.000000  1.882190e+05  1.881510e+05   \n",
       "mean        3.406578 -217648.413598 -1.476294e+05 -7.151363e+04   \n",
       "std         2.069121  133170.495298  2.338682e+05  2.379013e+05   \n",
       "min         0.008230 -816882.554121 -1.780445e+06 -1.889882e+06   \n",
       "25%         1.924383 -302011.786091 -1.970599e+05 -8.946848e+04   \n",
       "50%         2.990316 -222379.297816 -4.894289e+04 -1.954219e+03   \n",
       "75%         4.438814 -107138.680673 -2.580780e+02  4.394024e+04   \n",
       "max        17.449989   78624.299681  1.857474e+05  6.836656e+05   \n",
       "\n",
       "         hcoulimSOL0           huH2      ...                rrH20  \\\n",
       "count  188307.000000  184723.000000      ...        184793.000000   \n",
       "mean      490.318652      77.560604      ...             0.003668   \n",
       "std       505.990997      16.006465      ...             0.022547   \n",
       "min         0.096693      13.168704      ...             0.000000   \n",
       "25%       117.687765      67.827227      ...             0.000000   \n",
       "50%       321.587923      81.744680      ...             0.000000   \n",
       "75%       709.740217      90.139770      ...             0.000000   \n",
       "max      5289.707727     100.481985      ...             1.754839   \n",
       "\n",
       "                 tH2  tH2_VGrad_2.100      tH2_XGrad      tH2_YGrad  \\\n",
       "count  184723.000000    184716.000000  184723.000000  184723.000000   \n",
       "mean       12.143805        -0.183838       0.001031       0.000351   \n",
       "std         6.495621         1.890783       0.002268       0.003244   \n",
       "min        -9.776349        -9.275321      -0.022873      -0.021223   \n",
       "25%         7.527034        -1.271802      -0.000110      -0.000649   \n",
       "50%        11.855420        -0.588375       0.000741       0.000304   \n",
       "75%        16.400056         0.554582       0.001957       0.001603   \n",
       "max        39.642168        11.714195       0.028023       0.031406   \n",
       "\n",
       "           tpwHPA850         ux1H10       vapcSOL0         vx1H10  \\\n",
       "count  188258.000000  184702.000000  188286.000000  184716.000000   \n",
       "mean        9.477384       1.128499      17.538598       0.732079   \n",
       "std         4.502674       4.963149       7.752743       4.872846   \n",
       "min        -3.477451     -22.470358       1.305881     -20.111824   \n",
       "25%         6.218264      -2.001309      11.556538      -2.746925   \n",
       "50%         9.426134       0.850176      16.337755       0.501839   \n",
       "75%        12.702356       3.981172      22.293404       4.015721   \n",
       "max        22.606778      29.156881      54.592355      26.574025   \n",
       "\n",
       "                 ech  \n",
       "count  189280.000000  \n",
       "mean       16.898669  \n",
       "std         9.548489  \n",
       "min         1.000000  \n",
       "25%         9.000000  \n",
       "50%        17.000000  \n",
       "75%        25.000000  \n",
       "max        36.000000  \n",
       "\n",
       "[8 rows x 26 columns]"
      ]
     },
     "execution_count": 125,
     "metadata": {},
     "output_type": "execute_result"
    }
   ],
   "source": [
    "df_tot.describe()"
   ]
  },
  {
   "cell_type": "code",
   "execution_count": 126,
   "metadata": {},
   "outputs": [
    {
     "name": "stdout",
     "output_type": "stream",
     "text": [
      "<class 'pandas.core.frame.DataFrame'>\n",
      "Int64Index: 189280 entries, 0 to 2134\n",
      "Data columns (total 31 columns):\n",
      "date               189280 non-null datetime64[ns]\n",
      "insee              189280 non-null category\n",
      "tH2_obs            189260 non-null float64\n",
      "capeinsSOL0        170492 non-null float64\n",
      "ciwcH20            188307 non-null float64\n",
      "clwcH20            184800 non-null float64\n",
      "ddH10_rose4        184702 non-null category\n",
      "ffH10              184702 non-null float64\n",
      "flir1SOL0          188118 non-null float64\n",
      "fllat1SOL0         188219 non-null float64\n",
      "flsen1SOL0         188151 non-null float64\n",
      "flvis1SOL0         188181 non-null object\n",
      "hcoulimSOL0        188307 non-null float64\n",
      "huH2               184723 non-null float64\n",
      "iwcSOL0            188307 non-null float64\n",
      "nbSOL0_HMoy        188293 non-null float64\n",
      "nH20               178493 non-null float64\n",
      "ntSOL0_HMoy        188293 non-null float64\n",
      "pMER0              184471 non-null float64\n",
      "rr1SOL0            188265 non-null float64\n",
      "rrH20              184793 non-null float64\n",
      "tH2                184723 non-null float64\n",
      "tH2_VGrad_2.100    184716 non-null float64\n",
      "tH2_XGrad          184723 non-null float64\n",
      "tH2_YGrad          184723 non-null float64\n",
      "tpwHPA850          188258 non-null float64\n",
      "ux1H10             184702 non-null float64\n",
      "vapcSOL0           188286 non-null float64\n",
      "vx1H10             184716 non-null float64\n",
      "ech                189280 non-null int64\n",
      "mois               189280 non-null object\n",
      "dtypes: category(2), datetime64[ns](1), float64(25), int64(1), object(2)\n",
      "memory usage: 43.7+ MB\n"
     ]
    }
   ],
   "source": [
    "df_tot.info()"
   ]
  },
  {
   "cell_type": "code",
   "execution_count": 127,
   "metadata": {},
   "outputs": [
    {
     "data": {
      "text/plain": [
       "(189280, 31)"
      ]
     },
     "execution_count": 127,
     "metadata": {},
     "output_type": "execute_result"
    }
   ],
   "source": [
    "np.shape(df_tot)"
   ]
  },
  {
   "cell_type": "code",
   "execution_count": 128,
   "metadata": {},
   "outputs": [
    {
     "data": {
      "text/plain": [
       "pandas.core.frame.DataFrame"
      ]
     },
     "execution_count": 128,
     "metadata": {},
     "output_type": "execute_result"
    }
   ],
   "source": [
    "type(df_tot)"
   ]
  },
  {
   "cell_type": "code",
   "execution_count": 129,
   "metadata": {},
   "outputs": [
    {
     "data": {
      "text/plain": [
       "189280"
      ]
     },
     "execution_count": 129,
     "metadata": {},
     "output_type": "execute_result"
    }
   ],
   "source": [
    "N_withNA=df_tot.shape[0]\n",
    "N_withNA"
   ]
  },
  {
   "cell_type": "code",
   "execution_count": 130,
   "metadata": {},
   "outputs": [
    {
     "name": "stdout",
     "output_type": "stream",
     "text": [
      "Nous avons éliminé 26528 données soit 14.02 %\n"
     ]
    }
   ],
   "source": [
    "df_clean=df_tot.dropna(axis=0)\n",
    "N_withoutNA=df_clean.shape[0]\n",
    "print(\"Nous avons éliminé %d données soit %0.2f %s\"%(N_withNA-N_withoutNA,(N_withNA-N_withoutNA)/N_withNA*100,'%'))"
   ]
  },
  {
   "cell_type": "code",
   "execution_count": 148,
   "metadata": {},
   "outputs": [
    {
     "ename": "TypeError",
     "evalue": "drop() missing 1 required positional argument: 'labels'",
     "output_type": "error",
     "traceback": [
      "\u001b[1;31m---------------------------------------------------------------------------\u001b[0m",
      "\u001b[1;31mTypeError\u001b[0m                                 Traceback (most recent call last)",
      "\u001b[1;32m<ipython-input-148-de66ea03c30f>\u001b[0m in \u001b[0;36m<module>\u001b[1;34m()\u001b[0m\n\u001b[0;32m      3\u001b[0m \u001b[0mdf_clean_c\u001b[0m\u001b[1;33m=\u001b[0m\u001b[0mpd\u001b[0m\u001b[1;33m.\u001b[0m\u001b[0mconcat\u001b[0m\u001b[1;33m(\u001b[0m\u001b[1;33m[\u001b[0m\u001b[0mdf_clean\u001b[0m\u001b[1;33m,\u001b[0m\u001b[0mdf_dummies\u001b[0m\u001b[1;33m]\u001b[0m\u001b[1;33m,\u001b[0m\u001b[0maxis\u001b[0m\u001b[1;33m=\u001b[0m\u001b[1;36m1\u001b[0m\u001b[1;33m)\u001b[0m\u001b[1;33m\u001b[0m\u001b[0m\n\u001b[0;32m      4\u001b[0m \u001b[0mdf_clean_c\u001b[0m\u001b[1;33m=\u001b[0m\u001b[0mdf_clean_c\u001b[0m\u001b[1;33m.\u001b[0m\u001b[0mdrop\u001b[0m\u001b[1;33m(\u001b[0m\u001b[1;34m'mois'\u001b[0m\u001b[1;33m)\u001b[0m\u001b[1;33m\u001b[0m\u001b[0m\n\u001b[1;32m----> 5\u001b[1;33m \u001b[0mdf_clean_c\u001b[0m\u001b[1;33m[\u001b[0m\u001b[1;34m'mois'\u001b[0m\u001b[1;33m]\u001b[0m\u001b[1;33m.\u001b[0m\u001b[0mdrop\u001b[0m\u001b[1;33m(\u001b[0m\u001b[1;33m)\u001b[0m\u001b[1;33m\u001b[0m\u001b[0m\n\u001b[0m",
      "\u001b[1;31mTypeError\u001b[0m: drop() missing 1 required positional argument: 'labels'"
     ]
    }
   ],
   "source": [
    "## remplacer les mois par des int\n",
    "df_dummies=pd.get_dummies(df_clean[['mois']])\n",
    "df_clean_c=pd.concat([df_clean,df_dummies],axis=1)\n",
    "df_clean_c=df_clean_c.drop('mois')\n"
   ]
  },
  {
   "cell_type": "code",
   "execution_count": 135,
   "metadata": {},
   "outputs": [],
   "source": [
    "from sklearn.model_selection import train_test_split  \n",
    "Y=df_clean_c['tH2_obs']\n",
    "X=df_clean_c\n",
    "X.drop(['tH2_obs'])\n",
    "X_train,X_test,Y_train,Y_test=train_test_split(X,Y,test_size=0.3,random_state=11)"
   ]
  },
  {
   "cell_type": "code",
   "execution_count": 147,
   "metadata": {},
   "outputs": [
    {
     "data": {
      "text/plain": [
       "date               datetime64[ns]\n",
       "insee                    category\n",
       "tH2_obs                   float64\n",
       "capeinsSOL0               float64\n",
       "ciwcH20                   float64\n",
       "clwcH20                   float64\n",
       "ddH10_rose4              category\n",
       "ffH10                     float64\n",
       "flir1SOL0                 float64\n",
       "fllat1SOL0                float64\n",
       "flsen1SOL0                float64\n",
       "flvis1SOL0                 object\n",
       "hcoulimSOL0               float64\n",
       "huH2                      float64\n",
       "iwcSOL0                   float64\n",
       "nbSOL0_HMoy               float64\n",
       "nH20                      float64\n",
       "ntSOL0_HMoy               float64\n",
       "pMER0                     float64\n",
       "rr1SOL0                   float64\n",
       "rrH20                     float64\n",
       "tH2                       float64\n",
       "tH2_VGrad_2.100           float64\n",
       "tH2_XGrad                 float64\n",
       "tH2_YGrad                 float64\n",
       "tpwHPA850                 float64\n",
       "ux1H10                    float64\n",
       "vapcSOL0                  float64\n",
       "vx1H10                    float64\n",
       "ech                         int64\n",
       "mois                       object\n",
       "mois_août                   uint8\n",
       "mois_avril                  uint8\n",
       "mois_décembre               uint8\n",
       "mois_février                uint8\n",
       "mois_janvier                uint8\n",
       "mois_juillet                uint8\n",
       "mois_juin                   uint8\n",
       "mois_mai                    uint8\n",
       "mois_mars                   uint8\n",
       "mois_novembre               uint8\n",
       "mois_octobre                uint8\n",
       "mois_septembre              uint8\n",
       "dtype: object"
      ]
     },
     "execution_count": 147,
     "metadata": {},
     "output_type": "execute_result"
    }
   ],
   "source": [
    "df_clean_c.dtypes"
   ]
  },
  {
   "cell_type": "code",
   "execution_count": 116,
   "metadata": {},
   "outputs": [
    {
     "data": {
      "text/plain": [
       "((113926, 43), (48826, 43))"
      ]
     },
     "execution_count": 116,
     "metadata": {},
     "output_type": "execute_result"
    }
   ],
   "source": [
    "X_train.shape, X_test.shape"
   ]
  },
  {
   "cell_type": "code",
   "execution_count": 117,
   "metadata": {},
   "outputs": [
    {
     "ename": "ValueError",
     "evalue": "could not convert string to float: 'juin'",
     "output_type": "error",
     "traceback": [
      "\u001b[1;31m---------------------------------------------------------------------------\u001b[0m",
      "\u001b[1;31mValueError\u001b[0m                                Traceback (most recent call last)",
      "\u001b[1;32m<ipython-input-117-7675ef96bd3e>\u001b[0m in \u001b[0;36m<module>\u001b[1;34m()\u001b[0m\n\u001b[0;32m      4\u001b[0m \u001b[1;31m# des variables explicatives avec les commandes ci-dessous\u001b[0m\u001b[1;33m\u001b[0m\u001b[1;33m\u001b[0m\u001b[0m\n\u001b[0;32m      5\u001b[0m \u001b[0mscaler\u001b[0m \u001b[1;33m=\u001b[0m \u001b[0mStandardScaler\u001b[0m\u001b[1;33m(\u001b[0m\u001b[1;33m)\u001b[0m\u001b[1;33m\u001b[0m\u001b[0m\n\u001b[1;32m----> 6\u001b[1;33m \u001b[0mscaler\u001b[0m\u001b[1;33m.\u001b[0m\u001b[0mfit\u001b[0m\u001b[1;33m(\u001b[0m\u001b[0mX_train\u001b[0m\u001b[1;33m)\u001b[0m\u001b[1;33m\u001b[0m\u001b[0m\n\u001b[0m\u001b[0;32m      7\u001b[0m \u001b[0mXnet_train\u001b[0m \u001b[1;33m=\u001b[0m \u001b[0mscaler\u001b[0m\u001b[1;33m.\u001b[0m\u001b[0mtransform\u001b[0m\u001b[1;33m(\u001b[0m\u001b[0mX_train\u001b[0m\u001b[1;33m)\u001b[0m\u001b[1;33m\u001b[0m\u001b[0m\n\u001b[0;32m      8\u001b[0m \u001b[1;31m# Meme transformation sur le test\u001b[0m\u001b[1;33m\u001b[0m\u001b[1;33m\u001b[0m\u001b[0m\n",
      "\u001b[1;32mC:\\Program Files\\Anaconda3\\lib\\site-packages\\sklearn\\preprocessing\\data.py\u001b[0m in \u001b[0;36mfit\u001b[1;34m(self, X, y)\u001b[0m\n\u001b[0;32m    588\u001b[0m         \u001b[1;31m# Reset internal state before fitting\u001b[0m\u001b[1;33m\u001b[0m\u001b[1;33m\u001b[0m\u001b[0m\n\u001b[0;32m    589\u001b[0m         \u001b[0mself\u001b[0m\u001b[1;33m.\u001b[0m\u001b[0m_reset\u001b[0m\u001b[1;33m(\u001b[0m\u001b[1;33m)\u001b[0m\u001b[1;33m\u001b[0m\u001b[0m\n\u001b[1;32m--> 590\u001b[1;33m         \u001b[1;32mreturn\u001b[0m \u001b[0mself\u001b[0m\u001b[1;33m.\u001b[0m\u001b[0mpartial_fit\u001b[0m\u001b[1;33m(\u001b[0m\u001b[0mX\u001b[0m\u001b[1;33m,\u001b[0m \u001b[0my\u001b[0m\u001b[1;33m)\u001b[0m\u001b[1;33m\u001b[0m\u001b[0m\n\u001b[0m\u001b[0;32m    591\u001b[0m \u001b[1;33m\u001b[0m\u001b[0m\n\u001b[0;32m    592\u001b[0m     \u001b[1;32mdef\u001b[0m \u001b[0mpartial_fit\u001b[0m\u001b[1;33m(\u001b[0m\u001b[0mself\u001b[0m\u001b[1;33m,\u001b[0m \u001b[0mX\u001b[0m\u001b[1;33m,\u001b[0m \u001b[0my\u001b[0m\u001b[1;33m=\u001b[0m\u001b[1;32mNone\u001b[0m\u001b[1;33m)\u001b[0m\u001b[1;33m:\u001b[0m\u001b[1;33m\u001b[0m\u001b[0m\n",
      "\u001b[1;32mC:\\Program Files\\Anaconda3\\lib\\site-packages\\sklearn\\preprocessing\\data.py\u001b[0m in \u001b[0;36mpartial_fit\u001b[1;34m(self, X, y)\u001b[0m\n\u001b[0;32m    610\u001b[0m         \"\"\"\n\u001b[0;32m    611\u001b[0m         X = check_array(X, accept_sparse=('csr', 'csc'), copy=self.copy,\n\u001b[1;32m--> 612\u001b[1;33m                         warn_on_dtype=True, estimator=self, dtype=FLOAT_DTYPES)\n\u001b[0m\u001b[0;32m    613\u001b[0m \u001b[1;33m\u001b[0m\u001b[0m\n\u001b[0;32m    614\u001b[0m         \u001b[1;31m# Even in the case of `with_mean=False`, we update the mean anyway\u001b[0m\u001b[1;33m\u001b[0m\u001b[1;33m\u001b[0m\u001b[0m\n",
      "\u001b[1;32mC:\\Program Files\\Anaconda3\\lib\\site-packages\\sklearn\\utils\\validation.py\u001b[0m in \u001b[0;36mcheck_array\u001b[1;34m(array, accept_sparse, dtype, order, copy, force_all_finite, ensure_2d, allow_nd, ensure_min_samples, ensure_min_features, warn_on_dtype, estimator)\u001b[0m\n\u001b[0;32m    400\u001b[0m                                       force_all_finite)\n\u001b[0;32m    401\u001b[0m     \u001b[1;32melse\u001b[0m\u001b[1;33m:\u001b[0m\u001b[1;33m\u001b[0m\u001b[0m\n\u001b[1;32m--> 402\u001b[1;33m         \u001b[0marray\u001b[0m \u001b[1;33m=\u001b[0m \u001b[0mnp\u001b[0m\u001b[1;33m.\u001b[0m\u001b[0marray\u001b[0m\u001b[1;33m(\u001b[0m\u001b[0marray\u001b[0m\u001b[1;33m,\u001b[0m \u001b[0mdtype\u001b[0m\u001b[1;33m=\u001b[0m\u001b[0mdtype\u001b[0m\u001b[1;33m,\u001b[0m \u001b[0morder\u001b[0m\u001b[1;33m=\u001b[0m\u001b[0morder\u001b[0m\u001b[1;33m,\u001b[0m \u001b[0mcopy\u001b[0m\u001b[1;33m=\u001b[0m\u001b[0mcopy\u001b[0m\u001b[1;33m)\u001b[0m\u001b[1;33m\u001b[0m\u001b[0m\n\u001b[0m\u001b[0;32m    403\u001b[0m \u001b[1;33m\u001b[0m\u001b[0m\n\u001b[0;32m    404\u001b[0m         \u001b[1;32mif\u001b[0m \u001b[0mensure_2d\u001b[0m\u001b[1;33m:\u001b[0m\u001b[1;33m\u001b[0m\u001b[0m\n",
      "\u001b[1;31mValueError\u001b[0m: could not convert string to float: 'juin'"
     ]
    }
   ],
   "source": [
    "from sklearn.neural_network import MLPRegressor\n",
    "from sklearn.preprocessing import StandardScaler  \n",
    "# L'algorithme ds réseaux de neurones nécessite éventuellement une normalisation \n",
    "# des variables explicatives avec les commandes ci-dessous\n",
    "scaler = StandardScaler()  \n",
    "scaler.fit(X_train)  \n",
    "Xnet_train = scaler.transform(X_train)  \n",
    "# Meme transformation sur le test\n",
    "Xnet_test = scaler.transform(X_test)\n",
    "# Mais cela ne semnble pas nécessaire sur ces données.\n",
    "# Les commandes sont donc fournies à titre indicatif."
   ]
  },
  {
   "cell_type": "code",
   "execution_count": 76,
   "metadata": {},
   "outputs": [
    {
     "ename": "ValueError",
     "evalue": "could not convert string to float: 'juin'",
     "output_type": "error",
     "traceback": [
      "\u001b[1;31m---------------------------------------------------------------------------\u001b[0m",
      "\u001b[1;31mValueError\u001b[0m                                Traceback (most recent call last)",
      "\u001b[1;32m<ipython-input-76-c43012c3e005>\u001b[0m in \u001b[0;36m<module>\u001b[1;34m()\u001b[0m\n\u001b[0;32m      1\u001b[0m \u001b[0mclf\u001b[0m \u001b[1;33m=\u001b[0m \u001b[0mMLPRegressor\u001b[0m\u001b[1;33m(\u001b[0m\u001b[0msolver\u001b[0m\u001b[1;33m=\u001b[0m\u001b[1;34m'lbfgs'\u001b[0m\u001b[1;33m,\u001b[0m \u001b[0malpha\u001b[0m\u001b[1;33m=\u001b[0m\u001b[1;36m1e-5\u001b[0m\u001b[1;33m,\u001b[0m\u001b[0mhidden_layer_sizes\u001b[0m\u001b[1;33m=\u001b[0m\u001b[1;33m(\u001b[0m\u001b[1;36m15\u001b[0m\u001b[1;33m,\u001b[0m\u001b[1;33m)\u001b[0m\u001b[1;33m,\u001b[0m \u001b[0mrandom_state\u001b[0m\u001b[1;33m=\u001b[0m\u001b[1;36m1\u001b[0m\u001b[1;33m)\u001b[0m\u001b[1;33m\u001b[0m\u001b[0m\n\u001b[1;32m----> 2\u001b[1;33m \u001b[0mclf\u001b[0m\u001b[1;33m.\u001b[0m\u001b[0mfit\u001b[0m\u001b[1;33m(\u001b[0m\u001b[0mX_train\u001b[0m\u001b[1;33m,\u001b[0m\u001b[0mY_train\u001b[0m\u001b[1;33m)\u001b[0m\u001b[1;33m\u001b[0m\u001b[0m\n\u001b[0m",
      "\u001b[1;32mC:\\Program Files\\Anaconda3\\lib\\site-packages\\sklearn\\neural_network\\multilayer_perceptron.py\u001b[0m in \u001b[0;36mfit\u001b[1;34m(self, X, y)\u001b[0m\n\u001b[0;32m    618\u001b[0m         \u001b[0mself\u001b[0m \u001b[1;33m:\u001b[0m \u001b[0mreturns\u001b[0m \u001b[0ma\u001b[0m \u001b[0mtrained\u001b[0m \u001b[0mMLP\u001b[0m \u001b[0mmodel\u001b[0m\u001b[1;33m.\u001b[0m\u001b[1;33m\u001b[0m\u001b[0m\n\u001b[0;32m    619\u001b[0m         \"\"\"\n\u001b[1;32m--> 620\u001b[1;33m         \u001b[1;32mreturn\u001b[0m \u001b[0mself\u001b[0m\u001b[1;33m.\u001b[0m\u001b[0m_fit\u001b[0m\u001b[1;33m(\u001b[0m\u001b[0mX\u001b[0m\u001b[1;33m,\u001b[0m \u001b[0my\u001b[0m\u001b[1;33m,\u001b[0m \u001b[0mincremental\u001b[0m\u001b[1;33m=\u001b[0m\u001b[1;32mFalse\u001b[0m\u001b[1;33m)\u001b[0m\u001b[1;33m\u001b[0m\u001b[0m\n\u001b[0m\u001b[0;32m    621\u001b[0m \u001b[1;33m\u001b[0m\u001b[0m\n\u001b[0;32m    622\u001b[0m     \u001b[1;33m@\u001b[0m\u001b[0mproperty\u001b[0m\u001b[1;33m\u001b[0m\u001b[0m\n",
      "\u001b[1;32mC:\\Program Files\\Anaconda3\\lib\\site-packages\\sklearn\\neural_network\\multilayer_perceptron.py\u001b[0m in \u001b[0;36m_fit\u001b[1;34m(self, X, y, incremental)\u001b[0m\n\u001b[0;32m    329\u001b[0m                              hidden_layer_sizes)\n\u001b[0;32m    330\u001b[0m \u001b[1;33m\u001b[0m\u001b[0m\n\u001b[1;32m--> 331\u001b[1;33m         \u001b[0mX\u001b[0m\u001b[1;33m,\u001b[0m \u001b[0my\u001b[0m \u001b[1;33m=\u001b[0m \u001b[0mself\u001b[0m\u001b[1;33m.\u001b[0m\u001b[0m_validate_input\u001b[0m\u001b[1;33m(\u001b[0m\u001b[0mX\u001b[0m\u001b[1;33m,\u001b[0m \u001b[0my\u001b[0m\u001b[1;33m,\u001b[0m \u001b[0mincremental\u001b[0m\u001b[1;33m)\u001b[0m\u001b[1;33m\u001b[0m\u001b[0m\n\u001b[0m\u001b[0;32m    332\u001b[0m         \u001b[0mn_samples\u001b[0m\u001b[1;33m,\u001b[0m \u001b[0mn_features\u001b[0m \u001b[1;33m=\u001b[0m \u001b[0mX\u001b[0m\u001b[1;33m.\u001b[0m\u001b[0mshape\u001b[0m\u001b[1;33m\u001b[0m\u001b[0m\n\u001b[0;32m    333\u001b[0m \u001b[1;33m\u001b[0m\u001b[0m\n",
      "\u001b[1;32mC:\\Program Files\\Anaconda3\\lib\\site-packages\\sklearn\\neural_network\\multilayer_perceptron.py\u001b[0m in \u001b[0;36m_validate_input\u001b[1;34m(self, X, y, incremental)\u001b[0m\n\u001b[0;32m   1302\u001b[0m     \u001b[1;32mdef\u001b[0m \u001b[0m_validate_input\u001b[0m\u001b[1;33m(\u001b[0m\u001b[0mself\u001b[0m\u001b[1;33m,\u001b[0m \u001b[0mX\u001b[0m\u001b[1;33m,\u001b[0m \u001b[0my\u001b[0m\u001b[1;33m,\u001b[0m \u001b[0mincremental\u001b[0m\u001b[1;33m)\u001b[0m\u001b[1;33m:\u001b[0m\u001b[1;33m\u001b[0m\u001b[0m\n\u001b[0;32m   1303\u001b[0m         X, y = check_X_y(X, y, accept_sparse=['csr', 'csc', 'coo'],\n\u001b[1;32m-> 1304\u001b[1;33m                          multi_output=True, y_numeric=True)\n\u001b[0m\u001b[0;32m   1305\u001b[0m         \u001b[1;32mif\u001b[0m \u001b[0my\u001b[0m\u001b[1;33m.\u001b[0m\u001b[0mndim\u001b[0m \u001b[1;33m==\u001b[0m \u001b[1;36m2\u001b[0m \u001b[1;32mand\u001b[0m \u001b[0my\u001b[0m\u001b[1;33m.\u001b[0m\u001b[0mshape\u001b[0m\u001b[1;33m[\u001b[0m\u001b[1;36m1\u001b[0m\u001b[1;33m]\u001b[0m \u001b[1;33m==\u001b[0m \u001b[1;36m1\u001b[0m\u001b[1;33m:\u001b[0m\u001b[1;33m\u001b[0m\u001b[0m\n\u001b[0;32m   1306\u001b[0m             \u001b[0my\u001b[0m \u001b[1;33m=\u001b[0m \u001b[0mcolumn_or_1d\u001b[0m\u001b[1;33m(\u001b[0m\u001b[0my\u001b[0m\u001b[1;33m,\u001b[0m \u001b[0mwarn\u001b[0m\u001b[1;33m=\u001b[0m\u001b[1;32mTrue\u001b[0m\u001b[1;33m)\u001b[0m\u001b[1;33m\u001b[0m\u001b[0m\n",
      "\u001b[1;32mC:\\Program Files\\Anaconda3\\lib\\site-packages\\sklearn\\utils\\validation.py\u001b[0m in \u001b[0;36mcheck_X_y\u001b[1;34m(X, y, accept_sparse, dtype, order, copy, force_all_finite, ensure_2d, allow_nd, multi_output, ensure_min_samples, ensure_min_features, y_numeric, warn_on_dtype, estimator)\u001b[0m\n\u001b[0;32m    540\u001b[0m     X = check_array(X, accept_sparse, dtype, order, copy, force_all_finite,\n\u001b[0;32m    541\u001b[0m                     \u001b[0mensure_2d\u001b[0m\u001b[1;33m,\u001b[0m \u001b[0mallow_nd\u001b[0m\u001b[1;33m,\u001b[0m \u001b[0mensure_min_samples\u001b[0m\u001b[1;33m,\u001b[0m\u001b[1;33m\u001b[0m\u001b[0m\n\u001b[1;32m--> 542\u001b[1;33m                     ensure_min_features, warn_on_dtype, estimator)\n\u001b[0m\u001b[0;32m    543\u001b[0m     \u001b[1;32mif\u001b[0m \u001b[0mmulti_output\u001b[0m\u001b[1;33m:\u001b[0m\u001b[1;33m\u001b[0m\u001b[0m\n\u001b[0;32m    544\u001b[0m         y = check_array(y, 'csr', force_all_finite=True, ensure_2d=False,\n",
      "\u001b[1;32mC:\\Program Files\\Anaconda3\\lib\\site-packages\\sklearn\\utils\\validation.py\u001b[0m in \u001b[0;36mcheck_array\u001b[1;34m(array, accept_sparse, dtype, order, copy, force_all_finite, ensure_2d, allow_nd, ensure_min_samples, ensure_min_features, warn_on_dtype, estimator)\u001b[0m\n\u001b[0;32m    415\u001b[0m         \u001b[1;31m# make sure we actually converted to numeric:\u001b[0m\u001b[1;33m\u001b[0m\u001b[1;33m\u001b[0m\u001b[0m\n\u001b[0;32m    416\u001b[0m         \u001b[1;32mif\u001b[0m \u001b[0mdtype_numeric\u001b[0m \u001b[1;32mand\u001b[0m \u001b[0marray\u001b[0m\u001b[1;33m.\u001b[0m\u001b[0mdtype\u001b[0m\u001b[1;33m.\u001b[0m\u001b[0mkind\u001b[0m \u001b[1;33m==\u001b[0m \u001b[1;34m\"O\"\u001b[0m\u001b[1;33m:\u001b[0m\u001b[1;33m\u001b[0m\u001b[0m\n\u001b[1;32m--> 417\u001b[1;33m             \u001b[0marray\u001b[0m \u001b[1;33m=\u001b[0m \u001b[0marray\u001b[0m\u001b[1;33m.\u001b[0m\u001b[0mastype\u001b[0m\u001b[1;33m(\u001b[0m\u001b[0mnp\u001b[0m\u001b[1;33m.\u001b[0m\u001b[0mfloat64\u001b[0m\u001b[1;33m)\u001b[0m\u001b[1;33m\u001b[0m\u001b[0m\n\u001b[0m\u001b[0;32m    418\u001b[0m         \u001b[1;32mif\u001b[0m \u001b[1;32mnot\u001b[0m \u001b[0mallow_nd\u001b[0m \u001b[1;32mand\u001b[0m \u001b[0marray\u001b[0m\u001b[1;33m.\u001b[0m\u001b[0mndim\u001b[0m \u001b[1;33m>=\u001b[0m \u001b[1;36m3\u001b[0m\u001b[1;33m:\u001b[0m\u001b[1;33m\u001b[0m\u001b[0m\n\u001b[0;32m    419\u001b[0m             raise ValueError(\"Found array with dim %d. %s expected <= 2.\"\n",
      "\u001b[1;31mValueError\u001b[0m: could not convert string to float: 'juin'"
     ]
    }
   ],
   "source": [
    "clf = MLPRegressor(solver='lbfgs', alpha=1e-5,hidden_layer_sizes=(15,), random_state=1)\n",
    "clf.fit(X_train,Y_train)"
   ]
  },
  {
   "cell_type": "code",
   "execution_count": 74,
   "metadata": {},
   "outputs": [
    {
     "ename": "NameError",
     "evalue": "name 'GridSearchCV' is not defined",
     "output_type": "error",
     "traceback": [
      "\u001b[1;31m---------------------------------------------------------------------------\u001b[0m",
      "\u001b[1;31mNameError\u001b[0m                                 Traceback (most recent call last)",
      "\u001b[1;32m<ipython-input-74-0785eed89490>\u001b[0m in \u001b[0;36m<module>\u001b[1;34m()\u001b[0m\n\u001b[0;32m      1\u001b[0m \u001b[0mparam_grid\u001b[0m\u001b[1;33m=\u001b[0m\u001b[1;33m[\u001b[0m\u001b[1;33m{\u001b[0m\u001b[1;34m\"hidden_layer_sizes\"\u001b[0m\u001b[1;33m:\u001b[0m\u001b[0mlist\u001b[0m\u001b[1;33m(\u001b[0m\u001b[1;33m[\u001b[0m\u001b[1;33m(\u001b[0m\u001b[1;36m5\u001b[0m\u001b[1;33m,\u001b[0m\u001b[1;33m)\u001b[0m\u001b[1;33m,\u001b[0m\u001b[1;33m(\u001b[0m\u001b[1;36m6\u001b[0m\u001b[1;33m,\u001b[0m\u001b[1;33m)\u001b[0m\u001b[1;33m,\u001b[0m\u001b[1;33m(\u001b[0m\u001b[1;36m7\u001b[0m\u001b[1;33m,\u001b[0m\u001b[1;33m)\u001b[0m\u001b[1;33m,\u001b[0m\u001b[1;33m(\u001b[0m\u001b[1;36m8\u001b[0m\u001b[1;33m,\u001b[0m\u001b[1;33m)\u001b[0m\u001b[1;33m]\u001b[0m\u001b[1;33m)\u001b[0m\u001b[1;33m}\u001b[0m\u001b[1;33m]\u001b[0m\u001b[1;33m\u001b[0m\u001b[0m\n\u001b[1;32m----> 2\u001b[1;33m \u001b[0mnnet\u001b[0m\u001b[1;33m=\u001b[0m \u001b[0mGridSearchCV\u001b[0m\u001b[1;33m(\u001b[0m\u001b[0mMLPClassifier\u001b[0m\u001b[1;33m(\u001b[0m\u001b[0mmax_iter\u001b[0m\u001b[1;33m=\u001b[0m\u001b[1;36m500\u001b[0m\u001b[1;33m)\u001b[0m\u001b[1;33m,\u001b[0m\u001b[0mparam_grid\u001b[0m\u001b[1;33m,\u001b[0m\u001b[0mcv\u001b[0m\u001b[1;33m=\u001b[0m\u001b[1;36m10\u001b[0m\u001b[1;33m,\u001b[0m\u001b[0mn_jobs\u001b[0m\u001b[1;33m=\u001b[0m\u001b[1;33m-\u001b[0m\u001b[1;36m1\u001b[0m\u001b[1;33m)\u001b[0m\u001b[1;33m\u001b[0m\u001b[0m\n\u001b[0m\u001b[0;32m      3\u001b[0m \u001b[0mnnetOpt\u001b[0m\u001b[1;33m=\u001b[0m\u001b[0mnnet\u001b[0m\u001b[1;33m.\u001b[0m\u001b[0mfit\u001b[0m\u001b[1;33m(\u001b[0m\u001b[0mX_train\u001b[0m\u001b[1;33m,\u001b[0m \u001b[0mY_train\u001b[0m\u001b[1;33m)\u001b[0m\u001b[1;33m\u001b[0m\u001b[0m\n\u001b[0;32m      4\u001b[0m \u001b[1;31m# paramètre optimal\u001b[0m\u001b[1;33m\u001b[0m\u001b[1;33m\u001b[0m\u001b[0m\n\u001b[0;32m      5\u001b[0m \u001b[0mprint\u001b[0m\u001b[1;33m(\u001b[0m\u001b[1;34m\"Meilleur score = %f, Meilleur paramètre = %s\"\u001b[0m \u001b[1;33m%\u001b[0m \u001b[1;33m(\u001b[0m\u001b[1;36m1.\u001b[0m \u001b[1;33m-\u001b[0m \u001b[0mnnetOpt\u001b[0m\u001b[1;33m.\u001b[0m\u001b[0mbest_score_\u001b[0m\u001b[1;33m,\u001b[0m\u001b[0mnnetOpt\u001b[0m\u001b[1;33m.\u001b[0m\u001b[0mbest_params_\u001b[0m\u001b[1;33m)\u001b[0m\u001b[1;33m)\u001b[0m\u001b[1;33m\u001b[0m\u001b[0m\n",
      "\u001b[1;31mNameError\u001b[0m: name 'GridSearchCV' is not defined"
     ]
    }
   ],
   "source": [
    "param_grid=[{\"hidden_layer_sizes\":list([(5,),(6,),(7,),(8,)])}]\n",
    "#nnet= GridSearchCV(MLPClassifier(max_iter=500),param_grid,cv=10,n_jobs=-1)\n",
    "nnetOpt=nnet.fit(X_train, Y_train)\n",
    "# paramètre optimal\n",
    "print(\"Meilleur score = %f, Meilleur paramètre = %s\" % (1. - nnetOpt.best_score_,nnetOpt.best_params_))"
   ]
  },
  {
   "cell_type": "code",
   "execution_count": null,
   "metadata": {
    "collapsed": true
   },
   "outputs": [],
   "source": [
    "# Estimation de l'erreur de prévision sur le test\n",
    "1-nnetOpt.score(X_test,Yb_test)"
   ]
  },
  {
   "cell_type": "code",
   "execution_count": null,
   "metadata": {
    "collapsed": true
   },
   "outputs": [],
   "source": [
    "# prévision de l'échantillon test\n",
    "y_chap = nnetOpt.predict(X_test)"
   ]
  },
  {
   "cell_type": "markdown",
   "metadata": {},
   "source": [
    "hosanna"
   ]
  }
 ],
 "metadata": {
  "kernelspec": {
   "display_name": "Python 3",
   "language": "python",
   "name": "python3"
  },
  "language_info": {
   "codemirror_mode": {
    "name": "ipython",
    "version": 3
   },
   "file_extension": ".py",
   "mimetype": "text/x-python",
   "name": "python",
   "nbconvert_exporter": "python",
   "pygments_lexer": "ipython3",
   "version": "3.6.2"
  }
 },
 "nbformat": 4,
 "nbformat_minor": 2
}
