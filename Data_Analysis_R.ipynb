{
 "cells": [
  {
   "cell_type": "markdown",
   "metadata": {},
   "source": [
    "# Team Miss Meteo"
   ]
  },
  {
   "cell_type": "markdown",
   "metadata": {},
   "source": [
    "## Data analysis"
   ]
  },
  {
   "cell_type": "code",
   "execution_count": 44,
   "metadata": {},
   "outputs": [
    {
     "data": {
      "text/plain": [
       "         date          insee                      tH2_obs    \n",
       " 2014-01-01:   7   Min.   : 6088001   9,89999961853027:  57  \n",
       " 2014-01-02:   7   1st Qu.:31069001   10,5            :  53  \n",
       " 2014-01-03:   7   Median :35281001   10,8000001907349:  53  \n",
       " 2014-01-04:   7   Mean   :43900001   10,3000001907349:  52  \n",
       " 2014-01-05:   7   3rd Qu.:67124001   10,8999996185303:  52  \n",
       " 2014-01-06:   7   Max.   :75114001   11,5            :  52  \n",
       " (Other)   :6125                      (Other)         :5848  \n",
       "              capeinsSOL0                   ciwcH20    \n",
       " 0                  :1520   0                   :6088  \n",
       "                    : 581                       :   7  \n",
       " 0,00659051296497594:   8   1,03856912374592e-08:   1  \n",
       " 0,00491036777566192:   5   1,06991488627462e-07:   1  \n",
       " 0,0131810259299519 :   5   1,07143592805376e-05:   1  \n",
       " 0,0147311033269857 :   5   1,10311545987089e-09:   1  \n",
       " (Other)            :4043   (Other)             :  68  \n",
       "                 clwcH20      ddH10_rose4                    ffH10     \n",
       " 0                   :4939   Min.   :1.000                      : 126  \n",
       "                     : 119   1st Qu.:2.000   0,00822980277488484:   1  \n",
       " 1,05970286963864e-08:   4   Median :3.000   0,0450030996885263 :   1  \n",
       " 3,8940896729402e-08 :   4   Mean   :2.779   0,0715978000674619 :   1  \n",
       " 4,41246183948355e-09:   4   3rd Qu.:4.000   0,0769797712511825 :   1  \n",
       " 1,32341916245257e-09:   3   Max.   :4.000   0,0865201337241204 :   1  \n",
       " (Other)             :1094   NA's   :126     (Other)            :6036  \n",
       "             flir1SOL0                 fllat1SOL0               flsen1SOL0  \n",
       "                  :   7   -0,441276859486061:   1                    :   7  \n",
       " -100085,511329032:   1   -0,6875           :   1   -10016,604271739 :   1  \n",
       " -100150,121636741:   1   -1,62741707638011 :   1   -10018,8662166595:   1  \n",
       " -10023,0600070518:   1   -100,944163734105 :   1   -10026,8333737542:   1  \n",
       " -100270,952870129:   1   -10006,553048769  :   1   -10041,5014360937:   1  \n",
       " -10031,4749892916:   1   -1002,61735444145 :   1   -1006,41515341371:   1  \n",
       " (Other)          :6155   (Other)           :6161   (Other)          :6155  \n",
       "                flvis1SOL0             hcoulimSOL0                 huH2     \n",
       "                     :   7   10              : 203                   : 126  \n",
       " 3,60000000000276e-12:6160                   :   7   15,270922919512 :   1  \n",
       "                             9,81920861799155:   4   24,2048309329885:   1  \n",
       "                             10,125          :   3   24,6097509730133:   1  \n",
       "                             9,84934051499296:   3   25,0617031817566:   1  \n",
       "                             9,87947241199437:   3   25,1979191449349:   1  \n",
       "                             (Other)         :5944   (Other)         :6036  \n",
       "              iwcSOL0                   nbSOL0_HMoy  \n",
       " 0                :6074   0                   :1768  \n",
       "                  :   7   8                   : 247  \n",
       " 0,125            :   5   0,000369822485207101:  12  \n",
       " 0,25             :   4   0,000739644970414201:  10  \n",
       " 0,247499933248036:   2                       :   7  \n",
       " 0,497497558593764:   2   0,0014792899408284  :   6  \n",
       " (Other)          :  73   (Other)             :4117  \n",
       "                  nH20                    ntSOL0_HMoy                pMER0     \n",
       " 0                  :4897   8                   :1313                   : 140  \n",
       "                    : 322   0                   : 574   1000,05925075531:   1  \n",
       " 8                  :  45                       :   7   1000,06582557754:   1  \n",
       " 0,25               :   8   0,000369822485207101:   7   1000,07300778162:   1  \n",
       " 0,00193525291978214:   4   7,99963017751479    :   6   1000,0779417124 :   1  \n",
       " 0,230358528897352  :   4   0,000739644970414201:   5   1000,08197319656:   1  \n",
       " (Other)            : 887   (Other)             :4255   (Other)         :6022  \n",
       "                 rr1SOL0                      rrH20     \n",
       " 0                   :4932   0                   :5247  \n",
       "                     :   7                       : 126  \n",
       " 0,000132414817585403:   2   1,87315665270306e-05:   2  \n",
       " 0,000198520345549031:   2   3,20192636848625e-05:   2  \n",
       " 0,000351558476665989:   2   4,23494131984823e-05:   2  \n",
       " 3,34185726274115e-05:   2   0,000100563247146239:   1  \n",
       " (Other)             :1220   (Other)             : 787  \n",
       "                  tH2                   tH2_VGrad_2.100\n",
       "                    : 126                       : 126  \n",
       " -0,0139515861878817:   1   -0,0004374562995757 :   1  \n",
       " -0,0285029440546139:   1   -0,00178836299956053:   1  \n",
       " -0,0302891623659062:   1   -0,00180248200276978:   1  \n",
       " -0,0565732640847449:   1   -0,00225187721053288:   1  \n",
       " -0,074635410068706 :   1   -0,00285316983649508:   1  \n",
       " (Other)            :6036   (Other)             :6036  \n",
       "                 tH2_XGrad                    tH2_YGrad   \n",
       "                      : 126                        : 126  \n",
       " -0,000100102736848774:   1   -0,000100128746430644:   1  \n",
       " -0,000100672206560198:   1   -0,000100191908700306:   1  \n",
       " -0,000101131239135308:   1   -0,000102060031993593:   1  \n",
       " -0,000102731754802671:   1   -0,000102309250753111:   1  \n",
       " -0,000104450639172485:   1   -0,00010271185364857 :   1  \n",
       " (Other)              :6036   (Other)              :6036  \n",
       "               tpwHPA850                      ux1H10    \n",
       "                    :   7                        : 126  \n",
       " -0,0145842582336403:   1   -0,000800810967138461:   1  \n",
       " -0,0148723590372091:   1   -0,0012690600996983  :   1  \n",
       " -0,0156382262706578:   1   -0,00297637678431168 :   1  \n",
       " -0,0241501219479578:   1   -0,00453684840738262 :   1  \n",
       " -0,0280170709048665:   1   -0,00470884276366328 :   1  \n",
       " (Other)            :6155   (Other)              :6036  \n",
       "             vapcSOL0                     vx1H10          ech   \n",
       "                 :   7                       : 119   Min.   :1  \n",
       " 1,30588081479073:   1   -0,00246656746184937:   1   1st Qu.:1  \n",
       " 1,8920775167644 :   1   -0,00291778681277148:   1   Median :1  \n",
       " 10,0007609695213:   1   -0,00429814575724316:   1   Mean   :1  \n",
       " 10,0130101771792:   1   -0,00576679691822975:   1   3rd Qu.:1  \n",
       " 10,0157977816989:   1   -0,00616431831985187:   1   Max.   :1  \n",
       " (Other)         :6155   (Other)             :6043              \n",
       "       mois     \n",
       " janvier : 651  \n",
       " mars    : 651  \n",
       " mai     : 644  \n",
       " avril   : 630  \n",
       " fÃ©vrier: 595  \n",
       " aoÃ»t   : 434  \n",
       " (Other) :2562  "
      ]
     },
     "metadata": {},
     "output_type": "display_data"
    }
   ],
   "source": [
    "path=\"./../data_meteo/\"\n",
    "meteo=read.table(paste(path,\"train_1.csv\",sep=\"\"),sep=\";\",header=T)\n",
    "# Vérification du contenu\n",
    "summary(meteo)"
   ]
  },
  {
   "cell_type": "markdown",
   "metadata": {},
   "source": [
    "\n",
    "- insee \tInforme sur la localisation de la station :\n",
    "- Numéro \tStation\n",
    "    - 06088001 \tNice\n",
    "    - 31069001 \tToulouse Blagnac\n",
    "    - 33281001 \tBordeaux-Mérignac\n",
    "    - 35281001 \tRennes\n",
    "    - 59343001 \tLille Lesquin\n",
    "    - 67124001 \tStrasbourg Entzheim\n",
    "    - 75114001 \tParis-Montsouris\n",
    "- tH2_obs \tObservation de la température à 2 mètres in situ- au point station (prédictant)\n",
    "- ech \tEchéance de validité\n",
    "- capeinsSOL0 \tEnergie potentielle convective\n",
    "- ciwcH20 \tFraction de glace nuageuse à 20 mètres\n",
    "- clwcH20 \tFraction d'eau nuageuse à 20 mètres\n",
    "- nH20 \tFraction nuageuse à 20 mètres\n",
    "- pMER0 \tPression au niveau de la mer\n",
    "- rr1SOL0 \tPrécipitation horaire au niveau du sol\n",
    "- rrH20 \tPrécipitation horaire à 20 mètres\n",
    "- tpwHPA850 \tTempérature potentielle au niveau 850 hPa\n",
    "- ux1H10 \tRafale 1 minute du vent à 10 mètres composante zonale\n",
    "- vapcSOL0 \tColonne de vapeur d'eau\n",
    "- vx1H10 \tRafale 1 minute du vent à 10 mètres composante verticale\n",
    "- ddH10_rose4 \tDirection du vent à 10 mètres en rose4\n",
    "- ffH10 \tForce du vent à 10 mètres en m/s\n",
    "- flir1SOL0 \tFlux Infra-rouge en J/m2\n",
    "- fllat1SOL0 \tFlux de chaleur latente en J/m2\n",
    "- flsen1SOL0 \tFlux de chaleur sensible en J/m2\n",
    "- flvis1SOL0 \tFlux visible en J/m2\n",
    "- hcoulimSOL0 \tHauteur de la couche limite en mètres\n",
    "- huH2 \tHumidité 2mètres en %\n",
    "- iwcSOL0 \tRéservoir neige kg/m2 (équivalent en eau liquide des chutes de neige)\n",
    "- nbSOL0_HMoy \tNébulosité basse (moyenne sur les 6 points de grille autour de la station) (fraction en octat du ciel occulté)\n",
    "- ntSOL0_HMoy \tNébulosité totale (moyenne sur les 6 points de grille autour de la station)\n",
    "- tH2 \tTempérature à 2 mètres du modèle AROME\n",
    "- tH2_VGrad_2.100 \tGradient vertical de température entre 2 mètres et 100 mètres\n",
    "- tH2_XGrad \tGradient zonal de température à 2 mètres\n",
    "- tH2_YGrad \tGradient méridien de température à 2 mètres\n",
    "- mois \tLe mois"
   ]
  },
  {
   "cell_type": "code",
   "execution_count": 46,
   "metadata": {},
   "outputs": [
    {
     "data": {
      "text/plain": [
       "         date          insee             tH2_obs       capeinsSOL0      \n",
       " 2014-01-01:   7   Min.   : 6088001   Min.   :-6.10   Min.   :   0.000  \n",
       " 2014-01-02:   7   1st Qu.:31069001   1st Qu.: 6.70   1st Qu.:   0.000  \n",
       " 2014-01-03:   7   Median :35281001   Median :10.50   Median :   1.029  \n",
       " 2014-01-04:   7   Mean   :43900001   Mean   :10.71   Mean   :  37.366  \n",
       " 2014-01-05:   7   3rd Qu.:67124001   3rd Qu.:14.50   3rd Qu.:  20.049  \n",
       " 2014-01-06:   7   Max.   :75114001   Max.   :29.80   Max.   :1083.809  \n",
       " (Other)   :6125                                      NA's   :581       \n",
       "    ciwcH20           clwcH20         ddH10_rose4        ffH10         \n",
       " Min.   :0.0e+00   Min.   :0.00000   Min.   :1.000   Min.   : 0.00823  \n",
       " 1st Qu.:0.0e+00   1st Qu.:0.00000   1st Qu.:2.000   1st Qu.: 1.73647  \n",
       " Median :0.0e+00   Median :0.00000   Median :3.000   Median : 2.59133  \n",
       " Mean   :0.0e+00   Mean   :0.00001   Mean   :2.779   Mean   : 3.02133  \n",
       " 3rd Qu.:0.0e+00   3rd Qu.:0.00000   3rd Qu.:4.000   3rd Qu.: 3.80775  \n",
       " Max.   :4.3e-05   Max.   :0.00041   Max.   :4.000   Max.   :15.31020  \n",
       " NA's   :7         NA's   :119       NA's   :126     NA's   :126       \n",
       "   flir1SOL0         fllat1SOL0           flsen1SOL0        flvis1SOL0\n",
       " Min.   :-503864   Min.   :-1453469.2   Min.   :-224336   Min.   :0   \n",
       " 1st Qu.:-254117   1st Qu.:  -36437.5   1st Qu.:  -2320   1st Qu.:0   \n",
       " Median :-206017   Median :    -546.8   Median :  21096   Median :0   \n",
       " Mean   :-187622   Mean   :  -30078.6   Mean   :  40626   Mean   :0   \n",
       " 3rd Qu.:-116795   3rd Qu.:    6696.7   3rd Qu.:  70472   3rd Qu.:0   \n",
       " Max.   :  78624   Max.   :   93879.1   Max.   : 641200   Max.   :0   \n",
       " NA's   :7                              NA's   :7         NA's   :7   \n",
       "  hcoulimSOL0            huH2           iwcSOL0          nbSOL0_HMoy    \n",
       " Min.   :   0.466   Min.   : 15.27   Min.   : 0.00000   Min.   :0.0000  \n",
       " 1st Qu.:  46.978   1st Qu.: 76.73   1st Qu.: 0.00000   1st Qu.:0.0000  \n",
       " Median : 159.982   Median : 85.49   Median : 0.00000   Median :0.3512  \n",
       " Mean   : 304.394   Mean   : 82.96   Mean   : 0.01975   Mean   :2.1941  \n",
       " 3rd Qu.: 419.951   3rd Qu.: 91.79   3rd Qu.: 0.00000   3rd Qu.:4.2478  \n",
       " Max.   :3617.658   Max.   :100.00   Max.   :10.10750   Max.   :8.0000  \n",
       " NA's   :7          NA's   :126      NA's   :7          NA's   :7       \n",
       "      nH20        ntSOL0_HMoy         pMER0           rr1SOL0        \n",
       " Min.   :0.000   Min.   :0.0000   Min.   : 982.4   Min.   : 0.00000  \n",
       " 1st Qu.:0.000   1st Qu.:0.7601   1st Qu.:1011.8   1st Qu.: 0.00000  \n",
       " Median :0.000   Median :6.0222   Median :1017.0   Median : 0.00000  \n",
       " Mean   :0.263   Mean   :4.7237   Mean   :1016.8   Mean   : 0.08255  \n",
       " 3rd Qu.:0.000   3rd Qu.:7.9958   3rd Qu.:1022.2   3rd Qu.: 0.00000  \n",
       " Max.   :8.332   Max.   :8.0000   Max.   :1043.3   Max.   :14.34422  \n",
       " NA's   :322     NA's   :7        NA's   :140      NA's   :7         \n",
       "     rrH20             tH2         tH2_VGrad_2.100     tH2_XGrad       \n",
       " Min.   :0.0000   Min.   :-6.967   Min.   :-1.7941   Min.   :-0.01198  \n",
       " 1st Qu.:0.0000   1st Qu.: 6.883   1st Qu.:-0.4984   1st Qu.: 0.00014  \n",
       " Median :0.0000   Median :10.930   Median : 0.3548   Median : 0.00120  \n",
       " Mean   :0.0033   Mean   :11.041   Mean   : 0.9858   Mean   : 0.00171  \n",
       " 3rd Qu.:0.0000   3rd Qu.:14.947   3rd Qu.: 2.0499   3rd Qu.: 0.00304  \n",
       " Max.   :0.7279   Max.   :30.684   Max.   :11.1700   Max.   : 0.01983  \n",
       " NA's   :126      NA's   :126      NA's   :126       NA's   :126       \n",
       "   tH2_YGrad          tpwHPA850          ux1H10           vapcSOL0     \n",
       " Min.   :-0.01787   Min.   :-3.398   Min.   :-21.681   Min.   : 1.306  \n",
       " 1st Qu.:-0.00089   1st Qu.: 6.248   1st Qu.: -1.193   1st Qu.:11.608  \n",
       " Median : 0.00036   Median : 9.556   Median :  1.140   Median :16.862  \n",
       " Mean   : 0.00017   Mean   : 9.622   Mean   :  1.207   Mean   :17.925  \n",
       " 3rd Qu.: 0.00193   3rd Qu.:13.003   3rd Qu.:  3.286   3rd Qu.:22.984  \n",
       " Max.   : 0.01432   Max.   :21.768   Max.   : 23.799   Max.   :53.545  \n",
       " NA's   :126        NA's   :7        NA's   :126       NA's   :7       \n",
       "     vx1H10              ech          mois     \n",
       " Min.   :-14.4868   Min.   :1   janvier : 651  \n",
       " 1st Qu.: -2.4086   1st Qu.:1   mars    : 651  \n",
       " Median :  0.4121   Median :1   mai     : 644  \n",
       " Mean   :  0.6383   Mean   :1   avril   : 630  \n",
       " 3rd Qu.:  3.2799   3rd Qu.:1   fÃ©vrier: 595  \n",
       " Max.   : 22.8072   Max.   :1   aoÃ»t   : 434  \n",
       " NA's   :119                    (Other) :2562  "
      ]
     },
     "metadata": {},
     "output_type": "display_data"
    }
   ],
   "source": [
    "for (name in colnames(meteo)) {\n",
    "if (name=='date' | name=='mois') {} else \n",
    "    {meteo[,name]=as.numeric(gsub(\",\", \".\", meteo[,name]))}\n",
    "}\n",
    "summary(meteo)"
   ]
  },
  {
   "cell_type": "code",
   "execution_count": 32,
   "metadata": {},
   "outputs": [
    {
     "data": {
      "text/plain": [
       "NULL"
      ]
     },
     "metadata": {},
     "output_type": "display_data"
    },
    {
     "data": {
      "text/html": [
       "'list'"
      ],
      "text/latex": [
       "'list'"
      ],
      "text/markdown": [
       "'list'"
      ],
      "text/plain": [
       "[1] \"list\""
      ]
     },
     "metadata": {},
     "output_type": "display_data"
    }
   ],
   "source": [
    "#attributes(meteo)\n",
    "meteo$names\n",
    "mode(meteo)\n",
    "#for (name in meteo$names) {cat(name)}"
   ]
  },
  {
   "cell_type": "code",
   "execution_count": 4,
   "metadata": {
    "collapsed": true
   },
   "outputs": [],
   "source": [
    "# if needed to rescale\n",
    "# rozone=scale(ozone[,])"
   ]
  },
  {
   "cell_type": "code",
   "execution_count": 47,
   "metadata": {},
   "outputs": [
    {
     "data": {
      "image/png": "[encoded data removed]",
      "text/plain": [
       "Plot with title \"Histogram of meteo[, \"rr1SOL0\"]\""
      ]
     },
     "metadata": {},
     "output_type": "display_data"
    }
   ],
   "source": [
    "par(mfrow=c(1,2))\n",
    "options(repr.plot.width=6, repr.plot.height=3)\n",
    "hist(meteo[,\"tH2_obs\"])\n",
    "hist(meteo[,\"rr1SOL0\"])"
   ]
  },
  {
   "cell_type": "code",
   "execution_count": null,
   "metadata": {
    "collapsed": true
   },
   "outputs": [],
   "source": []
  }
 ],
 "metadata": {
  "kernelspec": {
   "display_name": "R",
   "language": "R",
   "name": "ir"
  },
  "language_info": {
   "codemirror_mode": "r",
   "file_extension": ".r",
   "mimetype": "text/x-r-source",
   "name": "R",
   "pygments_lexer": "r",
   "version": "3.4.0"
  }
 },
 "nbformat": 4,
 "nbformat_minor": 2
}
