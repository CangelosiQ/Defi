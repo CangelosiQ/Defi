{
 "cells": [
  {
   "cell_type": "markdown",
   "metadata": {},
   "source": [
    "# Défi Grosses Data 2018 - Réseau de neurones avec scikit-learn"
   ]
  },
  {
   "cell_type": "code",
   "execution_count": 10,
   "metadata": {
    "collapsed": true
   },
   "outputs": [],
   "source": [
    "import numpy as np\n",
    "import pandas as pd\n",
    "import datetime as dt\n",
    "from os import listdir\n",
    "import imp\n",
    "import Annex\n",
    "imp.reload(Annex)\n",
    "from sklearn.metrics import mean_squared_error\n",
    "from sklearn.metrics import r2_score\n",
    "from sklearn.neural_network import MLPRegressor\n",
    "from sklearn.model_selection import GridSearchCV\n",
    "from xgboost import XGBRegressor\n",
    "from sklearn.linear_model import LinearRegression"
   ]
  },
  {
   "cell_type": "code",
   "execution_count": 2,
   "metadata": {},
   "outputs": [
    {
     "name": "stdout",
     "output_type": "stream",
     "text": [
      "We are addressing your request.\n",
      "Data has been imported. Size: (189280, 31)\n",
      "Months converted to int.\n",
      "Dummies added.\n",
      "Date transformed in a projection of the week number on a circle.\n",
      "26528 data points deleted. 14.02 %\n",
      "Train size: 113926, Test size: 48826\n",
      "Data scaled\n"
     ]
    }
   ],
   "source": [
    "X_train,X_test,Y_train,Y_test,X,Y,scaler=Annex.get_data_raw(scale=True, \n",
    "                                                        add_dummies=True,\n",
    "                                                        var_dummies=['insee','ddH10_rose4'],\n",
    "                                                        TrainTestSplit=True,\n",
    "                                                        sz_test=0.3,\n",
    "                                                        impute_method='drop',\n",
    "                                                        convert_month2int=True,\n",
    "                                                        date_method='week_circle')#'drop'"
   ]
  },
  {
   "cell_type": "code",
   "execution_count": 14,
   "metadata": {},
   "outputs": [
    {
     "data": {
      "text/plain": [
       "capeinsSOL0        float64\n",
       "ciwcH20            float64\n",
       "clwcH20            float64\n",
       "ffH10              float64\n",
       "flir1SOL0          float64\n",
       "fllat1SOL0         float64\n",
       "flsen1SOL0         float64\n",
       "flvis1SOL0         float64\n",
       "hcoulimSOL0        float64\n",
       "huH2               float64\n",
       "iwcSOL0            float64\n",
       "nbSOL0_HMoy        float64\n",
       "nH20               float64\n",
       "ntSOL0_HMoy        float64\n",
       "pMER0              float64\n",
       "rr1SOL0            float64\n",
       "rrH20              float64\n",
       "tH2                float64\n",
       "tH2_VGrad_2.100    float64\n",
       "tH2_XGrad          float64\n",
       "tH2_YGrad          float64\n",
       "tpwHPA850          float64\n",
       "ux1H10             float64\n",
       "vapcSOL0           float64\n",
       "vx1H10             float64\n",
       "ech                  int64\n",
       "mois                 int32\n",
       "insee_6088001        uint8\n",
       "insee_31069001       uint8\n",
       "insee_33281001       uint8\n",
       "insee_35281001       uint8\n",
       "insee_59343001       uint8\n",
       "insee_67124001       uint8\n",
       "insee_75114001       uint8\n",
       "ddH10_rose4_1.0      uint8\n",
       "ddH10_rose4_2.0      uint8\n",
       "ddH10_rose4_3.0      uint8\n",
       "ddH10_rose4_4.0      uint8\n",
       "cosdate            float64\n",
       "sindate            float64\n",
       "dtype: object"
      ]
     },
     "execution_count": 14,
     "metadata": {},
     "output_type": "execute_result"
    }
   ],
   "source": [
    "X.dtypes"
   ]
  },
  {
   "cell_type": "code",
   "execution_count": 3,
   "metadata": {
    "collapsed": true
   },
   "outputs": [],
   "source": [
    "#mlp=MLPRegressor(hidden_layer_sizes =(72,))\n",
    "mlp=XGBRegressor(max_depth=7,n_estimators=150)\n",
    "nnetOpt=mlp.fit(X_train, Y_train)"
   ]
  },
  {
   "cell_type": "code",
   "execution_count": 4,
   "metadata": {},
   "outputs": [
    {
     "name": "stdout",
     "output_type": "stream",
     "text": [
      "MSE = 1.0648135312\n",
      "R2 = 0.97287704007\n"
     ]
    }
   ],
   "source": [
    "# prévision de l'échantillon test\n",
    "Y_pred = nnetOpt.predict(X_test)\n",
    "print(\"MSE =\",mean_squared_error(Y_test,Y_pred))\n",
    "print(\"R2 =\",r2_score(Y_test,Y_pred))"
   ]
  },
  {
   "cell_type": "code",
   "execution_count": 6,
   "metadata": {},
   "outputs": [
    {
     "name": "stdout",
     "output_type": "stream",
     "text": [
      "Months converted to int.\n",
      "Dummies added.\n",
      "Date transformed in week number.\n"
     ]
    },
    {
     "data": {
      "text/plain": [
       "'File ./../data_meteo/submission_XGB_19Dec2017_15h30.csv generated.'"
      ]
     },
     "execution_count": 6,
     "metadata": {},
     "output_type": "execute_result"
    }
   ],
   "source": [
    "Annex.generate_submission_file('submission_XGB_19Dec2017_15h30.csv', \n",
    "                         nnetOpt, \n",
    "                         scaler, \n",
    "                         add_dummies=True, \n",
    "                         var_dummies=['insee','ddH10_rose4'], \n",
    "                         convert_month2int=True, \n",
    "                         date_method='week_number', \n",
    "                         fillna_method='imputer' )"
   ]
  },
  {
   "cell_type": "code",
   "execution_count": 8,
   "metadata": {},
   "outputs": [
    {
     "name": "stdout",
     "output_type": "stream",
     "text": [
      "(21168,)\n",
      "(21168,)\n",
      "(21168,)\n",
      "(21168,)\n",
      "(21168, 4)\n"
     ]
    },
    {
     "data": {
      "text/plain": [
       "'File ./../data_meteo/submission_combinaison_2NN_2XGB_19Dec2017_15h30.csv generated.'"
      ]
     },
     "execution_count": 8,
     "metadata": {},
     "output_type": "execute_result"
    }
   ],
   "source": [
    "Annex.combine_submission_files('submission_combinaison_2NN_2XGB_19Dec2017_15h30.csv', \n",
    "                               names=['submission_NN80_17Dec2017_21h.csv',\n",
    "                                      'submission_XGB_maxdepth6_150estimators_18Dec2017_7h.csv',\n",
    "                                      'submission_NN70_18Dec2017_9h45.csv',\n",
    "                                      #'submission_NN71_18Dec2017_10h45.csv',\n",
    "                                      #'submission_NN75_18Dec2017_10h45.csv',\n",
    "                                      #'submission_NN72_18Dec2017_10h45.csv',\n",
    "                                      'submission_XGB_19Dec2017_15h30.csv',\n",
    "                                     ])"
   ]
  },
  {
   "cell_type": "markdown",
   "metadata": {
    "collapsed": true
   },
   "source": [
    "### Sammy, optimize!"
   ]
  },
  {
   "cell_type": "code",
   "execution_count": 4,
   "metadata": {},
   "outputs": [
    {
     "name": "stdout",
     "output_type": "stream",
     "text": [
      "Welcome, I am Sammy Nimizz.\n",
      "May I help you?\n"
     ]
    }
   ],
   "source": [
    "import sys\n",
    "sys.path.append(\"./../\")\n",
    "import Sammy\n",
    "import pickle\n",
    "import os\n",
    "path='./results/Resultats.pickle'\n",
    "if os.path.exists(path):\n",
    "    Resultats=Sammy.Results()#Resultats=pickle.load(open(path, 'rb'))\n",
    "else:\n",
    "    Resultats=Sammy.Results()\n",
    "Resultats.say_hello()"
   ]
  },
  {
   "cell_type": "code",
   "execution_count": 11,
   "metadata": {
    "scrolled": false
   },
   "outputs": [
    {
     "name": "stdout",
     "output_type": "stream",
     "text": [
      "Run 1/10\n",
      "Running XGBRegressor with parameters: {'subsample': 1, 'silent': True, 'scale_pos_weight': 1, 'reg_lambda': 1, 'reg_alpha': 0, 'objective': 'reg:linear', 'nthread': None, 'n_jobs': 4, 'n_estimators': 150, 'min_child_weight': 1, 'max_depth': 13, 'max_delta_step': 0, 'learning_rate': 0.1, 'gamma': 0, 'colsample_bytree': 1, 'colsample_bylevel': 1, 'booster': 'gbtree', 'base_score': 0.5}\n",
      "Score: 9.766e-01\n",
      "\n",
      "Run 2/10\n",
      "Running XGBRegressor with parameters: {'subsample': 1, 'silent': True, 'scale_pos_weight': 1, 'reg_lambda': 1, 'reg_alpha': 0, 'objective': 'reg:linear', 'nthread': None, 'n_jobs': 4, 'n_estimators': 250, 'min_child_weight': 1, 'max_depth': 12, 'max_delta_step': 0, 'learning_rate': 0.1, 'gamma': 0, 'colsample_bytree': 1, 'colsample_bylevel': 1, 'booster': 'gbtree', 'base_score': 0.5}\n",
      "Score: 9.770e-01\n",
      "\n",
      "Run 3/10\n",
      "Running XGBRegressor with parameters: {'subsample': 1, 'silent': True, 'scale_pos_weight': 1, 'reg_lambda': 1, 'reg_alpha': 0, 'objective': 'reg:linear', 'nthread': None, 'n_jobs': 4, 'n_estimators': 150, 'min_child_weight': 1, 'max_depth': 9, 'max_delta_step': 0, 'learning_rate': 0.1, 'gamma': 0, 'colsample_bytree': 1, 'colsample_bylevel': 1, 'booster': 'gbtree', 'base_score': 0.5}\n",
      "Score: 9.745e-01\n",
      "\n",
      "Run 4/10\n",
      "Running XGBRegressor with parameters: {'subsample': 1, 'silent': True, 'scale_pos_weight': 1, 'reg_lambda': 1, 'reg_alpha': 0, 'objective': 'reg:linear', 'nthread': None, 'n_jobs': 4, 'n_estimators': 200, 'min_child_weight': 1, 'max_depth': 10, 'max_delta_step': 0, 'learning_rate': 0.1, 'gamma': 0, 'colsample_bytree': 1, 'colsample_bylevel': 1, 'booster': 'gbtree', 'base_score': 0.5}\n",
      "Score: 9.760e-01\n",
      "\n",
      "Run 5/10\n",
      "Running XGBRegressor with parameters: {'subsample': 1, 'silent': True, 'scale_pos_weight': 1, 'reg_lambda': 1, 'reg_alpha': 0, 'objective': 'reg:linear', 'nthread': None, 'n_jobs': 4, 'n_estimators': 250, 'min_child_weight': 1, 'max_depth': 2, 'max_delta_step': 0, 'learning_rate': 0.1, 'gamma': 0, 'colsample_bytree': 1, 'colsample_bylevel': 1, 'booster': 'gbtree', 'base_score': 0.5}\n",
      "Score: 9.639e-01\n",
      "\n",
      "Run 6/10\n",
      "Running XGBRegressor with parameters: {'subsample': 1, 'silent': True, 'scale_pos_weight': 1, 'reg_lambda': 1, 'reg_alpha': 0, 'objective': 'reg:linear', 'nthread': None, 'n_jobs': 4, 'n_estimators': 150, 'min_child_weight': 1, 'max_depth': 8, 'max_delta_step': 0, 'learning_rate': 0.1, 'gamma': 0, 'colsample_bytree': 1, 'colsample_bylevel': 1, 'booster': 'gbtree', 'base_score': 0.5}\n",
      "Score: 9.734e-01\n",
      "\n",
      "Run 7/10\n",
      "Running XGBRegressor with parameters: {'subsample': 1, 'silent': True, 'scale_pos_weight': 1, 'reg_lambda': 1, 'reg_alpha': 0, 'objective': 'reg:linear', 'nthread': None, 'n_jobs': 4, 'n_estimators': 150, 'min_child_weight': 1, 'max_depth': 12, 'max_delta_step': 0, 'learning_rate': 0.1, 'gamma': 0, 'colsample_bytree': 1, 'colsample_bylevel': 1, 'booster': 'gbtree', 'base_score': 0.5}\n",
      "Score: 9.764e-01\n",
      "\n",
      "Run 8/10\n",
      "Running XGBRegressor with parameters: {'subsample': 1, 'silent': True, 'scale_pos_weight': 1, 'reg_lambda': 1, 'reg_alpha': 0, 'objective': 'reg:linear', 'nthread': None, 'n_jobs': 4, 'n_estimators': 200, 'min_child_weight': 1, 'max_depth': 7, 'max_delta_step': 0, 'learning_rate': 0.1, 'gamma': 0, 'colsample_bytree': 1, 'colsample_bylevel': 1, 'booster': 'gbtree', 'base_score': 0.5}\n",
      "Score: 9.727e-01\n",
      "\n",
      "Run 9/10\n",
      "Running XGBRegressor with parameters: {'subsample': 1, 'silent': True, 'scale_pos_weight': 1, 'reg_lambda': 1, 'reg_alpha': 0, 'objective': 'reg:linear', 'nthread': None, 'n_jobs': 4, 'n_estimators': 50, 'min_child_weight': 1, 'max_depth': 2, 'max_delta_step': 0, 'learning_rate': 0.1, 'gamma': 0, 'colsample_bytree': 1, 'colsample_bylevel': 1, 'booster': 'gbtree', 'base_score': 0.5}\n",
      "Score: 9.550e-01\n",
      "\n",
      "Run 10/10\n",
      "Running XGBRegressor with parameters: {'subsample': 1, 'silent': True, 'scale_pos_weight': 1, 'reg_lambda': 1, 'reg_alpha': 0, 'objective': 'reg:linear', 'nthread': None, 'n_jobs': 4, 'n_estimators': 200, 'min_child_weight': 1, 'max_depth': 14, 'max_delta_step': 0, 'learning_rate': 0.1, 'gamma': 0, 'colsample_bytree': 1, 'colsample_bylevel': 1, 'booster': 'gbtree', 'base_score': 0.5}\n",
      "Score: 9.767e-01\n",
      "\n"
     ]
    }
   ],
   "source": [
    "Resultats.random_start(X_train,Y_train,nb_run=10,methods=XGBRegressor)\n",
    "f=open('./results/Resultats.pickle', 'wb')\n",
    "pickle.dump(Resultats,f)\n",
    "f.close()"
   ]
  },
  {
   "cell_type": "code",
   "execution_count": null,
   "metadata": {
    "collapsed": true
   },
   "outputs": [],
   "source": [
    "# prévision de l'échantillon test\n",
    "Y_pred = nnetOpt.predict(X_test)\n",
    "print(\"MSE =\",mean_squared_error(Y_test,Y_pred))\n",
    "print(\"R2 =\",r2_score(Y_test,Y_pred))"
   ]
  },
  {
   "cell_type": "code",
   "execution_count": 15,
   "metadata": {},
   "outputs": [
    {
     "name": "stdout",
     "output_type": "stream",
     "text": [
      "10 Results:\n",
      "XGBRegressor:\n",
      "Parameters:\n",
      "{'subsample': 1, 'silent': True, 'scale_pos_weight': 1, 'reg_lambda': 1, 'reg_alpha': 0, 'objective': 'reg:linear', 'nthread': None, 'n_jobs': 4, 'n_estimators': 250, 'min_child_weight': 1, 'max_depth': 12, 'max_delta_step': 0, 'learning_rate': 0.1, 'gamma': 0, 'colsample_bytree': 1, 'colsample_bylevel': 1, 'booster': 'gbtree', 'base_score': 0.5}\n",
      "CV Score:   9.770e-01\n",
      "\n",
      "XGBRegressor:\n",
      "Parameters:\n",
      "{'subsample': 1, 'silent': True, 'scale_pos_weight': 1, 'reg_lambda': 1, 'reg_alpha': 0, 'objective': 'reg:linear', 'nthread': None, 'n_jobs': 4, 'n_estimators': 200, 'min_child_weight': 1, 'max_depth': 14, 'max_delta_step': 0, 'learning_rate': 0.1, 'gamma': 0, 'colsample_bytree': 1, 'colsample_bylevel': 1, 'booster': 'gbtree', 'base_score': 0.5}\n",
      "CV Score:   9.767e-01\n",
      "\n",
      "XGBRegressor:\n",
      "Parameters:\n",
      "{'subsample': 1, 'silent': True, 'scale_pos_weight': 1, 'reg_lambda': 1, 'reg_alpha': 0, 'objective': 'reg:linear', 'nthread': None, 'n_jobs': 4, 'n_estimators': 150, 'min_child_weight': 1, 'max_depth': 13, 'max_delta_step': 0, 'learning_rate': 0.1, 'gamma': 0, 'colsample_bytree': 1, 'colsample_bylevel': 1, 'booster': 'gbtree', 'base_score': 0.5}\n",
      "CV Score:   9.766e-01\n",
      "\n",
      "XGBRegressor:\n",
      "Parameters:\n",
      "{'subsample': 1, 'silent': True, 'scale_pos_weight': 1, 'reg_lambda': 1, 'reg_alpha': 0, 'objective': 'reg:linear', 'nthread': None, 'n_jobs': 4, 'n_estimators': 150, 'min_child_weight': 1, 'max_depth': 12, 'max_delta_step': 0, 'learning_rate': 0.1, 'gamma': 0, 'colsample_bytree': 1, 'colsample_bylevel': 1, 'booster': 'gbtree', 'base_score': 0.5}\n",
      "CV Score:   9.764e-01\n",
      "\n",
      "XGBRegressor:\n",
      "Parameters:\n",
      "{'subsample': 1, 'silent': True, 'scale_pos_weight': 1, 'reg_lambda': 1, 'reg_alpha': 0, 'objective': 'reg:linear', 'nthread': None, 'n_jobs': 4, 'n_estimators': 200, 'min_child_weight': 1, 'max_depth': 10, 'max_delta_step': 0, 'learning_rate': 0.1, 'gamma': 0, 'colsample_bytree': 1, 'colsample_bylevel': 1, 'booster': 'gbtree', 'base_score': 0.5}\n",
      "CV Score:   9.760e-01\n",
      "\n",
      "XGBRegressor:\n",
      "Parameters:\n",
      "{'subsample': 1, 'silent': True, 'scale_pos_weight': 1, 'reg_lambda': 1, 'reg_alpha': 0, 'objective': 'reg:linear', 'nthread': None, 'n_jobs': 4, 'n_estimators': 150, 'min_child_weight': 1, 'max_depth': 9, 'max_delta_step': 0, 'learning_rate': 0.1, 'gamma': 0, 'colsample_bytree': 1, 'colsample_bylevel': 1, 'booster': 'gbtree', 'base_score': 0.5}\n",
      "CV Score:   9.745e-01\n",
      "\n",
      "XGBRegressor:\n",
      "Parameters:\n",
      "{'subsample': 1, 'silent': True, 'scale_pos_weight': 1, 'reg_lambda': 1, 'reg_alpha': 0, 'objective': 'reg:linear', 'nthread': None, 'n_jobs': 4, 'n_estimators': 150, 'min_child_weight': 1, 'max_depth': 8, 'max_delta_step': 0, 'learning_rate': 0.1, 'gamma': 0, 'colsample_bytree': 1, 'colsample_bylevel': 1, 'booster': 'gbtree', 'base_score': 0.5}\n",
      "CV Score:   9.734e-01\n",
      "\n",
      "XGBRegressor:\n",
      "Parameters:\n",
      "{'subsample': 1, 'silent': True, 'scale_pos_weight': 1, 'reg_lambda': 1, 'reg_alpha': 0, 'objective': 'reg:linear', 'nthread': None, 'n_jobs': 4, 'n_estimators': 200, 'min_child_weight': 1, 'max_depth': 7, 'max_delta_step': 0, 'learning_rate': 0.1, 'gamma': 0, 'colsample_bytree': 1, 'colsample_bylevel': 1, 'booster': 'gbtree', 'base_score': 0.5}\n",
      "CV Score:   9.727e-01\n",
      "\n",
      "XGBRegressor:\n",
      "Parameters:\n",
      "{'subsample': 1, 'silent': True, 'scale_pos_weight': 1, 'reg_lambda': 1, 'reg_alpha': 0, 'objective': 'reg:linear', 'nthread': None, 'n_jobs': 4, 'n_estimators': 200, 'min_child_weight': 1, 'max_depth': 6, 'max_delta_step': 0, 'learning_rate': 0.1, 'gamma': 0, 'colsample_bytree': 1, 'colsample_bylevel': 1, 'booster': 'gbtree', 'base_score': 0.5}\n",
      "CV Score:   9.713e-01\n",
      "\n",
      "XGBRegressor:\n",
      "Parameters:\n",
      "{'subsample': 1, 'silent': True, 'scale_pos_weight': 1, 'reg_lambda': 1, 'reg_alpha': 0, 'objective': 'reg:linear', 'nthread': None, 'n_jobs': 4, 'n_estimators': 50, 'min_child_weight': 1, 'max_depth': 5, 'max_delta_step': 0, 'learning_rate': 0.1, 'gamma': 0, 'colsample_bytree': 1, 'colsample_bylevel': 1, 'booster': 'gbtree', 'base_score': 0.5}\n",
      "CV Score:   9.647e-01\n",
      "\n",
      "\n",
      "\n"
     ]
    }
   ],
   "source": [
    "print(Sammy.Results(Resultats.bests(nb=10)))"
   ]
  },
  {
   "cell_type": "code",
   "execution_count": 16,
   "metadata": {},
   "outputs": [
    {
     "data": {
      "text/plain": [
       "(113926, 39)"
      ]
     },
     "execution_count": 16,
     "metadata": {},
     "output_type": "execute_result"
    }
   ],
   "source": [
    "X_train.shape"
   ]
  },
  {
   "cell_type": "code",
   "execution_count": 14,
   "metadata": {},
   "outputs": [
    {
     "name": "stdout",
     "output_type": "stream",
     "text": [
      "Testing XGBRegressor with parameters: {'subsample': 1, 'silent': True, 'scale_pos_weight': 1, 'reg_lambda': 1, 'reg_alpha': 0, 'objective': 'reg:linear', 'nthread': None, 'n_jobs': 4, 'n_estimators': 250, 'min_child_weight': 1, 'max_depth': 12, 'max_delta_step': 0, 'learning_rate': 0.1, 'gamma': 0, 'colsample_bytree': 1, 'colsample_bylevel': 1, 'booster': 'gbtree', 'base_score': 0.5}\n",
      "Test Score= 0.863882555807\n",
      "Testing XGBRegressor with parameters: {'subsample': 1, 'silent': True, 'scale_pos_weight': 1, 'reg_lambda': 1, 'reg_alpha': 0, 'objective': 'reg:linear', 'nthread': None, 'n_jobs': 4, 'n_estimators': 200, 'min_child_weight': 1, 'max_depth': 14, 'max_delta_step': 0, 'learning_rate': 0.1, 'gamma': 0, 'colsample_bytree': 1, 'colsample_bylevel': 1, 'booster': 'gbtree', 'base_score': 0.5}\n",
      "Test Score= 0.880543340992\n",
      "Testing XGBRegressor with parameters: {'subsample': 1, 'silent': True, 'scale_pos_weight': 1, 'reg_lambda': 1, 'reg_alpha': 0, 'objective': 'reg:linear', 'nthread': None, 'n_jobs': 4, 'n_estimators': 150, 'min_child_weight': 1, 'max_depth': 13, 'max_delta_step': 0, 'learning_rate': 0.1, 'gamma': 0, 'colsample_bytree': 1, 'colsample_bylevel': 1, 'booster': 'gbtree', 'base_score': 0.5}\n",
      "Test Score= 0.887704244049\n",
      "Testing XGBRegressor with parameters: {'subsample': 1, 'silent': True, 'scale_pos_weight': 1, 'reg_lambda': 1, 'reg_alpha': 0, 'objective': 'reg:linear', 'nthread': None, 'n_jobs': 4, 'n_estimators': 150, 'min_child_weight': 1, 'max_depth': 12, 'max_delta_step': 0, 'learning_rate': 0.1, 'gamma': 0, 'colsample_bytree': 1, 'colsample_bylevel': 1, 'booster': 'gbtree', 'base_score': 0.5}\n",
      "Test Score= 0.886456385928\n",
      "Testing XGBRegressor with parameters: {'subsample': 1, 'silent': True, 'scale_pos_weight': 1, 'reg_lambda': 1, 'reg_alpha': 0, 'objective': 'reg:linear', 'nthread': None, 'n_jobs': 4, 'n_estimators': 200, 'min_child_weight': 1, 'max_depth': 10, 'max_delta_step': 0, 'learning_rate': 0.1, 'gamma': 0, 'colsample_bytree': 1, 'colsample_bylevel': 1, 'booster': 'gbtree', 'base_score': 0.5}\n",
      "Test Score= 0.904052335821\n"
     ]
    }
   ],
   "source": [
    "Resultats.test(X_train, Y_train, X_test, Y_test, nb_test=5)"
   ]
  },
  {
   "cell_type": "code",
   "execution_count": 17,
   "metadata": {
    "collapsed": true
   },
   "outputs": [],
   "source": [
    "param={'subsample': 1, 'silent': True, 'scale_pos_weight': 1, 'reg_lambda': 1, 'reg_alpha': 0, 'objective': 'reg:linear', 'nthread': None, 'n_jobs': 4, 'n_estimators': 250, 'min_child_weight': 1, 'max_depth': 12, 'max_delta_step': 0, 'learning_rate': 0.1, 'gamma': 0, 'colsample_bytree': 1, 'colsample_bylevel': 1, 'booster': 'gbtree', 'base_score': 0.5}\n",
    "method=XGBRegressor(**param)\n",
    "predictor=method.fit(X_train, Y_train)"
   ]
  },
  {
   "cell_type": "code",
   "execution_count": 19,
   "metadata": {},
   "outputs": [
    {
     "name": "stdout",
     "output_type": "stream",
     "text": [
      "MSE = 0.863882555807\n",
      "R2 = 0.977995159473\n"
     ]
    }
   ],
   "source": [
    "Y_pred = predictor.predict(X_test)\n",
    "print(\"MSE =\",mean_squared_error(Y_test,Y_pred))\n",
    "print(\"R2 =\",r2_score(Y_test,Y_pred))"
   ]
  },
  {
   "cell_type": "code",
   "execution_count": 20,
   "metadata": {},
   "outputs": [
    {
     "name": "stdout",
     "output_type": "stream",
     "text": [
      "Months converted to int.\n",
      "Dummies added.\n",
      "Date transformed in week number.\n"
     ]
    },
    {
     "data": {
      "text/plain": [
       "'File ./../data_meteo/submission_XGB_13Dec_20h.csv generated.'"
      ]
     },
     "execution_count": 20,
     "metadata": {},
     "output_type": "execute_result"
    }
   ],
   "source": [
    "Annex.generate_submission_file('submission_XGB_13Dec_20h.csv', \n",
    "                         predictor, \n",
    "                         scaler, \n",
    "                         add_dummies=True, \n",
    "                         var_dummies=['insee','ddH10_rose4'], \n",
    "                         convert_month2int=True, \n",
    "                         date_method='week_number', \n",
    "                         fillna_method='zeros' )"
   ]
  },
  {
   "cell_type": "markdown",
   "metadata": {},
   "source": [
    "# Super Learner"
   ]
  },
  {
   "cell_type": "code",
   "execution_count": 5,
   "metadata": {
    "collapsed": true
   },
   "outputs": [],
   "source": [
    "mlp1=MLPRegressor(hidden_layer_sizes =(70,))\n",
    "mlp2=MLPRegressor(hidden_layer_sizes =(80,))\n",
    "xgb1=XGBRegressor(max_depth=6,n_estimators=150)\n",
    "xgb2=XGBRegressor(max_depth=7,n_estimators=150)\n",
    "nnet1=mlp1.fit(X_train, Y_train)\n",
    "nnet2=mlp2.fit(X_train, Y_train)\n",
    "xgboost1=xgb1.fit(X_train, Y_train)\n",
    "xgboost2=xgb2.fit(X_train, Y_train)"
   ]
  },
  {
   "cell_type": "code",
   "execution_count": 12,
   "metadata": {
    "collapsed": true
   },
   "outputs": [],
   "source": [
    "xgb3=XGBRegressor(max_depth=7,n_estimators=150)\n",
    "xgboost3=xgb3.fit(X_train, Y_train)"
   ]
  },
  {
   "cell_type": "code",
   "execution_count": 6,
   "metadata": {},
   "outputs": [
    {
     "data": {
      "text/plain": [
       "(4,)"
      ]
     },
     "execution_count": 6,
     "metadata": {},
     "output_type": "execute_result"
    }
   ],
   "source": [
    "ypred1=nnet1.predict(X_test)\n",
    "ypred2=nnet2.predict(X_test)\n",
    "ypred3=xgboost1.predict(X_test)\n",
    "ypred4=xgboost2.predict(X_test)\n",
    "L2=len(ypred1)\n",
    "X_super_test=np.concatenate([ypred1.reshape(L2,1),ypred2.reshape(L2,1),ypred3.reshape(L2,1),ypred4.reshape(L2,1)],axis=1)\n",
    "Y_PRED=X_super_test.mean(axis=0)\n",
    "Y_PRED.shape"
   ]
  },
  {
   "cell_type": "code",
   "execution_count": 13,
   "metadata": {},
   "outputs": [
    {
     "ename": "AttributeError",
     "evalue": "'numpy.ndarray' object has no attribute 'dtypes'",
     "output_type": "error",
     "traceback": [
      "\u001b[1;31m---------------------------------------------------------------------------\u001b[0m",
      "\u001b[1;31mAttributeError\u001b[0m                            Traceback (most recent call last)",
      "\u001b[1;32m<ipython-input-13-29a444d30ceb>\u001b[0m in \u001b[0;36m<module>\u001b[1;34m()\u001b[0m\n\u001b[1;32m----> 1\u001b[1;33m \u001b[0mX_train\u001b[0m\u001b[1;33m.\u001b[0m\u001b[0mdtypes\u001b[0m\u001b[1;33m\u001b[0m\u001b[0m\n\u001b[0m",
      "\u001b[1;31mAttributeError\u001b[0m: 'numpy.ndarray' object has no attribute 'dtypes'"
     ]
    }
   ],
   "source": []
  },
  {
   "cell_type": "code",
   "execution_count": 10,
   "metadata": {
    "collapsed": true
   },
   "outputs": [],
   "source": [
    "ypredtrain1=nnet1.predict(X_train)\n",
    "ypredtrain2=nnet2.predict(X_train)\n",
    "ypredtrain3=xgboost1.predict(X_train)\n",
    "L=len(ypredtrain1)\n",
    "X_super_train=np.concatenate([ypredtrain1.reshape(L,1),ypredtrain2.reshape(L,1),ypredtrain3.reshape(L,1)],axis=1)\n",
    "\n",
    "\n",
    "\n",
    "\n"
   ]
  },
  {
   "cell_type": "code",
   "execution_count": 24,
   "metadata": {
    "collapsed": true
   },
   "outputs": [],
   "source": [
    "#SuperLearner=LinearRegression()\n",
    "SuperLearner=MLPRegressor(hidden_layer_sizes=(50,))\n",
    "SuperLearner=SuperLearner.fit(X_super_train, Y_train)"
   ]
  },
  {
   "cell_type": "code",
   "execution_count": 25,
   "metadata": {},
   "outputs": [
    {
     "name": "stdout",
     "output_type": "stream",
     "text": [
      "MSE = 1.0993138716\n",
      "R2 = 0.971998246438\n"
     ]
    }
   ],
   "source": [
    "Y_pred = SuperLearner.predict(X_super_test)\n",
    "print(\"MSE =\",mean_squared_error(Y_test,Y_pred))\n",
    "print(\"R2 =\",r2_score(Y_test,Y_pred))"
   ]
  },
  {
   "cell_type": "code",
   "execution_count": 15,
   "metadata": {},
   "outputs": [
    {
     "name": "stdout",
     "output_type": "stream",
     "text": [
      "Months converted to int.\n",
      "Dummies added.\n",
      "Date transformed in a projection of the week number on a circle.\n",
      "(21168,)\n"
     ]
    },
    {
     "data": {
      "text/plain": [
       "'File ./../data_meteo/submission_weekC_2NN_3XGB_19Dec2017_19h.csv generated.'"
      ]
     },
     "execution_count": 15,
     "metadata": {},
     "output_type": "execute_result"
    }
   ],
   "source": [
    "Annex.generate_submission_file('submission_weekC_2NN_3XGB_19Dec2017_19h.csv', \n",
    "                         [nnet1,nnet2,xgboost1,xgboost2,xgboost3,None], \n",
    "                         scaler, \n",
    "                         add_dummies=True, \n",
    "                         var_dummies=['insee','ddH10_rose4'], \n",
    "                         convert_month2int=True, \n",
    "                         date_method='week_circle', \n",
    "                         fillna_method='imputer' )"
   ]
  },
  {
   "cell_type": "code",
   "execution_count": null,
   "metadata": {
    "collapsed": true
   },
   "outputs": [],
   "source": []
  }
 ],
 "metadata": {
  "kernelspec": {
   "display_name": "Python 3",
   "language": "python",
   "name": "python3"
  },
  "language_info": {
   "codemirror_mode": {
    "name": "ipython",
    "version": 3
   },
   "file_extension": ".py",
   "mimetype": "text/x-python",
   "name": "python",
   "nbconvert_exporter": "python",
   "pygments_lexer": "ipython3",
   "version": "3.6.2"
  }
 },
 "nbformat": 4,
 "nbformat_minor": 2
}
